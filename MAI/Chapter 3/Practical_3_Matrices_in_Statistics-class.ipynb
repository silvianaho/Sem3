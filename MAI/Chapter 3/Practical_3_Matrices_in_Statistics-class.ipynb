{
 "cells": [
  {
   "cell_type": "markdown",
   "metadata": {},
   "source": [
    "# Practical 3: Applications of Matrices in Statistics"
   ]
  },
  {
   "cell_type": "markdown",
   "metadata": {},
   "source": [
    "In a study on the cost of transporting milk from farms to dairy plants, a survey was taken of firms engaged in milk transportation. Cost data on $X_1$ = fuel, $X_2$ = repair and $X_3$ = capital, all measured on a per-mile basis from 34 firms were taken. The table below shows part of the data collected."
   ]
  },
  {
   "cell_type": "markdown",
   "metadata": {},
   "source": [
    "| Fuel ($X_1$) | Repair ($X_2$) | Capital ($X_3$) |\n",
    "| --- | --- | --- |\n",
    "| 16.44 | 12.43 | 11.23 |\n",
    "| 7.19 | 2.7 | 3.92 |\n",
    "| ⋮ | ⋮ | ⋮ |\n",
    "| 17.32 | 6.86 | 4.44 |"
   ]
  },
  {
   "cell_type": "markdown",
   "metadata": {},
   "source": [
    "(a) Plot a scatter matrix to visualise the relationship between $X_1$, $X_2$ and $X_3$. Are the data approximately multivariate normal?"
   ]
  },
  {
   "cell_type": "code",
   "execution_count": 1,
   "metadata": {},
   "outputs": [],
   "source": [
    "import numpy as np\n",
    "import pandas as pd\n",
    "import seaborn as sns; sns.set()\n",
    "import matplotlib.pyplot as plt\n",
    "import os"
   ]
  },
  {
   "cell_type": "code",
   "execution_count": 2,
   "metadata": {},
   "outputs": [
    {
     "data": {
      "text/html": [
       "<div>\n",
       "<style scoped>\n",
       "    .dataframe tbody tr th:only-of-type {\n",
       "        vertical-align: middle;\n",
       "    }\n",
       "\n",
       "    .dataframe tbody tr th {\n",
       "        vertical-align: top;\n",
       "    }\n",
       "\n",
       "    .dataframe thead th {\n",
       "        text-align: right;\n",
       "    }\n",
       "</style>\n",
       "<table border=\"1\" class=\"dataframe\">\n",
       "  <thead>\n",
       "    <tr style=\"text-align: right;\">\n",
       "      <th></th>\n",
       "      <th>Fuel</th>\n",
       "      <th>Repair</th>\n",
       "      <th>Capital</th>\n",
       "    </tr>\n",
       "  </thead>\n",
       "  <tbody>\n",
       "    <tr>\n",
       "      <th>0</th>\n",
       "      <td>16.44</td>\n",
       "      <td>12.43</td>\n",
       "      <td>11.23</td>\n",
       "    </tr>\n",
       "    <tr>\n",
       "      <th>1</th>\n",
       "      <td>7.19</td>\n",
       "      <td>2.70</td>\n",
       "      <td>3.92</td>\n",
       "    </tr>\n",
       "    <tr>\n",
       "      <th>2</th>\n",
       "      <td>9.92</td>\n",
       "      <td>1.35</td>\n",
       "      <td>9.75</td>\n",
       "    </tr>\n",
       "    <tr>\n",
       "      <th>3</th>\n",
       "      <td>4.24</td>\n",
       "      <td>5.78</td>\n",
       "      <td>7.78</td>\n",
       "    </tr>\n",
       "    <tr>\n",
       "      <th>4</th>\n",
       "      <td>11.20</td>\n",
       "      <td>5.05</td>\n",
       "      <td>10.67</td>\n",
       "    </tr>\n",
       "  </tbody>\n",
       "</table>\n",
       "</div>"
      ],
      "text/plain": [
       "    Fuel  Repair  Capital\n",
       "0  16.44   12.43    11.23\n",
       "1   7.19    2.70     3.92\n",
       "2   9.92    1.35     9.75\n",
       "3   4.24    5.78     7.78\n",
       "4  11.20    5.05    10.67"
      ]
     },
     "execution_count": 2,
     "metadata": {},
     "output_type": "execute_result"
    }
   ],
   "source": [
    "data = pd.read_csv(\"./Practical3.csv\")\n",
    "data.head()"
   ]
  },
  {
   "cell_type": "code",
   "execution_count": 3,
   "metadata": {},
   "outputs": [
    {
     "data": {
      "text/plain": [
       "array([[16.44, 12.43, 11.23],\n",
       "       [ 7.19,  2.7 ,  3.92],\n",
       "       [ 9.92,  1.35,  9.75],\n",
       "       [ 4.24,  5.78,  7.78],\n",
       "       [11.2 ,  5.05, 10.67],\n",
       "       [14.25,  5.78,  9.88],\n",
       "       [13.5 , 10.98, 10.6 ],\n",
       "       [13.32, 14.27,  9.45],\n",
       "       [12.68,  7.61, 10.23],\n",
       "       [ 7.51,  5.8 ,  8.13],\n",
       "       [ 9.9 ,  3.63,  9.13],\n",
       "       [10.25,  5.07, 10.17],\n",
       "       [11.11,  6.15,  7.61],\n",
       "       [12.17, 14.26, 14.39],\n",
       "       [10.24,  2.59,  6.09],\n",
       "       [10.18,  6.05, 12.14],\n",
       "       [ 8.88,  2.7 , 12.23],\n",
       "       [12.34,  7.73, 11.68],\n",
       "       [ 8.51, 14.02, 12.01],\n",
       "       [12.95,  8.24,  7.18],\n",
       "       [16.93, 13.37, 17.59],\n",
       "       [14.7 , 10.78, 14.58],\n",
       "       [10.32,  5.16, 17.  ],\n",
       "       [ 8.98,  4.49,  4.26],\n",
       "       [ 9.7 , 11.59,  6.83],\n",
       "       [12.72,  8.63,  5.59],\n",
       "       [ 9.49,  2.16,  6.23],\n",
       "       [ 8.22,  7.95,  6.72],\n",
       "       [13.7 , 11.22,  4.91],\n",
       "       [ 8.21,  9.85,  8.17],\n",
       "       [15.86, 11.42, 13.06],\n",
       "       [ 9.18,  9.18,  9.49],\n",
       "       [12.49,  4.67, 11.94],\n",
       "       [17.32,  6.86,  4.44]])"
      ]
     },
     "execution_count": 3,
     "metadata": {},
     "output_type": "execute_result"
    }
   ],
   "source": [
    "data.to_numpy()"
   ]
  },
  {
   "cell_type": "code",
   "execution_count": 4,
   "metadata": {},
   "outputs": [
    {
     "data": {
      "text/plain": [
       "<Figure size 432x288 with 0 Axes>"
      ]
     },
     "metadata": {},
     "output_type": "display_data"
    },
    {
     "data": {
      "image/png": "[encoded data removed]",
      "text/plain": [
       "<Figure size 540x540 with 12 Axes>"
      ]
     },
     "metadata": {},
     "output_type": "display_data"
    }
   ],
   "source": [
    "plt.clf()\n",
    "sm = sns.pairplot(data)\n",
    "plt.show()"
   ]
  },
  {
   "cell_type": "markdown",
   "metadata": {},
   "source": [
    "(b) Find the sample mean vector, sample covariance matrix and sample correlation matrix of **<span style='font-family:\"Times New Roman\"'> <span styel=''><font size=\"4\">X<font>**."
   ]
  },
  {
   "cell_type": "code",
   "execution_count": 5,
   "metadata": {},
   "outputs": [],
   "source": [
    "#Find sample mean vector. axis=0 indicates each column in the data matrix is a variable.\n",
    "x_bar = np.mean(data, axis=0)"
   ]
  },
  {
   "cell_type": "code",
   "execution_count": 6,
   "metadata": {},
   "outputs": [
    {
     "data": {
      "text/plain": [
       "Fuel       11.311765\n",
       "Repair      7.632941\n",
       "Capital     9.561176\n",
       "dtype: float64"
      ]
     },
     "execution_count": 6,
     "metadata": {},
     "output_type": "execute_result"
    }
   ],
   "source": [
    "x_bar"
   ]
  },
  {
   "cell_type": "code",
   "execution_count": 7,
   "metadata": {},
   "outputs": [],
   "source": [
    "# Find sample covariance matrix. rowvar=0 indicates each column in the data matrix is a variable. \n",
    "C = np.cov(data, rowvar=0)"
   ]
  },
  {
   "cell_type": "code",
   "execution_count": 8,
   "metadata": {},
   "outputs": [
    {
     "data": {
      "text/plain": [
       "array([[ 9.02502103,  5.1557492 ,  3.20167059],\n",
       "       [ 5.1557492 , 14.25869412,  4.31894492],\n",
       "       [ 3.20167059,  4.31894492, 11.98734403]])"
      ]
     },
     "execution_count": 8,
     "metadata": {},
     "output_type": "execute_result"
    }
   ],
   "source": [
    "C"
   ]
  },
  {
   "cell_type": "code",
   "execution_count": 9,
   "metadata": {},
   "outputs": [],
   "source": [
    "#Find sample correlation matrix\n",
    "R = np.corrcoef(data, rowvar=0)"
   ]
  },
  {
   "cell_type": "code",
   "execution_count": 10,
   "metadata": {},
   "outputs": [
    {
     "data": {
      "text/plain": [
       "array([[1.        , 0.45449362, 0.3078159 ],\n",
       "       [0.45449362, 1.        , 0.33035152],\n",
       "       [0.3078159 , 0.33035152, 1.        ]])"
      ]
     },
     "execution_count": 10,
     "metadata": {},
     "output_type": "execute_result"
    }
   ],
   "source": [
    "R"
   ]
  },
  {
   "cell_type": "markdown",
   "metadata": {},
   "source": [
    "(c) Find the generalised sample variance and total sample variance."
   ]
  },
  {
   "cell_type": "code",
   "execution_count": 11,
   "metadata": {},
   "outputs": [
    {
     "data": {
      "text/plain": [
       "1052.024887663679"
      ]
     },
     "execution_count": 11,
     "metadata": {},
     "output_type": "execute_result"
    }
   ],
   "source": [
    "#Find generalised sample variance\n",
    "np.linalg.det(C)"
   ]
  },
  {
   "cell_type": "code",
   "execution_count": 12,
   "metadata": {},
   "outputs": [
    {
     "data": {
      "text/plain": [
       "35.27105918003564"
      ]
     },
     "execution_count": 12,
     "metadata": {},
     "output_type": "execute_result"
    }
   ],
   "source": [
    "np.trace(C)"
   ]
  },
  {
   "cell_type": "markdown",
   "metadata": {},
   "source": [
    "(d) Compute the sample mean and sample variance of a firm’s operational cost of transporting milk per mile, which comprises of fuel cost and repair cost."
   ]
  },
  {
   "cell_type": "markdown",
   "metadata": {},
   "source": [
    "Let the operational cost of transporting milk be $Y_1$.<br>\n",
    "$Y_1 = X_1 + X_2$"
   ]
  },
  {
   "cell_type": "code",
   "execution_count": 13,
   "metadata": {},
   "outputs": [
    {
     "data": {
      "text/plain": [
       "0    28.87\n",
       "1     9.89\n",
       "2    11.27\n",
       "3    10.02\n",
       "4    16.25\n",
       "dtype: float64"
      ]
     },
     "execution_count": 13,
     "metadata": {},
     "output_type": "execute_result"
    }
   ],
   "source": [
    "#Find the data of operational cost\n",
    "y1 = data.loc[:,'Fuel'] + data.loc[:,'Repair']\n",
    "y1.head()"
   ]
  },
  {
   "cell_type": "code",
   "execution_count": 14,
   "metadata": {},
   "outputs": [
    {
     "data": {
      "text/plain": [
       "18.94470588235294"
      ]
     },
     "execution_count": 14,
     "metadata": {},
     "output_type": "execute_result"
    }
   ],
   "source": [
    "#Find sample mean of operational cost\n",
    "y1_bar = np.mean(y1, axis=0)\n",
    "y1_bar"
   ]
  },
  {
   "cell_type": "code",
   "execution_count": 15,
   "metadata": {},
   "outputs": [
    {
     "data": {
      "text/plain": [
       "array(33.59521355)"
      ]
     },
     "execution_count": 15,
     "metadata": {},
     "output_type": "execute_result"
    }
   ],
   "source": [
    "#Find sample variance of operational cost\n",
    "y1_C = np.cov(y1, rowvar=0)\n",
    "y1_C"
   ]
  },
  {
   "cell_type": "markdown",
   "metadata": {},
   "source": [
    "(e) Compute the sample mean and sample variance of a firm’s total cost of ownership of the trucks per mile for transporting milk, which comprises of fuel cost, repair cost and capital cost."
   ]
  },
  {
   "cell_type": "code",
   "execution_count": 16,
   "metadata": {},
   "outputs": [
    {
     "data": {
      "text/plain": [
       "0    40.10\n",
       "1    13.81\n",
       "2    21.02\n",
       "3    17.80\n",
       "4    26.92\n",
       "dtype: float64"
      ]
     },
     "execution_count": 16,
     "metadata": {},
     "output_type": "execute_result"
    }
   ],
   "source": [
    "# Y2 = X1 + X2 + X3\n",
    "y2 = data.loc[:,'Fuel'] + data.loc[:,'Repair'] + data.loc[:,'Capital']\n",
    "y2.head()"
   ]
  },
  {
   "cell_type": "code",
   "execution_count": 17,
   "metadata": {},
   "outputs": [
    {
     "data": {
      "text/plain": [
       "28.505882352941182"
      ]
     },
     "execution_count": 17,
     "metadata": {},
     "output_type": "execute_result"
    }
   ],
   "source": [
    "#Find sample mean of total cost of ownership\n",
    "y2_bar = np.mean(y2, axis=0)\n",
    "y2_bar"
   ]
  },
  {
   "cell_type": "code",
   "execution_count": 18,
   "metadata": {},
   "outputs": [
    {
     "data": {
      "text/plain": [
       "array(60.62378859)"
      ]
     },
     "execution_count": 18,
     "metadata": {},
     "output_type": "execute_result"
    }
   ],
   "source": [
    "#Find sample variance of total cost of ownership\n",
    "y2_C = np.cov(y2, rowvar=0)\n",
    "y2_C"
   ]
  },
  {
   "cell_type": "markdown",
   "metadata": {},
   "source": [
    "(f) Determine the sample sample covariance matrix for the variables in parts (d) and (e)."
   ]
  },
  {
   "cell_type": "code",
   "execution_count": 19,
   "metadata": {},
   "outputs": [
    {
     "data": {
      "text/html": [
       "<div>\n",
       "<style scoped>\n",
       "    .dataframe tbody tr th:only-of-type {\n",
       "        vertical-align: middle;\n",
       "    }\n",
       "\n",
       "    .dataframe tbody tr th {\n",
       "        vertical-align: top;\n",
       "    }\n",
       "\n",
       "    .dataframe thead th {\n",
       "        text-align: right;\n",
       "    }\n",
       "</style>\n",
       "<table border=\"1\" class=\"dataframe\">\n",
       "  <thead>\n",
       "    <tr style=\"text-align: right;\">\n",
       "      <th></th>\n",
       "      <th>0</th>\n",
       "      <th>1</th>\n",
       "    </tr>\n",
       "  </thead>\n",
       "  <tbody>\n",
       "    <tr>\n",
       "      <th>0</th>\n",
       "      <td>28.87</td>\n",
       "      <td>40.10</td>\n",
       "    </tr>\n",
       "    <tr>\n",
       "      <th>1</th>\n",
       "      <td>9.89</td>\n",
       "      <td>13.81</td>\n",
       "    </tr>\n",
       "    <tr>\n",
       "      <th>2</th>\n",
       "      <td>11.27</td>\n",
       "      <td>21.02</td>\n",
       "    </tr>\n",
       "    <tr>\n",
       "      <th>3</th>\n",
       "      <td>10.02</td>\n",
       "      <td>17.80</td>\n",
       "    </tr>\n",
       "    <tr>\n",
       "      <th>4</th>\n",
       "      <td>16.25</td>\n",
       "      <td>26.92</td>\n",
       "    </tr>\n",
       "  </tbody>\n",
       "</table>\n",
       "</div>"
      ],
      "text/plain": [
       "       0      1\n",
       "0  28.87  40.10\n",
       "1   9.89  13.81\n",
       "2  11.27  21.02\n",
       "3  10.02  17.80\n",
       "4  16.25  26.92"
      ]
     },
     "execution_count": 19,
     "metadata": {},
     "output_type": "execute_result"
    }
   ],
   "source": [
    "Y = pd.concat([y1, y2], axis=1)\n",
    "Y.head()"
   ]
  },
  {
   "cell_type": "code",
   "execution_count": 20,
   "metadata": {},
   "outputs": [
    {
     "data": {
      "text/plain": [
       "array([[33.59521355, 41.11582906],\n",
       "       [41.11582906, 60.62378859]])"
      ]
     },
     "execution_count": 20,
     "metadata": {},
     "output_type": "execute_result"
    }
   ],
   "source": [
    "Cy = np.cov(Y, rowvar=0)\n",
    "Cy"
   ]
  },
  {
   "cell_type": "code",
   "execution_count": null,
   "metadata": {},
   "outputs": [],
   "source": []
  }
 ],
 "metadata": {
  "kernelspec": {
   "display_name": "Python 3",
   "language": "python",
   "name": "python3"
  },
  "language_info": {
   "codemirror_mode": {
    "name": "ipython",
    "version": 3
   },
   "file_extension": ".py",
   "mimetype": "text/x-python",
   "name": "python",
   "nbconvert_exporter": "python",
   "pygments_lexer": "ipython3",
   "version": "3.7.3"
  },
  "toc": {
   "base_numbering": 1,
   "nav_menu": {},
   "number_sections": true,
   "sideBar": true,
   "skip_h1_title": false,
   "title_cell": "Table of Contents",
   "title_sidebar": "Contents",
   "toc_cell": false,
   "toc_position": {},
   "toc_section_display": true,
   "toc_window_display": false
  }
 },
 "nbformat": 4,
 "nbformat_minor": 2
}
