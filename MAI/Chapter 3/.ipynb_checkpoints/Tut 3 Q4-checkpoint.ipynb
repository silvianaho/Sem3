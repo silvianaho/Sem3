{
 "cells": [
  {
   "cell_type": "code",
   "execution_count": 2,
   "metadata": {},
   "outputs": [
    {
     "name": "stdout",
     "output_type": "stream",
     "text": [
      "numpy version: 1.18.1\n",
      "pandas version: 1.0.3\n"
     ]
    }
   ],
   "source": [
    "import numpy as np\n",
    "import pandas as pd\n",
    "\n",
    "print(\"numpy version: {}\".format(np.__version__))\n",
    "print(\"pandas version: {}\".format(pd.__version__))"
   ]
  },
  {
   "cell_type": "markdown",
   "metadata": {},
   "source": [
    "The following is a simple scenario of data taken from a telemarketing company. The number of successful phone solicitations in 5 days of a particular week by a part-time (PT) and a full-time (FT) employee is recorded in the table below:\n",
    "<!-- \n",
    "|Description|\n",
    "|-------------------------|-|-|-|-|-|\n",
    "|X1: Number by PT employee|1|4|2|5|3|\n",
    "|-------------------------|-|-|-|-|-|\n",
    " -->\n",
    "\n",
    "|Day|X1: Number by PT employee|X2: Number by FT employee|\n",
    "|---|-------------------------|-------------------------|\n",
    "|1  |1|9\n",
    "|2  |4|12\n",
    "|3  |2|10\n",
    "|4  |5|8\n",
    "|5  |3|11"
   ]
  },
  {
   "cell_type": "markdown",
   "metadata": {},
   "source": [
    "### (a) Find the <mark>sample mean vector</mark> and <mark>sample covariance matrix</mark> of data X. <mark>Interpret</mark> the matrices, and explain the <mark>correlation</mark> between X1 and X2."
   ]
  },
  {
   "cell_type": "code",
   "execution_count": 6,
   "metadata": {},
   "outputs": [
    {
     "name": "stdout",
     "output_type": "stream",
     "text": [
      "X = [[ 1  9]\n",
      " [ 4 12]\n",
      " [ 2 10]\n",
      " [ 5  8]\n",
      " [ 3 11]]\n"
     ]
    }
   ],
   "source": [
    "X = np.array([[1, 9],\n",
    "              [4, 12],\n",
    "              [2, 10],\n",
    "              [5, 8],\n",
    "              [3, 11]\n",
    "             ])\n",
    "\n",
    "print(\"X = {}\".format(X))"
   ]
  },
  {
   "cell_type": "code",
   "execution_count": 21,
   "metadata": {
    "scrolled": true
   },
   "outputs": [
    {
     "name": "stdout",
     "output_type": "stream",
     "text": [
      "x̄=[[ 3.]\n",
      " [10.]]\n"
     ]
    }
   ],
   "source": [
    "# Find the sample mean vector of data X \n",
    "x_bar = np.mean(X, axis=0)\n",
    "print(\"x̄={}\".format(x_bar.reshape(-1, 1)))"
   ]
  },
  {
   "cell_type": "code",
   "execution_count": 22,
   "metadata": {},
   "outputs": [
    {
     "name": "stdout",
     "output_type": "stream",
     "text": [
      "C=[[2.5 0. ]\n",
      " [0.  2.5]]\n"
     ]
    }
   ],
   "source": [
    "# Find the sample covariance matrix of data X \n",
    "x_C = np.cov(X, rowvar=0)\n",
    "print(\"C={}\".format(x_C))"
   ]
  },
  {
   "cell_type": "code",
   "execution_count": 24,
   "metadata": {},
   "outputs": [
    {
     "data": {
      "text/plain": [
       "array([[1., 0.],\n",
       "       [0., 1.]])"
      ]
     },
     "execution_count": 24,
     "metadata": {},
     "output_type": "execute_result"
    }
   ],
   "source": [
    "x_R = np.corrcoef(X, rowvar=0)\n",
    "x_R"
   ]
  },
  {
   "cell_type": "markdown",
   "metadata": {},
   "source": [
    "#### Interpretation\n",
    "#### Correlation"
   ]
  },
  {
   "cell_type": "markdown",
   "metadata": {},
   "source": [
    "Abby, an administration executive of the company, decided to create three extra variables for her records for the 5 days:<br>\n",
    "Y1: Total number of successful phone solicitations<br>\n",
    "Y2: Average number of successful phone solicitations<br>\n",
    "Y3: Difference in number of successful phone solicitations between FT and PT (FT – PT)"
   ]
  },
  {
   "cell_type": "markdown",
   "metadata": {},
   "source": [
    "### (b) Express Y1, Y2 and Y3 as linear combinations of X1 and X2."
   ]
  },
  {
   "cell_type": "markdown",
   "metadata": {},
   "source": [
    "Let the Total number of successful phone solicitations be $Y_1$.<br>\n",
    "$Y_1 = X_1 + X_2$"
   ]
  },
  {
   "cell_type": "code",
   "execution_count": 29,
   "metadata": {},
   "outputs": [
    {
     "data": {
      "text/plain": [
       "array([10, 16, 12, 13, 14])"
      ]
     },
     "execution_count": 29,
     "metadata": {},
     "output_type": "execute_result"
    }
   ],
   "source": [
    "# Total number of successful phone solicitations\n",
    "y1 = X[:, 0] + X[:, 1]\n",
    "y1"
   ]
  },
  {
   "cell_type": "markdown",
   "metadata": {},
   "source": [
    "Let the average number of successful phone solicitations be $Y_2$.<br>\n",
    "$Y_2 = \\frac{X_1 + X_2}{2}$"
   ]
  },
  {
   "cell_type": "code",
   "execution_count": 30,
   "metadata": {},
   "outputs": [
    {
     "data": {
      "text/plain": [
       "array([5. , 8. , 6. , 6.5, 7. ])"
      ]
     },
     "execution_count": 30,
     "metadata": {},
     "output_type": "execute_result"
    }
   ],
   "source": [
    "# Average number of successful phone solicitations\n",
    "y2 = y1/2\n",
    "y2"
   ]
  },
  {
   "cell_type": "markdown",
   "metadata": {},
   "source": [
    "Let the difference in number of successful phone solicitations between FT and PT be $Y_3$.<br>\n",
    "$Y_3 = |X_2 - X_1|$"
   ]
  },
  {
   "cell_type": "code",
   "execution_count": 33,
   "metadata": {},
   "outputs": [
    {
     "data": {
      "text/plain": [
       "array([8, 8, 8, 3, 8])"
      ]
     },
     "execution_count": 33,
     "metadata": {},
     "output_type": "execute_result"
    }
   ],
   "source": [
    "# Difference in number of successful phone solicitations between FT and PT (FT – PT)\n",
    "y3 = np.absolute(X[:, 1] - X[:, 0])\n",
    "y3"
   ]
  },
  {
   "cell_type": "markdown",
   "metadata": {},
   "source": [
    "### (c) Find the sample mean vector and sample covariance matrix of the transformed data Y."
   ]
  },
  {
   "cell_type": "code",
   "execution_count": 43,
   "metadata": {},
   "outputs": [
    {
     "data": {
      "text/html": [
       "<div>\n",
       "<style scoped>\n",
       "    .dataframe tbody tr th:only-of-type {\n",
       "        vertical-align: middle;\n",
       "    }\n",
       "\n",
       "    .dataframe tbody tr th {\n",
       "        vertical-align: top;\n",
       "    }\n",
       "\n",
       "    .dataframe thead th {\n",
       "        text-align: right;\n",
       "    }\n",
       "</style>\n",
       "<table border=\"1\" class=\"dataframe\">\n",
       "  <thead>\n",
       "    <tr style=\"text-align: right;\">\n",
       "      <th></th>\n",
       "      <th>Y1</th>\n",
       "      <th>Y2</th>\n",
       "      <th>Y3</th>\n",
       "    </tr>\n",
       "  </thead>\n",
       "  <tbody>\n",
       "    <tr>\n",
       "      <th>0</th>\n",
       "      <td>10</td>\n",
       "      <td>5.0</td>\n",
       "      <td>8</td>\n",
       "    </tr>\n",
       "    <tr>\n",
       "      <th>1</th>\n",
       "      <td>16</td>\n",
       "      <td>8.0</td>\n",
       "      <td>8</td>\n",
       "    </tr>\n",
       "    <tr>\n",
       "      <th>2</th>\n",
       "      <td>12</td>\n",
       "      <td>6.0</td>\n",
       "      <td>8</td>\n",
       "    </tr>\n",
       "    <tr>\n",
       "      <th>3</th>\n",
       "      <td>13</td>\n",
       "      <td>6.5</td>\n",
       "      <td>3</td>\n",
       "    </tr>\n",
       "    <tr>\n",
       "      <th>4</th>\n",
       "      <td>14</td>\n",
       "      <td>7.0</td>\n",
       "      <td>8</td>\n",
       "    </tr>\n",
       "  </tbody>\n",
       "</table>\n",
       "</div>"
      ],
      "text/plain": [
       "   Y1   Y2  Y3\n",
       "0  10  5.0   8\n",
       "1  16  8.0   8\n",
       "2  12  6.0   8\n",
       "3  13  6.5   3\n",
       "4  14  7.0   8"
      ]
     },
     "execution_count": 43,
     "metadata": {},
     "output_type": "execute_result"
    }
   ],
   "source": [
    "Y = pd.DataFrame({'Y1': y1, 'Y2': y2, 'Y3': y3})\n",
    "Y"
   ]
  },
  {
   "cell_type": "code",
   "execution_count": 46,
   "metadata": {},
   "outputs": [
    {
     "data": {
      "text/plain": [
       "Y1    13.0\n",
       "Y2     6.5\n",
       "Y3     7.0\n",
       "dtype: float64"
      ]
     },
     "execution_count": 46,
     "metadata": {},
     "output_type": "execute_result"
    }
   ],
   "source": [
    "# sample mean vector\n",
    "y_bar = np.mean(Y, axis=0)\n",
    "y_bar"
   ]
  },
  {
   "cell_type": "code",
   "execution_count": 47,
   "metadata": {},
   "outputs": [
    {
     "data": {
      "text/plain": [
       "array([[5.  , 2.5 , 0.  ],\n",
       "       [2.5 , 1.25, 0.  ],\n",
       "       [0.  , 0.  , 5.  ]])"
      ]
     },
     "execution_count": 47,
     "metadata": {},
     "output_type": "execute_result"
    }
   ],
   "source": [
    "# sample covariance matrix\n",
    "y_C = np.cov(Y, rowvar=0)\n",
    "y_C"
   ]
  }
 ],
 "metadata": {
  "kernelspec": {
   "display_name": "Python 3",
   "language": "python",
   "name": "python3"
  },
  "language_info": {
   "codemirror_mode": {
    "name": "ipython",
    "version": 3
   },
   "file_extension": ".py",
   "mimetype": "text/x-python",
   "name": "python",
   "nbconvert_exporter": "python",
   "pygments_lexer": "ipython3",
   "version": "3.7.3"
  },
  "toc": {
   "base_numbering": 1,
   "nav_menu": {},
   "number_sections": false,
   "sideBar": true,
   "skip_h1_title": false,
   "title_cell": "Table of Contents",
   "title_sidebar": "Contents",
   "toc_cell": false,
   "toc_position": {},
   "toc_section_display": true,
   "toc_window_display": false
  }
 },
 "nbformat": 4,
 "nbformat_minor": 4
}
