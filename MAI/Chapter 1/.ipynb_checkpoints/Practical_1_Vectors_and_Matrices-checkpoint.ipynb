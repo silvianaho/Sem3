{
 "cells": [
  {
   "cell_type": "markdown",
   "metadata": {},
   "source": [
    "# Practical 1: Vectors & Matrices\n"
   ]
  },
  {
   "cell_type": "markdown",
   "metadata": {},
   "source": [
    "Many machine learning algorithms make use of matrices to store and process data. \n",
    "For example, a deep learning algorithm makes use of matrices to store inputs such as \n",
    "images, tweets, or text to solve problems. An artificial neural network makes use of \n",
    "matrices to store information such as weights during training. A familiarity with \n",
    "matrices and vectors is hence important.\n",
    "\n",
    "In this practical we will learn some of the fundamentals of matrices and vectors."
   ]
  },
  {
   "cell_type": "markdown",
   "metadata": {},
   "source": [
    "A **vector** can be represented as a list in Python.\n",
    "For example:"
   ]
  },
  {
   "cell_type": "code",
   "execution_count": null,
   "metadata": {
    "collapsed": true
   },
   "outputs": [],
   "source": [
    "v = [ 1, 4, 2]\n",
    "print(v)"
   ]
  },
  {
   "cell_type": "markdown",
   "metadata": {},
   "source": [
    "A **matrix** is a 2D array which stores numbers. \n",
    "Alternatively, a matrix can also be thought of as \n",
    "a list of vectors.\n",
    "\n",
    "An example:"
   ]
  },
  {
   "cell_type": "code",
   "execution_count": null,
   "metadata": {
    "collapsed": true
   },
   "outputs": [],
   "source": [
    "A = [[1,4,2],[0,6,3],[3,5,6]]\n",
    "print(A)"
   ]
  },
  {
   "cell_type": "markdown",
   "metadata": {},
   "source": [
    "An alternative way to work with vectors and matrices is\n",
    "to use the **NumPy** module in Python."
   ]
  },
  {
   "cell_type": "code",
   "execution_count": null,
   "metadata": {
    "collapsed": true
   },
   "outputs": [],
   "source": [
    "import numpy as np\n",
    "v = np.array([[1],\n",
    "               [4],\n",
    "               [2]])\n",
    "print(v)\n",
    "A = np.array([[1,4, 2], [0, 6, 3],[3, 5, 6]])\n",
    "print(A)"
   ]
  },
  {
   "cell_type": "markdown",
   "metadata": {},
   "source": [
    "We can check the order of **A** and **v** as follows:"
   ]
  },
  {
   "cell_type": "code",
   "execution_count": null,
   "metadata": {
    "collapsed": true
   },
   "outputs": [],
   "source": [
    "print(\"A if of dimension: \", A.shape)\n",
    "print(\"v is of dimension: \", v.shape)"
   ]
  },
  {
   "cell_type": "markdown",
   "metadata": {},
   "source": [
    "There are a lot of matrix operations which we can make use\n",
    "of in **NumPy**. Some examples are given below."
   ]
  },
  {
   "cell_type": "code",
   "execution_count": null,
   "metadata": {
    "collapsed": true
   },
   "outputs": [],
   "source": [
    "# Matrix Addition\n",
    "A = np.array([[5,8],[6,9]])\n",
    "print(A)\n",
    "B = np.array([[3,2],[4,-1]])\n",
    "print(B)\n",
    "C = A+B\n",
    "print(C)"
   ]
  },
  {
   "cell_type": "code",
   "execution_count": null,
   "metadata": {
    "collapsed": true
   },
   "outputs": [],
   "source": [
    "# Matrix Subtraction\n",
    "D = A - B\n",
    "print(D)"
   ]
  },
  {
   "cell_type": "code",
   "execution_count": null,
   "metadata": {
    "collapsed": true
   },
   "outputs": [],
   "source": [
    "# Matrix-Scalar Multiplication\n",
    "A = np.array([[5,8],[6,9]])\n",
    "print(A)\n",
    "b = 2\n",
    "E = A*2\n",
    "print(E)"
   ]
  },
  {
   "cell_type": "code",
   "execution_count": null,
   "metadata": {
    "collapsed": true
   },
   "outputs": [],
   "source": [
    "# Matrix-Vector Multiplication\n",
    "A = np.array([[5,8],[6,9]])\n",
    "print(A)\n",
    "v = np.array([[1],[4]])\n",
    "print(v)\n",
    "w = np.dot(A,v)\n",
    "print(w)"
   ]
  },
  {
   "cell_type": "code",
   "execution_count": null,
   "metadata": {
    "collapsed": true
   },
   "outputs": [],
   "source": [
    "# Matrix-Matrix Multiplication\n",
    "A = np.array([[5,8],[6,9]])\n",
    "print(A)\n",
    "B = np.array([[3,2],[4,-1]])\n",
    "print(B)\n",
    "C = np.dot(A,B)\n",
    "print(C)"
   ]
  },
  {
   "cell_type": "code",
   "execution_count": null,
   "metadata": {
    "collapsed": true,
    "scrolled": true
   },
   "outputs": [],
   "source": [
    "# Taking transpose\n",
    "print(A)\n",
    "B = A.T\n",
    "print(B)"
   ]
  },
  {
   "cell_type": "code",
   "execution_count": null,
   "metadata": {
    "collapsed": true
   },
   "outputs": [],
   "source": [
    "# Finding trace\n",
    "print(A)\n",
    "traceA = np.trace(A)\n",
    "print(traceA)"
   ]
  },
  {
   "cell_type": "code",
   "execution_count": null,
   "metadata": {
    "collapsed": true
   },
   "outputs": [],
   "source": [
    "# Finding Matrix Determinant\n",
    "A = np.array([[5,8],[6,9]])\n",
    "print(A)\n",
    "detA = np.linalg.det(A)\n",
    "print(detA)"
   ]
  },
  {
   "cell_type": "code",
   "execution_count": null,
   "metadata": {
    "collapsed": true
   },
   "outputs": [],
   "source": [
    "# Matrix Inverse\n",
    "print(A)\n",
    "B = np.linalg.inv(A)\n",
    "print(B)"
   ]
  },
  {
   "cell_type": "markdown",
   "metadata": {},
   "source": [
    "An **identity matrix** of order 3 can be created as follows:"
   ]
  },
  {
   "cell_type": "code",
   "execution_count": null,
   "metadata": {
    "collapsed": true
   },
   "outputs": [],
   "source": [
    "I3 = np.eye(3)\n",
    "print(I3)"
   ]
  },
  {
   "cell_type": "markdown",
   "metadata": {},
   "source": [
    "To create a 2x3 matrix of random numbers drawn from a normal distribution with mean 0 and variance 1, we use:"
   ]
  },
  {
   "cell_type": "code",
   "execution_count": null,
   "metadata": {
    "collapsed": true
   },
   "outputs": [],
   "source": [
    "weights = np.random.randn(2,3)\n",
    "print(weights)"
   ]
  },
  {
   "cell_type": "markdown",
   "metadata": {},
   "source": [
    "A 3x3 **diagonal matrix** with (1, 5, 1) along its principal diagonal can be constructed as follows:"
   ]
  },
  {
   "cell_type": "code",
   "execution_count": null,
   "metadata": {
    "collapsed": true
   },
   "outputs": [],
   "source": [
    "A = np.diag((1, 5, 1))\n",
    "print(A)"
   ]
  },
  {
   "cell_type": "markdown",
   "metadata": {},
   "source": [
    "To create a 1x3 matrix of **ones**, we can do as follows:"
   ]
  },
  {
   "cell_type": "code",
   "execution_count": null,
   "metadata": {
    "collapsed": true
   },
   "outputs": [],
   "source": [
    "print(np.ones((1,3)))"
   ]
  },
  {
   "cell_type": "markdown",
   "metadata": {},
   "source": [
    "### Task 1\n",
    "Enter the matrix $\\mathbf{A}=\\begin{bmatrix}1 & 2 & 4 & 5 \\\\ 0 & 1 & 5 & -2 \\\\ 2 & -4 & 3 & 9 \\end{bmatrix}$ in Python.<br>\n",
    "Display the following: <br>\n",
    "(a)  the size of the matrix $\\mathbf{A}$ <br>\n",
    "(b)  $a_{23}$, $a_{32}$ and $a_{34}$ <br>\n",
    "(c)  row 1 and column 4 of $\\mathbf{A}$"
   ]
  },
  {
   "cell_type": "code",
   "execution_count": null,
   "metadata": {
    "collapsed": true
   },
   "outputs": [],
   "source": []
  },
  {
   "cell_type": "code",
   "execution_count": null,
   "metadata": {
    "collapsed": true
   },
   "outputs": [],
   "source": []
  },
  {
   "cell_type": "code",
   "execution_count": null,
   "metadata": {
    "collapsed": true
   },
   "outputs": [],
   "source": []
  },
  {
   "cell_type": "markdown",
   "metadata": {},
   "source": [
    "### Task 2###\n",
    "Enter the following matrices in Python. <br>\n",
    "$\\mathbf{A}=\\begin{bmatrix}7 & -3 \\\\ 2 & 1 \\\\ 9 & -6 \\\\ -3 & 2 \\end{bmatrix} , \n",
    "\\mathbf{B}=\\begin{bmatrix}2 \\\\ 5 \\end{bmatrix} , \n",
    "\\mathbf{C}=\\begin{bmatrix}5 & 1 & -8 & 4 \\\\ 2 & 7 & -3 & 5\\end{bmatrix}$ <br>\n",
    "Compute each of the following expression if possible. <br>\n",
    "(a) $\\mathbf{AC}$ <br>\n",
    "(b) $\\mathbf{AB}$ <br>\n",
    "(c) $\\mathbf{A} + \\mathbf{C}^T$ <br>\n",
    "(d) $\\mathbf{BA}$ <br>\n",
    "(e) $\\mathbf{AA}^T + \\mathbf{C}^T\\mathbf{C}$ <br>\n",
    "(f) $\\mathbf{A} + 2\\mathbf{C}^T$"
   ]
  },
  {
   "cell_type": "code",
   "execution_count": null,
   "metadata": {
    "collapsed": true
   },
   "outputs": [],
   "source": []
  },
  {
   "cell_type": "code",
   "execution_count": null,
   "metadata": {
    "collapsed": true
   },
   "outputs": [],
   "source": []
  },
  {
   "cell_type": "code",
   "execution_count": null,
   "metadata": {
    "collapsed": true
   },
   "outputs": [],
   "source": []
  },
  {
   "cell_type": "code",
   "execution_count": null,
   "metadata": {
    "collapsed": true
   },
   "outputs": [],
   "source": []
  },
  {
   "cell_type": "code",
   "execution_count": null,
   "metadata": {
    "collapsed": true
   },
   "outputs": [],
   "source": []
  },
  {
   "cell_type": "code",
   "execution_count": null,
   "metadata": {
    "collapsed": true
   },
   "outputs": [],
   "source": []
  },
  {
   "cell_type": "code",
   "execution_count": null,
   "metadata": {
    "collapsed": true
   },
   "outputs": [],
   "source": []
  },
  {
   "cell_type": "markdown",
   "metadata": {},
   "source": [
    "### Task 3###\n",
    "Determine if each of the following matrices is singular.<br>\n",
    "(a) $\\mathbf{A}=\\begin{bmatrix}1 & 2 & 3 \\\\ 4 & 5 & 6 \\\\ 7 & 8 & 9 \\end{bmatrix}$ <br><br>\n",
    "(b) $\\mathbf{A}=\\begin{bmatrix}0 & 1 & 3 & 4 \\\\ -2 & 1 & 2 & 1 \\\\ 2 & 0 & 1 & 0 \\\\ 0 & 8 & 3 & 1 \\end{bmatrix}$ <br>"
   ]
  },
  {
   "cell_type": "code",
   "execution_count": null,
   "metadata": {
    "collapsed": true
   },
   "outputs": [],
   "source": []
  },
  {
   "cell_type": "code",
   "execution_count": null,
   "metadata": {
    "collapsed": true
   },
   "outputs": [],
   "source": []
  },
  {
   "cell_type": "markdown",
   "metadata": {},
   "source": [
    "### Task 4###\n",
    "Find the inverse of each matrix.<br>\n",
    "(a) $\\mathbf{A}=\\begin{bmatrix}2 & 1 \\\\ 3 & 5 \\end{bmatrix}$ <br><br>\n",
    "(b) $\\mathbf{A}=\\begin{bmatrix}1 & 1 & 2 \\\\ 2 & 1 & 1 \\\\ 1 & 2 & 1 \\end{bmatrix}$"
   ]
  },
  {
   "cell_type": "code",
   "execution_count": null,
   "metadata": {
    "collapsed": true
   },
   "outputs": [],
   "source": []
  },
  {
   "cell_type": "code",
   "execution_count": null,
   "metadata": {
    "collapsed": true
   },
   "outputs": [],
   "source": []
  },
  {
   "cell_type": "code",
   "execution_count": null,
   "metadata": {
    "collapsed": true
   },
   "outputs": [],
   "source": []
  },
  {
   "cell_type": "code",
   "execution_count": null,
   "metadata": {
    "collapsed": true
   },
   "outputs": [],
   "source": []
  },
  {
   "cell_type": "markdown",
   "metadata": {},
   "source": [
    "### Task 5###\n",
    "Determine the norm of each of the following vectors.<br>\n",
    "(a) $\\mathbf{v}_1=\\begin{bmatrix}2 \\\\ -1 \\\\ 1 \\end{bmatrix}$ <br><br>\n",
    "(b) $\\mathbf{v}_2=\\begin{bmatrix}4 \\\\ 0 \\\\ 3 \\\\ -1 \\end{bmatrix}$ <br><br>\n",
    "(c) $\\mathbf{v}_3=\\begin{bmatrix}1 \\\\ 0 \\\\ 2 \\\\ 2 \\\\ 3 \\end{bmatrix}$"
   ]
  },
  {
   "cell_type": "code",
   "execution_count": null,
   "metadata": {
    "collapsed": true
   },
   "outputs": [],
   "source": []
  },
  {
   "cell_type": "code",
   "execution_count": null,
   "metadata": {
    "collapsed": true
   },
   "outputs": [],
   "source": []
  },
  {
   "cell_type": "code",
   "execution_count": null,
   "metadata": {
    "collapsed": true
   },
   "outputs": [],
   "source": []
  }
 ],
 "metadata": {
  "kernelspec": {
   "display_name": "Python 3",
   "language": "python",
   "name": "python3"
  },
  "language_info": {
   "codemirror_mode": {
    "name": "ipython",
    "version": 3
   },
   "file_extension": ".py",
   "mimetype": "text/x-python",
   "name": "python",
   "nbconvert_exporter": "python",
   "pygments_lexer": "ipython3",
   "version": "3.7.3"
  },
  "toc": {
   "base_numbering": 1,
   "nav_menu": {},
   "number_sections": true,
   "sideBar": true,
   "skip_h1_title": false,
   "title_cell": "Table of Contents",
   "title_sidebar": "Contents",
   "toc_cell": false,
   "toc_position": {},
   "toc_section_display": true,
   "toc_window_display": false
  }
 },
 "nbformat": 4,
 "nbformat_minor": 2
}
