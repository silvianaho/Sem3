{
 "cells": [
  {
   "cell_type": "markdown",
   "metadata": {},
   "source": [
    "# Practical 1: Vectors & Matrices\n"
   ]
  },
  {
   "cell_type": "markdown",
   "metadata": {},
   "source": [
    "Many machine learning algorithms make use of matrices to store and process data. \n",
    "For example, a deep learning algorithm makes use of matrices to store inputs such as \n",
    "images, tweets, or text to solve problems. An artificial neural network makes use of \n",
    "matrices to store information such as weights during training. A familiarity with \n",
    "matrices and vectors is hence important.\n",
    "\n",
    "In this practical we will learn some of the fundamentals of matrices and vectors."
   ]
  },
  {
   "cell_type": "markdown",
   "metadata": {},
   "source": [
    "A **vector** can be represented as a list in Python.\n",
    "For example:"
   ]
  },
  {
   "cell_type": "code",
   "execution_count": 1,
   "metadata": {},
   "outputs": [
    {
     "name": "stdout",
     "output_type": "stream",
     "text": [
      "[1, 4, 2]\n"
     ]
    }
   ],
   "source": [
    "v = [ 1, 4, 2]\n",
    "print(v)"
   ]
  },
  {
   "cell_type": "markdown",
   "metadata": {},
   "source": [
    "A **matrix** is a 2D array which stores numbers. \n",
    "Alternatively, a matrix can also be thought of as \n",
    "a list of vectors.\n",
    "\n",
    "An example:"
   ]
  },
  {
   "cell_type": "code",
   "execution_count": 2,
   "metadata": {},
   "outputs": [
    {
     "name": "stdout",
     "output_type": "stream",
     "text": [
      "[[1, 4, 2], [0, 6, 3], [3, 5, 6]]\n"
     ]
    }
   ],
   "source": [
    "A = [[1,4,2],[0,6,3],[3,5,6]]\n",
    "print(A)"
   ]
  },
  {
   "cell_type": "markdown",
   "metadata": {},
   "source": [
    "An alternative way to work with vectors and matrices is\n",
    "to use the **NumPy** module in Python."
   ]
  },
  {
   "cell_type": "code",
   "execution_count": 3,
   "metadata": {},
   "outputs": [
    {
     "name": "stdout",
     "output_type": "stream",
     "text": [
      "[[1]\n",
      " [4]\n",
      " [2]]\n",
      "[[1 4 2]\n",
      " [0 6 3]\n",
      " [3 5 6]]\n"
     ]
    }
   ],
   "source": [
    "import numpy as np\n",
    "v = np.array([[1],\n",
    "               [4],\n",
    "               [2]])\n",
    "print(v)\n",
    "A = np.array([[1,4, 2], [0, 6, 3],[3, 5, 6]])\n",
    "print(A)"
   ]
  },
  {
   "cell_type": "markdown",
   "metadata": {},
   "source": [
    "We can check the order of **A** and **v** as follows:"
   ]
  },
  {
   "cell_type": "code",
   "execution_count": 4,
   "metadata": {},
   "outputs": [
    {
     "name": "stdout",
     "output_type": "stream",
     "text": [
      "A if of dimension:  (3, 3)\n",
      "v is of dimension:  (3, 1)\n"
     ]
    }
   ],
   "source": [
    "print(\"A if of dimension: \", A.shape)\n",
    "print(\"v is of dimension: \", v.shape)"
   ]
  },
  {
   "cell_type": "markdown",
   "metadata": {},
   "source": [
    "There are a lot of matrix operations which we can make use\n",
    "of in **NumPy**. Some examples are given below."
   ]
  },
  {
   "cell_type": "code",
   "execution_count": 5,
   "metadata": {},
   "outputs": [
    {
     "name": "stdout",
     "output_type": "stream",
     "text": [
      "[[5 8]\n",
      " [6 9]]\n",
      "[[ 3  2]\n",
      " [ 4 -1]]\n",
      "[[ 8 10]\n",
      " [10  8]]\n"
     ]
    }
   ],
   "source": [
    "# Matrix Addition\n",
    "A = np.array([[5,8],[6,9]])\n",
    "print(A)\n",
    "B = np.array([[3,2],[4,-1]])\n",
    "print(B)\n",
    "C = A+B\n",
    "print(C)"
   ]
  },
  {
   "cell_type": "code",
   "execution_count": 6,
   "metadata": {},
   "outputs": [
    {
     "name": "stdout",
     "output_type": "stream",
     "text": [
      "[[ 2  6]\n",
      " [ 2 10]]\n"
     ]
    }
   ],
   "source": [
    "# Matrix Subtraction\n",
    "D = A - B\n",
    "print(D)"
   ]
  },
  {
   "cell_type": "code",
   "execution_count": 7,
   "metadata": {},
   "outputs": [
    {
     "name": "stdout",
     "output_type": "stream",
     "text": [
      "[[5 8]\n",
      " [6 9]]\n",
      "[[10 16]\n",
      " [12 18]]\n"
     ]
    }
   ],
   "source": [
    "# Matrix-Scalar Multiplication\n",
    "A = np.array([[5,8],[6,9]])\n",
    "print(A)\n",
    "b = 2\n",
    "E = A*2\n",
    "print(E)"
   ]
  },
  {
   "cell_type": "code",
   "execution_count": 8,
   "metadata": {},
   "outputs": [
    {
     "name": "stdout",
     "output_type": "stream",
     "text": [
      "[[5 8]\n",
      " [6 9]]\n",
      "[[1]\n",
      " [4]]\n",
      "[[37]\n",
      " [42]]\n"
     ]
    }
   ],
   "source": [
    "# Matrix-Vector Multiplication\n",
    "A = np.array([[5,8],[6,9]])\n",
    "print(A)\n",
    "v = np.array([[1],[4]])\n",
    "print(v)\n",
    "w = np.dot(A,v)\n",
    "print(w)"
   ]
  },
  {
   "cell_type": "code",
   "execution_count": 9,
   "metadata": {},
   "outputs": [
    {
     "name": "stdout",
     "output_type": "stream",
     "text": [
      "[[5 8]\n",
      " [6 9]]\n",
      "[[ 3  2]\n",
      " [ 4 -1]]\n",
      "[[47  2]\n",
      " [54  3]]\n"
     ]
    }
   ],
   "source": [
    "# Matrix-Matrix Multiplication\n",
    "A = np.array([[5,8],[6,9]])\n",
    "print(A)\n",
    "B = np.array([[3,2],[4,-1]])\n",
    "print(B)\n",
    "C = np.dot(A,B)\n",
    "print(C)"
   ]
  },
  {
   "cell_type": "code",
   "execution_count": 10,
   "metadata": {
    "scrolled": true
   },
   "outputs": [
    {
     "name": "stdout",
     "output_type": "stream",
     "text": [
      "[[5 8]\n",
      " [6 9]]\n",
      "[[5 6]\n",
      " [8 9]]\n"
     ]
    }
   ],
   "source": [
    "# Taking transpose\n",
    "print(A)\n",
    "B = A.T\n",
    "print(B)"
   ]
  },
  {
   "cell_type": "code",
   "execution_count": 11,
   "metadata": {},
   "outputs": [
    {
     "name": "stdout",
     "output_type": "stream",
     "text": [
      "[[5 8]\n",
      " [6 9]]\n",
      "14\n"
     ]
    }
   ],
   "source": [
    "# Finding trace\n",
    "print(A)\n",
    "traceA = np.trace(A)\n",
    "print(traceA)"
   ]
  },
  {
   "cell_type": "code",
   "execution_count": 12,
   "metadata": {},
   "outputs": [
    {
     "name": "stdout",
     "output_type": "stream",
     "text": [
      "[[5 8]\n",
      " [6 9]]\n",
      "-2.9999999999999982\n"
     ]
    }
   ],
   "source": [
    "# Finding Matrix Determinant\n",
    "A = np.array([[5,8],[6,9]])\n",
    "print(A)\n",
    "detA = np.linalg.det(A)\n",
    "print(detA)"
   ]
  },
  {
   "cell_type": "code",
   "execution_count": 13,
   "metadata": {},
   "outputs": [
    {
     "name": "stdout",
     "output_type": "stream",
     "text": [
      "[[5 8]\n",
      " [6 9]]\n",
      "[[-3.          2.66666667]\n",
      " [ 2.         -1.66666667]]\n"
     ]
    }
   ],
   "source": [
    "# Matrix Inverse\n",
    "print(A)\n",
    "B = np.linalg.inv(A)\n",
    "print(B)"
   ]
  },
  {
   "cell_type": "markdown",
   "metadata": {},
   "source": [
    "An **identity matrix** of order 3 can be created as follows:"
   ]
  },
  {
   "cell_type": "code",
   "execution_count": 14,
   "metadata": {},
   "outputs": [
    {
     "name": "stdout",
     "output_type": "stream",
     "text": [
      "[[1. 0. 0.]\n",
      " [0. 1. 0.]\n",
      " [0. 0. 1.]]\n"
     ]
    }
   ],
   "source": [
    "I3 = np.eye(3)\n",
    "print(I3)"
   ]
  },
  {
   "cell_type": "markdown",
   "metadata": {},
   "source": [
    "To create a 2x3 matrix of random numbers drawn from a normal distribution with mean 0 and variance 1, we use:"
   ]
  },
  {
   "cell_type": "code",
   "execution_count": 15,
   "metadata": {},
   "outputs": [
    {
     "name": "stdout",
     "output_type": "stream",
     "text": [
      "[[ 0.19936222  2.25793337  1.85678371]\n",
      " [-0.15851752  0.71994685 -0.30182589]]\n"
     ]
    }
   ],
   "source": [
    "weights = np.random.randn(2,3)\n",
    "print(weights)"
   ]
  },
  {
   "cell_type": "markdown",
   "metadata": {},
   "source": [
    "A 3x3 **diagonal matrix** with (1, 5, 1) along its principal diagonal can be constructed as follows:"
   ]
  },
  {
   "cell_type": "code",
   "execution_count": 16,
   "metadata": {},
   "outputs": [
    {
     "name": "stdout",
     "output_type": "stream",
     "text": [
      "[[1 0 0]\n",
      " [0 5 0]\n",
      " [0 0 1]]\n"
     ]
    }
   ],
   "source": [
    "A = np.diag((1, 5, 1))\n",
    "print(A)"
   ]
  },
  {
   "cell_type": "markdown",
   "metadata": {},
   "source": [
    "To create a 1x3 matrix of **ones**, we can do as follows:"
   ]
  },
  {
   "cell_type": "code",
   "execution_count": 17,
   "metadata": {},
   "outputs": [
    {
     "name": "stdout",
     "output_type": "stream",
     "text": [
      "[[1. 1. 1.]]\n"
     ]
    }
   ],
   "source": [
    "print(np.ones((1,3)))"
   ]
  },
  {
   "cell_type": "markdown",
   "metadata": {},
   "source": [
    "### Task 1\n",
    "Enter the matrix $\\mathbf{A}=\\begin{bmatrix}1 & 2 & 4 & 5 \\\\ 0 & 1 & 5 & -2 \\\\ 2 & -4 & 3 & 9 \\end{bmatrix}$ in Python.<br>\n",
    "Display the following: <br>\n",
    "(a)  the size of the matrix $\\mathbf{A}$ <br>\n",
    "(b)  $a_{23}$, $a_{32}$ and $a_{34}$ <br>\n",
    "(c)  row 1 and column 4 of $\\mathbf{A}$"
   ]
  },
  {
   "cell_type": "code",
   "execution_count": 18,
   "metadata": {},
   "outputs": [
    {
     "name": "stdout",
     "output_type": "stream",
     "text": [
      "A = [[ 1  2  4  5]\n",
      " [ 0  1  5 -2]\n",
      " [ 2 -4  3  9]]\n"
     ]
    }
   ],
   "source": [
    "A = np.array([[1, 2, 4, 5], [0, 1, 5, -2], [2, -4, 3, 9]])\n",
    "print(\"A = {}\".format(A))"
   ]
  },
  {
   "cell_type": "code",
   "execution_count": 22,
   "metadata": {},
   "outputs": [
    {
     "name": "stdout",
     "output_type": "stream",
     "text": [
      "The size of matrix A is 3 x 4\n"
     ]
    }
   ],
   "source": [
    "print(\"The size of matrix A is {} x {}\".format(A.shape[0], A.shape[1]))"
   ]
  },
  {
   "cell_type": "code",
   "execution_count": 20,
   "metadata": {},
   "outputs": [
    {
     "name": "stdout",
     "output_type": "stream",
     "text": [
      "𝑎23 -> 5 \n",
      "𝑎32 -> -4 \n",
      "𝑎34 -> 9\n"
     ]
    }
   ],
   "source": [
    "print(\"𝑎23 -> {} \\n𝑎32 -> {} \\n𝑎34 -> {}\".format(A[1,2], A[2,1], A[2,3]))"
   ]
  },
  {
   "cell_type": "code",
   "execution_count": 29,
   "metadata": {},
   "outputs": [
    {
     "name": "stdout",
     "output_type": "stream",
     "text": [
      "Row 1:\n",
      "[1 2 4 5] \n",
      "Column 4:\n",
      "[[ 5]\n",
      " [-2]\n",
      " [ 9]]\n"
     ]
    }
   ],
   "source": [
    "print(\"Row 1:\\n{} \\nColumn 4:\\n{}\".format(A[0], A[:,[3]]))"
   ]
  },
  {
   "cell_type": "markdown",
   "metadata": {},
   "source": [
    "### Task 2###\n",
    "Enter the following matrices in Python. <br>\n",
    "$\\mathbf{A}=\\begin{bmatrix}7 & -3 \\\\ 2 & 1 \\\\ 9 & -6 \\\\ -3 & 2 \\end{bmatrix} , \n",
    "\\mathbf{B}=\\begin{bmatrix}2 \\\\ 5 \\end{bmatrix} , \n",
    "\\mathbf{C}=\\begin{bmatrix}5 & 1 & -8 & 4 \\\\ 2 & 7 & -3 & 5\\end{bmatrix}$ <br>\n",
    "Compute each of the following expression if possible. <br>\n",
    "(a) $\\mathbf{AC}$ <br>\n",
    "(b) $\\mathbf{AB}$ <br>\n",
    "(c) $\\mathbf{A} + \\mathbf{C}^T$ <br>\n",
    "(d) $\\mathbf{BA}$ <br>\n",
    "(e) $\\mathbf{AA}^T + \\mathbf{C}^T\\mathbf{C}$ <br>\n",
    "(f) $\\mathbf{A} + 2\\mathbf{C}^T$"
   ]
  },
  {
   "cell_type": "code",
   "execution_count": 39,
   "metadata": {},
   "outputs": [
    {
     "name": "stdout",
     "output_type": "stream",
     "text": [
      "Matrix A:\n",
      "[[ 7 -3]\n",
      " [ 2  1]\n",
      " [ 9 -6]\n",
      " [-3  2]]\n",
      "\n",
      "Matrix B:\n",
      "[[2]\n",
      " [5]]\n",
      "\n",
      "Matrix C:\n",
      "[[ 5  1 -8  4]\n",
      " [ 2  7 -3  5]]\n"
     ]
    }
   ],
   "source": [
    "task2_A = np.array([[7, -3], [2, 1], [9, -6], [-3, 2]])\n",
    "task2_B = np.array([[2], [5]])\n",
    "task2_C = np.array([[5, 1, -8, 4], [2, 7, -3, 5]])\n",
    "print(\"Matrix A:\\n{}\\n\\nMatrix B:\\n{}\\n\\nMatrix C:\\n{}\".format(task2_A, task2_B, task2_C))"
   ]
  },
  {
   "cell_type": "code",
   "execution_count": 37,
   "metadata": {},
   "outputs": [
    {
     "data": {
      "text/plain": [
       "array([[ 29, -14, -47,  13],\n",
       "       [ 12,   9, -19,  13],\n",
       "       [ 33, -33, -54,   6],\n",
       "       [-11,  11,  18,  -2]])"
      ]
     },
     "execution_count": 37,
     "metadata": {},
     "output_type": "execute_result"
    }
   ],
   "source": [
    "# (a)  𝐀𝐂 \n",
    "task2_A.dot(task2_C)"
   ]
  },
  {
   "cell_type": "code",
   "execution_count": 40,
   "metadata": {},
   "outputs": [
    {
     "data": {
      "text/plain": [
       "array([[ -1],\n",
       "       [  9],\n",
       "       [-12],\n",
       "       [  4]])"
      ]
     },
     "execution_count": 40,
     "metadata": {},
     "output_type": "execute_result"
    }
   ],
   "source": [
    "# (b)  𝐀𝐁 \n",
    "task2_A.dot(task2_B)"
   ]
  },
  {
   "cell_type": "code",
   "execution_count": 42,
   "metadata": {},
   "outputs": [
    {
     "data": {
      "text/plain": [
       "array([[12, -1],\n",
       "       [ 3,  8],\n",
       "       [ 1, -9],\n",
       "       [ 1,  7]])"
      ]
     },
     "execution_count": 42,
     "metadata": {},
     "output_type": "execute_result"
    }
   ],
   "source": [
    "# (c)  𝐀+𝐂𝑇 \n",
    "task2_A + task2_C.T"
   ]
  },
  {
   "cell_type": "code",
   "execution_count": 43,
   "metadata": {},
   "outputs": [
    {
     "ename": "ValueError",
     "evalue": "shapes (2,1) and (4,2) not aligned: 1 (dim 1) != 4 (dim 0)",
     "output_type": "error",
     "traceback": [
      "\u001b[1;31m---------------------------------------------------------------------------\u001b[0m",
      "\u001b[1;31mValueError\u001b[0m                                Traceback (most recent call last)",
      "\u001b[1;32m<ipython-input-43-cb72f791fe56>\u001b[0m in \u001b[0;36m<module>\u001b[1;34m\u001b[0m\n\u001b[0;32m      1\u001b[0m \u001b[1;31m# (d)  𝐁𝐀\u001b[0m\u001b[1;33m\u001b[0m\u001b[1;33m\u001b[0m\u001b[1;33m\u001b[0m\u001b[0m\n\u001b[1;32m----> 2\u001b[1;33m \u001b[0mtask2_B\u001b[0m\u001b[1;33m.\u001b[0m\u001b[0mdot\u001b[0m\u001b[1;33m(\u001b[0m\u001b[0mtask2_A\u001b[0m\u001b[1;33m)\u001b[0m\u001b[1;33m\u001b[0m\u001b[1;33m\u001b[0m\u001b[0m\n\u001b[0m",
      "\u001b[1;31mValueError\u001b[0m: shapes (2,1) and (4,2) not aligned: 1 (dim 1) != 4 (dim 0)"
     ]
    }
   ],
   "source": [
    "# (d)  𝐁𝐀\n",
    "task2_B.dot(task2_A)"
   ]
  },
  {
   "cell_type": "code",
   "execution_count": 48,
   "metadata": {},
   "outputs": [
    {
     "data": {
      "text/plain": [
       "array([[ 87,  30,  35,   3],\n",
       "       [ 30,  55, -17,  35],\n",
       "       [ 35, -17, 190, -86],\n",
       "       [  3,  35, -86,  54]])"
      ]
     },
     "execution_count": 48,
     "metadata": {},
     "output_type": "execute_result"
    }
   ],
   "source": [
    "# (e)  𝐀𝐀𝑇+𝐂𝑇𝐂 \n",
    "task2_A.dot(task2_A.T) + task2_C.T.dot(task2_C)"
   ]
  },
  {
   "cell_type": "code",
   "execution_count": 45,
   "metadata": {},
   "outputs": [
    {
     "data": {
      "text/plain": [
       "array([[ 17,   1],\n",
       "       [  4,  15],\n",
       "       [ -7, -12],\n",
       "       [  5,  12]])"
      ]
     },
     "execution_count": 45,
     "metadata": {},
     "output_type": "execute_result"
    }
   ],
   "source": [
    "# (f)  𝐀+2𝐂𝑇\n",
    "task2_A + 2*(task2_C.T)"
   ]
  },
  {
   "cell_type": "markdown",
   "metadata": {},
   "source": [
    "### Task 3###\n",
    "Determine if each of the following matrices is singular.<br>\n",
    "(a) $\\mathbf{A}=\\begin{bmatrix}1 & 2 & 3 \\\\ 4 & 5 & 6 \\\\ 7 & 8 & 9 \\end{bmatrix}$ <br><br>\n",
    "(b) $\\mathbf{A}=\\begin{bmatrix}0 & 1 & 3 & 4 \\\\ -2 & 1 & 2 & 1 \\\\ 2 & 0 & 1 & 0 \\\\ 0 & 8 & 3 & 1 \\end{bmatrix}$ <br>"
   ]
  },
  {
   "cell_type": "code",
   "execution_count": 49,
   "metadata": {},
   "outputs": [
    {
     "name": "stdout",
     "output_type": "stream",
     "text": [
      "Matrix A(a):\n",
      "[[1 2 3]\n",
      " [4 5 6]\n",
      " [7 8 9]]\n",
      "\n",
      "Matrix A(b):\n",
      "[[ 0  1  3  4]\n",
      " [-2  1  2  1]\n",
      " [ 2  0  1  0]\n",
      " [ 0  8  3  1]]\n"
     ]
    }
   ],
   "source": [
    "task3_Aa = np.array([[1, 2, 3], [4, 5, 6], [7, 8, 9]])\n",
    "task3_Ab = np.array([[0, 1, 3, 4], \n",
    "                     [-2, 1, 2, 1], \n",
    "                     [2, 0, 1, 0], \n",
    "                     [0, 8, 3, 1]])\n",
    "\n",
    "print(\"Matrix A(a):\\n{}\\n\\nMatrix A(b):\\n{}\".format(task3_Aa, task3_Ab))"
   ]
  },
  {
   "cell_type": "code",
   "execution_count": 52,
   "metadata": {},
   "outputs": [
    {
     "name": "stdout",
     "output_type": "stream",
     "text": [
      "(a) Matrix A is not singular because |A| = -9.51619735392994e-16\n",
      "(b) Matrix A is not singular because |A| = -126.0\n"
     ]
    }
   ],
   "source": [
    "det3Aa = np.linalg.det(task3_Aa)\n",
    "det3Ab = np.linalg.det(task3_Ab)\n",
    "\n",
    "print(\"(a) Matrix A is not singular because |A| = {}\".format(det3Aa))\n",
    "print(\"(b) Matrix A is not singular because |A| = {}\".format(det3Ab))"
   ]
  },
  {
   "cell_type": "markdown",
   "metadata": {},
   "source": [
    "### Task 4###\n",
    "Find the inverse of each matrix.<br>\n",
    "(a) $\\mathbf{A}=\\begin{bmatrix}2 & 1 \\\\ 3 & 5 \\end{bmatrix}$ <br><br>\n",
    "(b) $\\mathbf{A}=\\begin{bmatrix}1 & 1 & 2 \\\\ 2 & 1 & 1 \\\\ 1 & 2 & 1 \\end{bmatrix}$"
   ]
  },
  {
   "cell_type": "code",
   "execution_count": 53,
   "metadata": {},
   "outputs": [
    {
     "name": "stdout",
     "output_type": "stream",
     "text": [
      "Matrix A(a):\n",
      "[[2 1]\n",
      " [3 5]]\n",
      "\n",
      "Matrix A(b):\n",
      "[[1 1 2]\n",
      " [2 1 1]\n",
      " [1 2 1]]\n"
     ]
    }
   ],
   "source": [
    "task4_Aa = np.array([[2, 1], [3, 5]])\n",
    "task4_Ab = np.array([[1, 1, 2], [2, 1, 1], [1, 2, 1]])\n",
    "\n",
    "print(\"Matrix A(a):\\n{}\\n\\nMatrix A(b):\\n{}\".format(task4_Aa, task4_Ab))"
   ]
  },
  {
   "cell_type": "code",
   "execution_count": 60,
   "metadata": {},
   "outputs": [
    {
     "name": "stdout",
     "output_type": "stream",
     "text": [
      "(a) Inverse of matrix A is \n",
      "[[ 0.71428571 -0.14285714]\n",
      " [-0.42857143  0.28571429]]\n"
     ]
    }
   ],
   "source": [
    "# (a)\n",
    "inv_4Aa = np.linalg.inv(task4_Aa)\n",
    "print(\"(a) Inverse of matrix A is \\n{}\".format(inv_4Aa))"
   ]
  },
  {
   "cell_type": "code",
   "execution_count": 61,
   "metadata": {},
   "outputs": [
    {
     "name": "stdout",
     "output_type": "stream",
     "text": [
      "(b) Inverse of matrix A is \n",
      "[[-0.25  0.75 -0.25]\n",
      " [-0.25 -0.25  0.75]\n",
      " [ 0.75 -0.25 -0.25]]\n"
     ]
    }
   ],
   "source": [
    "# (b)\n",
    "inv_4Ab = np.linalg.inv(task4_Ab)\n",
    "print(\"(b) Inverse of matrix A is \\n{}\".format(inv_4Ab))"
   ]
  },
  {
   "cell_type": "markdown",
   "metadata": {},
   "source": [
    "### Task 5###\n",
    "Determine the norm of each of the following vectors.<br>\n",
    "(a) $\\mathbf{v}_1=\\begin{bmatrix}2 \\\\ -1 \\\\ 1 \\end{bmatrix}$ <br><br>\n",
    "(b) $\\mathbf{v}_2=\\begin{bmatrix}4 \\\\ 0 \\\\ 3 \\\\ -1 \\end{bmatrix}$ <br><br>\n",
    "(c) $\\mathbf{v}_3=\\begin{bmatrix}1 \\\\ 0 \\\\ 2 \\\\ 2 \\\\ 3 \\end{bmatrix}$"
   ]
  },
  {
   "cell_type": "code",
   "execution_count": 67,
   "metadata": {},
   "outputs": [
    {
     "name": "stdout",
     "output_type": "stream",
     "text": [
      "Vector v1:\n",
      "[[ 2]\n",
      " [-1]\n",
      " [ 1]] \n",
      " \n",
      "Vector v2:\n",
      "[[ 4]\n",
      " [ 0]\n",
      " [ 3]\n",
      " [-1]] \n",
      " \n",
      "Vector v3:\n",
      "[[1]\n",
      " [0]\n",
      " [2]\n",
      " [2]\n",
      " [3]]\n"
     ]
    }
   ],
   "source": [
    "task5_v1 = np.array([[2], [-1], [1]])\n",
    "task5_v2 = np.array([[4], [0], [3], [-1]])\n",
    "task5_v3 = np.array([[1], [0], [2], [2], [3]])\n",
    "\n",
    "print(\"Vector v1:\\n{} \\n \\nVector v2:\\n{} \\n \\nVector v3:\\n{}\".format(task5_v1, task5_v2, task5_v3))"
   ]
  },
  {
   "cell_type": "code",
   "execution_count": 69,
   "metadata": {},
   "outputs": [
    {
     "data": {
      "text/plain": [
       "2.449489742783178"
      ]
     },
     "execution_count": 69,
     "metadata": {},
     "output_type": "execute_result"
    }
   ],
   "source": [
    "# (a)\n",
    "norm_v1 = np.linalg.norm(task5_v1)\n",
    "print(\"The norm of vector v1 is {}\".format(norm_v1))"
   ]
  },
  {
   "cell_type": "code",
   "execution_count": 70,
   "metadata": {},
   "outputs": [
    {
     "name": "stdout",
     "output_type": "stream",
     "text": [
      "The norm of vector v2 is 5.0990195135927845\n"
     ]
    }
   ],
   "source": [
    "# (b)\n",
    "norm_v2 = np.linalg.norm(task5_v2)\n",
    "print(\"The norm of vector v2 is {}\".format(norm_v2))"
   ]
  },
  {
   "cell_type": "code",
   "execution_count": 71,
   "metadata": {},
   "outputs": [
    {
     "name": "stdout",
     "output_type": "stream",
     "text": [
      "The norm of vector v3 is 4.242640687119285\n"
     ]
    }
   ],
   "source": [
    "# (c)\n",
    "norm_v3 = np.linalg.norm(task5_v3)\n",
    "print(\"The norm of vector v3 is {}\".format(norm_v3))"
   ]
  }
 ],
 "metadata": {
  "kernelspec": {
   "display_name": "Python 3",
   "language": "python",
   "name": "python3"
  },
  "language_info": {
   "codemirror_mode": {
    "name": "ipython",
    "version": 3
   },
   "file_extension": ".py",
   "mimetype": "text/x-python",
   "name": "python",
   "nbconvert_exporter": "python",
   "pygments_lexer": "ipython3",
   "version": "3.7.3"
  },
  "toc": {
   "base_numbering": 1,
   "nav_menu": {},
   "number_sections": true,
   "sideBar": true,
   "skip_h1_title": false,
   "title_cell": "Table of Contents",
   "title_sidebar": "Contents",
   "toc_cell": false,
   "toc_position": {},
   "toc_section_display": true,
   "toc_window_display": false
  }
 },
 "nbformat": 4,
 "nbformat_minor": 2
}
