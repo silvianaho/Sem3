{
 "cells": [
  {
   "cell_type": "markdown",
   "metadata": {
    "collapsed": true
   },
   "source": [
    "# Practical 5C"
   ]
  },
  {
   "cell_type": "markdown",
   "metadata": {},
   "source": [
    "This practical is related to Example 1(b).\n",
    "<br> Use the functions developed in Practical 5B to create the PCA results table, scree plot, loading plot and score plot."
   ]
  },
  {
   "cell_type": "code",
   "execution_count": 1,
   "metadata": {},
   "outputs": [
    {
     "name": "stdout",
     "output_type": "stream",
     "text": [
      "pandas version: 1.0.3\n",
      "seaborn version: 0.10.0\n",
      "numpy version: 1.18.1\n"
     ]
    }
   ],
   "source": [
    "import pandas as pd\n",
    "import matplotlib.pyplot as plt\n",
    "import seaborn as sns; sns.set()\n",
    "import numpy as np\n",
    "from sklearn.decomposition import PCA\n",
    "from sklearn import preprocessing\n",
    "\n",
    "print(\"pandas version: {}\".format(pd.__version__))\n",
    "print(\"seaborn version: {}\".format(sns.__version__))\n",
    "print(\"numpy version: {}\".format(np.__version__))"
   ]
  },
  {
   "cell_type": "code",
   "execution_count": 2,
   "metadata": {},
   "outputs": [
    {
     "data": {
      "text/html": [
       "<div>\n",
       "<style scoped>\n",
       "    .dataframe tbody tr th:only-of-type {\n",
       "        vertical-align: middle;\n",
       "    }\n",
       "\n",
       "    .dataframe tbody tr th {\n",
       "        vertical-align: top;\n",
       "    }\n",
       "\n",
       "    .dataframe thead th {\n",
       "        text-align: right;\n",
       "    }\n",
       "</style>\n",
       "<table border=\"1\" class=\"dataframe\">\n",
       "  <thead>\n",
       "    <tr style=\"text-align: right;\">\n",
       "      <th></th>\n",
       "      <th>Social Class/ No. of children</th>\n",
       "      <th>Bread</th>\n",
       "      <th>Vegetables</th>\n",
       "      <th>Fruit</th>\n",
       "      <th>Meat</th>\n",
       "      <th>Poultry</th>\n",
       "      <th>Milk</th>\n",
       "      <th>Wine</th>\n",
       "    </tr>\n",
       "  </thead>\n",
       "  <tbody>\n",
       "    <tr>\n",
       "      <th>0</th>\n",
       "      <td>B2</td>\n",
       "      <td>332</td>\n",
       "      <td>428</td>\n",
       "      <td>354</td>\n",
       "      <td>1437</td>\n",
       "      <td>526</td>\n",
       "      <td>247</td>\n",
       "      <td>427</td>\n",
       "    </tr>\n",
       "    <tr>\n",
       "      <th>1</th>\n",
       "      <td>W2</td>\n",
       "      <td>293</td>\n",
       "      <td>559</td>\n",
       "      <td>388</td>\n",
       "      <td>1527</td>\n",
       "      <td>567</td>\n",
       "      <td>239</td>\n",
       "      <td>258</td>\n",
       "    </tr>\n",
       "    <tr>\n",
       "      <th>2</th>\n",
       "      <td>U2</td>\n",
       "      <td>372</td>\n",
       "      <td>767</td>\n",
       "      <td>562</td>\n",
       "      <td>1948</td>\n",
       "      <td>927</td>\n",
       "      <td>235</td>\n",
       "      <td>433</td>\n",
       "    </tr>\n",
       "    <tr>\n",
       "      <th>3</th>\n",
       "      <td>B3</td>\n",
       "      <td>406</td>\n",
       "      <td>563</td>\n",
       "      <td>341</td>\n",
       "      <td>1507</td>\n",
       "      <td>544</td>\n",
       "      <td>324</td>\n",
       "      <td>407</td>\n",
       "    </tr>\n",
       "    <tr>\n",
       "      <th>4</th>\n",
       "      <td>W3</td>\n",
       "      <td>386</td>\n",
       "      <td>608</td>\n",
       "      <td>396</td>\n",
       "      <td>1501</td>\n",
       "      <td>558</td>\n",
       "      <td>319</td>\n",
       "      <td>363</td>\n",
       "    </tr>\n",
       "  </tbody>\n",
       "</table>\n",
       "</div>"
      ],
      "text/plain": [
       "  Social Class/ No. of children  Bread  Vegetables  Fruit  Meat  Poultry  \\\n",
       "0                            B2    332         428    354  1437      526   \n",
       "1                            W2    293         559    388  1527      567   \n",
       "2                            U2    372         767    562  1948      927   \n",
       "3                            B3    406         563    341  1507      544   \n",
       "4                            W3    386         608    396  1501      558   \n",
       "\n",
       "   Milk  Wine  \n",
       "0   247   427  \n",
       "1   239   258  \n",
       "2   235   433  \n",
       "3   324   407  \n",
       "4   319   363  "
      ]
     },
     "execution_count": 2,
     "metadata": {},
     "output_type": "execute_result"
    }
   ],
   "source": [
    "data = pd.read_csv(\"Chp5Eg1.csv\")\n",
    "data.head()"
   ]
  },
  {
   "cell_type": "code",
   "execution_count": 3,
   "metadata": {},
   "outputs": [
    {
     "data": {
      "text/html": [
       "<div>\n",
       "<style scoped>\n",
       "    .dataframe tbody tr th:only-of-type {\n",
       "        vertical-align: middle;\n",
       "    }\n",
       "\n",
       "    .dataframe tbody tr th {\n",
       "        vertical-align: top;\n",
       "    }\n",
       "\n",
       "    .dataframe thead th {\n",
       "        text-align: right;\n",
       "    }\n",
       "</style>\n",
       "<table border=\"1\" class=\"dataframe\">\n",
       "  <thead>\n",
       "    <tr style=\"text-align: right;\">\n",
       "      <th></th>\n",
       "      <th>Bread</th>\n",
       "      <th>Vegetables</th>\n",
       "      <th>Fruit</th>\n",
       "      <th>Meat</th>\n",
       "      <th>Poultry</th>\n",
       "      <th>Milk</th>\n",
       "      <th>Wine</th>\n",
       "    </tr>\n",
       "  </thead>\n",
       "  <tbody>\n",
       "    <tr>\n",
       "      <th>0</th>\n",
       "      <td>332</td>\n",
       "      <td>428</td>\n",
       "      <td>354</td>\n",
       "      <td>1437</td>\n",
       "      <td>526</td>\n",
       "      <td>247</td>\n",
       "      <td>427</td>\n",
       "    </tr>\n",
       "    <tr>\n",
       "      <th>1</th>\n",
       "      <td>293</td>\n",
       "      <td>559</td>\n",
       "      <td>388</td>\n",
       "      <td>1527</td>\n",
       "      <td>567</td>\n",
       "      <td>239</td>\n",
       "      <td>258</td>\n",
       "    </tr>\n",
       "    <tr>\n",
       "      <th>2</th>\n",
       "      <td>372</td>\n",
       "      <td>767</td>\n",
       "      <td>562</td>\n",
       "      <td>1948</td>\n",
       "      <td>927</td>\n",
       "      <td>235</td>\n",
       "      <td>433</td>\n",
       "    </tr>\n",
       "    <tr>\n",
       "      <th>3</th>\n",
       "      <td>406</td>\n",
       "      <td>563</td>\n",
       "      <td>341</td>\n",
       "      <td>1507</td>\n",
       "      <td>544</td>\n",
       "      <td>324</td>\n",
       "      <td>407</td>\n",
       "    </tr>\n",
       "    <tr>\n",
       "      <th>4</th>\n",
       "      <td>386</td>\n",
       "      <td>608</td>\n",
       "      <td>396</td>\n",
       "      <td>1501</td>\n",
       "      <td>558</td>\n",
       "      <td>319</td>\n",
       "      <td>363</td>\n",
       "    </tr>\n",
       "  </tbody>\n",
       "</table>\n",
       "</div>"
      ],
      "text/plain": [
       "   Bread  Vegetables  Fruit  Meat  Poultry  Milk  Wine\n",
       "0    332         428    354  1437      526   247   427\n",
       "1    293         559    388  1527      567   239   258\n",
       "2    372         767    562  1948      927   235   433\n",
       "3    406         563    341  1507      544   324   407\n",
       "4    386         608    396  1501      558   319   363"
      ]
     },
     "execution_count": 3,
     "metadata": {},
     "output_type": "execute_result"
    }
   ],
   "source": [
    "data_reduced = data.drop(['Social Class/ No. of children'], axis=1)\n",
    "data_reduced.head()"
   ]
  },
  {
   "cell_type": "code",
   "execution_count": 4,
   "metadata": {},
   "outputs": [],
   "source": [
    "pca = PCA(n_components=7).fit(data_reduced)\n",
    "#Note that pca.transform() returns scores based on centred data\n",
    "pca_samples = pca.transform(data_reduced)"
   ]
  },
  {
   "cell_type": "markdown",
   "metadata": {},
   "source": [
    "## Task 1\n",
    "Obtain the PCA results table."
   ]
  },
  {
   "cell_type": "code",
   "execution_count": null,
   "metadata": {
    "collapsed": true
   },
   "outputs": [],
   "source": []
  },
  {
   "cell_type": "markdown",
   "metadata": {},
   "source": [
    "## Task 2\n",
    "Obtain the screen plot."
   ]
  },
  {
   "cell_type": "code",
   "execution_count": null,
   "metadata": {
    "collapsed": true
   },
   "outputs": [],
   "source": []
  },
  {
   "cell_type": "markdown",
   "metadata": {},
   "source": [
    "## Task 3\n",
    "Obtain the loading plot."
   ]
  },
  {
   "cell_type": "code",
   "execution_count": null,
   "metadata": {
    "collapsed": true
   },
   "outputs": [],
   "source": []
  },
  {
   "cell_type": "markdown",
   "metadata": {},
   "source": [
    "## Task 4\n",
    "Obtain the score plot."
   ]
  },
  {
   "cell_type": "code",
   "execution_count": null,
   "metadata": {
    "collapsed": true
   },
   "outputs": [],
   "source": []
  }
 ],
 "metadata": {
  "kernelspec": {
   "display_name": "Python 3",
   "language": "python",
   "name": "python3"
  },
  "language_info": {
   "codemirror_mode": {
    "name": "ipython",
    "version": 3
   },
   "file_extension": ".py",
   "mimetype": "text/x-python",
   "name": "python",
   "nbconvert_exporter": "python",
   "pygments_lexer": "ipython3",
   "version": "3.7.3"
  },
  "toc": {
   "base_numbering": 1,
   "nav_menu": {},
   "number_sections": true,
   "sideBar": true,
   "skip_h1_title": false,
   "title_cell": "Table of Contents",
   "title_sidebar": "Contents",
   "toc_cell": false,
   "toc_position": {},
   "toc_section_display": true,
   "toc_window_display": false
  }
 },
 "nbformat": 4,
 "nbformat_minor": 2
}
