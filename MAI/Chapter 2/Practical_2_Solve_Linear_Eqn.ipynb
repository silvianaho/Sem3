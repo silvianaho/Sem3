{
 "cells": [
  {
   "cell_type": "markdown",
   "metadata": {},
   "source": [
    "# Practical 2: Systems of Linear Equations\n",
    "\n",
    "In this practical, we will write code the Gaussian elimination algorithm to solve a system of linear equations with unique solution."
   ]
  },
  {
   "cell_type": "markdown",
   "metadata": {},
   "source": [
    "### Task 1\n",
    "\n",
    "Solve the following system of linear equations\n",
    "\n",
    "$$\\begin{eqnarray}\n",
    "2x_1 &+& 4x_2 &+& 6x_3 &=& 22 \\\\\n",
    "3x_1 &+& 8x_2 &+& 5x_3 &=& 27 \\\\\n",
    "-x_1 &+& x_2 &+& 2x_3 &=& 2 \\\\\n",
    "\\end{eqnarray}$$\n",
    "\n",
    "given that it has unique solution."
   ]
  },
  {
   "cell_type": "code",
   "execution_count": 1,
   "metadata": {},
   "outputs": [],
   "source": [
    "import numpy as np"
   ]
  },
  {
   "cell_type": "code",
   "execution_count": 2,
   "metadata": {},
   "outputs": [
    {
     "data": {
      "text/plain": [
       "array([[ 2.,  4.,  6.],\n",
       "       [ 3.,  8.,  5.],\n",
       "       [-1.,  1.,  2.]])"
      ]
     },
     "execution_count": 2,
     "metadata": {},
     "output_type": "execute_result"
    }
   ],
   "source": [
    "A = np.array([[2, 4, 6], \n",
    "              [3, 8, 5], \n",
    "              [-1, 1, 2]], dtype='float')\n",
    "A"
   ]
  },
  {
   "cell_type": "code",
   "execution_count": 3,
   "metadata": {},
   "outputs": [
    {
     "data": {
      "text/plain": [
       "array([22, 27,  2])"
      ]
     },
     "execution_count": 3,
     "metadata": {},
     "output_type": "execute_result"
    }
   ],
   "source": [
    "b = np.array([22, 27, 2])\n",
    "b"
   ]
  },
  {
   "cell_type": "code",
   "execution_count": 4,
   "metadata": {
    "scrolled": true
   },
   "outputs": [
    {
     "data": {
      "text/plain": [
       "array([[ 2.,  4.,  6., 22.],\n",
       "       [ 3.,  8.,  5., 27.],\n",
       "       [-1.,  1.,  2.,  2.]])"
      ]
     },
     "execution_count": 4,
     "metadata": {},
     "output_type": "execute_result"
    }
   ],
   "source": [
    "Ab = np.hstack([A, b.reshape(-1, 1)])\n",
    "Ab"
   ]
  },
  {
   "cell_type": "markdown",
   "metadata": {},
   "source": [
    "Find the number of linear equations and store in n."
   ]
  },
  {
   "cell_type": "code",
   "execution_count": 5,
   "metadata": {},
   "outputs": [],
   "source": [
    "n = len(b)"
   ]
  },
  {
   "cell_type": "markdown",
   "metadata": {},
   "source": [
    "The algorithm below is used to convert the augmented matrix to row echelon form.<br>\n",
    "Illustrated below is the algorithm applied to this example:\n",
    "$$\n",
    "\\begin{bmatrix}\n",
    "\\begin{array}{c c c|c}\n",
    "  2 & 4 & 6 & 22 \\\\ \n",
    "  3 & 8 & 5 & 27 \\\\\n",
    "  -1 & 1 & 2 & 2\n",
    " \\end{array}\n",
    "\\end{bmatrix}\n",
    "$$\n",
    "\n",
    "\n",
    "$$\n",
    "\\xrightarrow[R_{3}-(-\\frac{1}{2}R_{1})]{R_{2}-\\frac{3}{2}R_{1}}\n",
    "\\begin{bmatrix}\n",
    "\\begin{array}{c c c|c}\n",
    "  2 & 4 & 6 & 22 \\\\ \n",
    "  0 & 2 & -4 & -6 \\\\\n",
    "  0 & 3 & 5 & 13\n",
    " \\end{array} \n",
    "\\end{bmatrix}\n",
    "$$\n",
    "\n",
    "\n",
    "$$\n",
    "\\xrightarrow[]{R_{3}-\\frac{3}{2}R_{2}}\n",
    "\\begin{bmatrix}\n",
    "\\begin{array}{c c c|c}\n",
    "  2 & 4 & 6 & 22 \\\\ \n",
    "  0 & 2 & -4 & -6 \\\\\n",
    "  0 & 0 & 11 & 22\n",
    " \\end{array} \n",
    "\\end{bmatrix}\n",
    "$$"
   ]
  },
  {
   "cell_type": "code",
   "execution_count": 6,
   "metadata": {},
   "outputs": [],
   "source": [
    "#Converts augmented matrix to row echelon form\n",
    "for i in range(n):\n",
    "    a = Ab[i]\n",
    "\n",
    "    for j in range(i + 1, n):\n",
    "        b = Ab[j]\n",
    "        m = b[i] / a[i]\n",
    "        Ab[j] = b - m * a"
   ]
  },
  {
   "cell_type": "code",
   "execution_count": 7,
   "metadata": {},
   "outputs": [
    {
     "data": {
      "text/plain": [
       "array([[ 2.,  4.,  6., 22.],\n",
       "       [ 0.,  2., -4., -6.],\n",
       "       [ 0.,  0., 11., 22.]])"
      ]
     },
     "execution_count": 7,
     "metadata": {},
     "output_type": "execute_result"
    }
   ],
   "source": [
    "Ab"
   ]
  },
  {
   "cell_type": "markdown",
   "metadata": {},
   "source": [
    "The algorithm below is used to convert row echelon form to reduced row echelon form (only one '1' in each row on the left side of the augmented matrix).<br>\n",
    "Illustrated below is the algorithm applied to this example:\n",
    "$$\n",
    "\\begin{bmatrix}\n",
    "\\begin{array}{c c c|c}\n",
    "  2 & 4 & 6 & 22 \\\\ \n",
    "  0 & 2 & -4 & -6 \\\\\n",
    "  0 & 0 & 11 & 22\n",
    " \\end{array}\n",
    "\\end{bmatrix}$$\n",
    "\n",
    "$$\n",
    "\\xrightarrow[]{\\frac{1}{11}R_{3}}\n",
    "\\begin{bmatrix}\n",
    "\\begin{array}{c c c|c}\n",
    "  2 & 4 & 6 & 22 \\\\ \n",
    "  0 & 2 & -4 & -6 \\\\\n",
    "  0 & 0 & 1 & 2\n",
    " \\end{array} \n",
    "\\end{bmatrix}\n",
    "$$\n",
    "\n",
    "$$\n",
    "\\xrightarrow[-\\frac{1}{6}R_{1} + R_{3}]{-(\\frac{1}{-4})R_{2} + R_{3}}\n",
    "\\begin{bmatrix}\n",
    "\\begin{array}{c c c|c}\n",
    "  -\\frac{1}{3} & -\\frac{2}{3} & 0 & -\\frac{5}{3} \\\\ \n",
    "  0 & \\frac{1}{2} & 0 & \\frac{1}{2} \\\\\n",
    "  0 & 0 & 1 & 2\n",
    " \\end{array} \n",
    "\\end{bmatrix}\n",
    "$$\n",
    "\n",
    "$$\n",
    "\\xrightarrow[]{\\frac{1}{0.5}R_{2}}\n",
    "\\begin{bmatrix}\n",
    "\\begin{array}{c c c|c}\n",
    "  -\\frac{1}{3} & -\\frac{2}{3} & 0 & -\\frac{5}{3} \\\\ \n",
    "  0 & 1 & 0 & 1 \\\\\n",
    "  0 & 0 & 1 & 2\n",
    " \\end{array} \n",
    "\\end{bmatrix}\n",
    "$$\n",
    "\n",
    "$$\n",
    "\\xrightarrow[]{-\\frac{1}{-\\frac{2}{3}}R_{1} + R_{2}}\n",
    "\\begin{bmatrix}\n",
    "\\begin{array}{c c c|c}\n",
    "  -\\frac{1}{2} & 0 & 0 & -\\frac{3}{2} \\\\ \n",
    "  0 & 1 & 0 & 1 \\\\\n",
    "  0 & 0 & 1 & 2\n",
    " \\end{array} \n",
    "\\end{bmatrix}\n",
    "$$\n",
    "\n",
    "$$\n",
    "\\xrightarrow[]{\\frac{1}{-0.5}R_{1}}\n",
    "\\begin{bmatrix}\n",
    "\\begin{array}{c c c|c}\n",
    "  1 & 0 & 0 & 3 \\\\ \n",
    "  0 & 1 & 0 & 1 \\\\\n",
    "  0 & 0 & 1 & 2\n",
    " \\end{array} \n",
    "\\end{bmatrix}\n",
    "$$"
   ]
  },
  {
   "cell_type": "code",
   "execution_count": 8,
   "metadata": {},
   "outputs": [
    {
     "data": {
      "text/plain": [
       "array([[ 1., -0., -0.,  3.],\n",
       "       [ 0.,  1.,  0.,  1.],\n",
       "       [ 0.,  0.,  1.,  2.]])"
      ]
     },
     "execution_count": 8,
     "metadata": {},
     "output_type": "execute_result"
    }
   ],
   "source": [
    "#Converts row echelon form to reduced row echelon form\n",
    "for i in range(n - 1, -1, -1):\n",
    "    Ab[i] = Ab[i] / Ab[i, i]\n",
    "    a = Ab[i]\n",
    "\n",
    "    for j in range(i - 1, -1, -1):\n",
    "        b = Ab[j]\n",
    "        m = a[i] / b[i]\n",
    "        Ab[j] = a - m * b\n",
    "Ab"
   ]
  },
  {
   "cell_type": "markdown",
   "metadata": {
    "collapsed": true
   },
   "source": [
    "We can now have the answers<br>\n",
    "$$\\begin{eqnarray}\n",
    "x_1 &=& 3 \\\\\n",
    "x_2 &=& 1 \\\\\n",
    "x_3 &=& 2 \\\\\n",
    "\\end{eqnarray}$$"
   ]
  },
  {
   "cell_type": "code",
   "execution_count": 9,
   "metadata": {},
   "outputs": [
    {
     "data": {
      "text/plain": [
       "array([3., 1., 2.])"
      ]
     },
     "execution_count": 9,
     "metadata": {},
     "output_type": "execute_result"
    }
   ],
   "source": [
    "x = Ab[:, n]\n",
    "x"
   ]
  },
  {
   "cell_type": "markdown",
   "metadata": {},
   "source": [
    "### Task 2\n",
    "\n",
    "Modify the code from task 1 and use it to solve the following system of linear equations\n",
    "\n",
    "$$\\begin{eqnarray}\n",
    "&       &2x_2 &+&  3x_3 &=&  7 \\\\\n",
    "3x_1 &+& 6x_2 &-& 12x_3 &=& -3 \\\\\n",
    "5x_1 &-& 2x_2 &+&  2x_3 &=& -7 \\\\\n",
    "\\end{eqnarray}$$\n",
    "\n",
    "given that it has unique solution.<br>\n",
    "Hint: You will need to make an improvement to the section of the code that converts the augmented matrix to row echelon form."
   ]
  },
  {
   "cell_type": "code",
   "execution_count": 10,
   "metadata": {},
   "outputs": [],
   "source": [
    "A = np.array([[0, 2, 3], [3, 6, -12], [5, -2, 2]], dtype='float')\n",
    "b = np.array([7, -3, -7])\n",
    "Ab = np.hstack([A, b.reshape(-1, 1)])\n",
    "\n",
    "n = len(b)"
   ]
  },
  {
   "cell_type": "code",
   "execution_count": 11,
   "metadata": {},
   "outputs": [
    {
     "name": "stderr",
     "output_type": "stream",
     "text": [
      "C:\\Users\\Silviana\\Anaconda3\\lib\\site-packages\\ipykernel_launcher.py:7: RuntimeWarning: divide by zero encountered in double_scalars\n",
      "  import sys\n",
      "C:\\Users\\Silviana\\Anaconda3\\lib\\site-packages\\ipykernel_launcher.py:8: RuntimeWarning: invalid value encountered in multiply\n",
      "  \n",
      "C:\\Users\\Silviana\\Anaconda3\\lib\\site-packages\\ipykernel_launcher.py:7: RuntimeWarning: invalid value encountered in double_scalars\n",
      "  import sys\n"
     ]
    }
   ],
   "source": [
    "#Converts augmented matrix to row echelon form. Modify this part.\n",
    "for i in range(n):\n",
    "    a = Ab[i]\n",
    "\n",
    "    for j in range(i + 1, n):\n",
    "        b = Ab[j]\n",
    "        m = b[i] / a[i]\n",
    "        Ab[j] = b - m * a"
   ]
  },
  {
   "cell_type": "code",
   "execution_count": 12,
   "metadata": {},
   "outputs": [
    {
     "data": {
      "text/plain": [
       "array([nan, nan, nan])"
      ]
     },
     "execution_count": 12,
     "metadata": {},
     "output_type": "execute_result"
    }
   ],
   "source": [
    "#Converts row echelon form to reduced row echelon form.\n",
    "for i in range(n - 1, -1, -1):\n",
    "    Ab[i] = Ab[i] / Ab[i, i]\n",
    "    a = Ab[i]\n",
    "\n",
    "    for j in range(i - 1, -1, -1):\n",
    "        b = Ab[j]\n",
    "        m = a[i] / b[i]\n",
    "        Ab[j] = a - m * b\n",
    "\n",
    "x = Ab[:, n]\n",
    "x"
   ]
  },
  {
   "cell_type": "code",
   "execution_count": null,
   "metadata": {},
   "outputs": [],
   "source": []
  },
  {
   "cell_type": "markdown",
   "metadata": {},
   "source": [
    "### Task 3\n",
    "\n",
    "Modify the code from task 2 and use it to solve the following system of linear equations\n",
    "\n",
    "$$\\begin{eqnarray}\n",
    "x_1 &-& x_2 &     & &=& 3 \\\\\n",
    "x_1 &      & &-& x_3 &=& -2 \\\\\n",
    "-6x_1 &+& 2x_2 &+& 3x_3 &=& 0 \\\\\n",
    "\\end{eqnarray}$$\n",
    "\n",
    "given that it has unique solution.<br>\n",
    "Hint: You will need to make an improvement to the section of the code that converts row echelon form to reduced row echelon form."
   ]
  },
  {
   "cell_type": "code",
   "execution_count": null,
   "metadata": {},
   "outputs": [],
   "source": []
  },
  {
   "cell_type": "markdown",
   "metadata": {},
   "source": [
    "### Task 4\n",
    "\n",
    "Given a system of 10 linear equations (below) that has a unique solution, compare the time taken to solve the system of linear equations using your code from task 3 with numpy.linalg.solve.\n",
    "\n",
    "$$\n",
    "\\begin{align*}\n",
    "3x_{1} + 5x_{2} + 4x_{3} + 3x_{4} - 8x_{5} - 8x_{6} - 6x_{7} - 6x_{8} - 6x_{9} - 7x_{10} &= -148 \\\\\n",
    "6x_{1} + 9x_{2} + 6x_{3} - 3x_{4} + 6x_{5} - 8x_{6} - 7x_{7} + 5x_{8} - 6x_{9} - 3x_{10} &= 29 \\\\\n",
    "8x_{1} + 3x_{2} - 7x_{3} + x_{4} - 4x_{5} + 3x_{6} - 4x_{7} - 2x_{8} - 6x_{9} + 4x_{10} &= 84 \\\\\n",
    "4x_{1} - 4x_{2} + 5x_{3} + 7x_{4} - 5x_{5} - 8x_{6} + 5x_{7} + 0x_{8} + 8x_{9} + 8x_{10} &= -88 \\\\\n",
    "9x_{1} + 8x_{2} + 10x_{3} - 6x_{4} - 3x_{5} - 3x_{6} + 5x_{7} - 8x_{8} - 2x_{9} - 7x_{10} &= -208 \\\\\n",
    "-5x_{1} + x_{2} + 8x_{3} - 3x_{4} + 4x_{5} - 4x_{6} - x_{7} + 6x_{8} - 9x_{9} + x_{10} &= -64 \\\\\n",
    "-8x_{1} - 6x_{2} + 6x_{3} + 0x_{4} + 10x_{5} - 8x_{6} + 4x_{7} + 2x_{8} - 4x_{9} - x_{10} &= -75 \\\\\n",
    "x_{1} + 2x_{2} + x_{3} + 8x_{4} - 4x_{5} + 5x_{6} - 10x_{7} + 7x_{8} + 0x_{9} - 2x_{10} &= 124 \\\\\n",
    "7x_{1} + 4x_{2} - 6x_{3} - 7x_{4} - 7x_{5} - 10x_{6} - 7x_{7} - 8x_{8} + 8x_{9} + 3x_{10} &= -59 \\\\\n",
    "-2x_{1} - 7x_{2} + 0x_{3} - 3x_{4} + 5x_{5} - 8x_{6} - 6x_{7} - 9x_{8} - 5x_{9} - 3x_{10} &= -62 \\\\\n",
    "\\end{align*}\n",
    "$$\n"
   ]
  },
  {
   "cell_type": "code",
   "execution_count": 13,
   "metadata": {},
   "outputs": [],
   "source": [
    "import timeit"
   ]
  },
  {
   "cell_type": "code",
   "execution_count": 14,
   "metadata": {},
   "outputs": [
    {
     "ename": "NameError",
     "evalue": "name 'x' is not defined",
     "output_type": "error",
     "traceback": [
      "\u001b[1;31m---------------------------------------------------------------------------\u001b[0m",
      "\u001b[1;31mNameError\u001b[0m                                 Traceback (most recent call last)",
      "\u001b[1;32m<ipython-input-14-e6ddb4180cfd>\u001b[0m in \u001b[0;36m<module>\u001b[1;34m\u001b[0m\n\u001b[0;32m     14\u001b[0m '''\n\u001b[0;32m     15\u001b[0m \u001b[1;33m\u001b[0m\u001b[0m\n\u001b[1;32m---> 16\u001b[1;33m \u001b[0mprint\u001b[0m\u001b[1;33m(\u001b[0m\u001b[1;34m\"Time taken is \"\u001b[0m\u001b[1;33m,\u001b[0m \u001b[0mtimeit\u001b[0m\u001b[1;33m.\u001b[0m\u001b[0mtimeit\u001b[0m\u001b[1;33m(\u001b[0m\u001b[0mstmt\u001b[0m \u001b[1;33m=\u001b[0m \u001b[0mGaussian\u001b[0m\u001b[1;33m,\u001b[0m \u001b[0mnumber\u001b[0m \u001b[1;33m=\u001b[0m \u001b[1;36m10000\u001b[0m\u001b[1;33m)\u001b[0m\u001b[1;33m)\u001b[0m\u001b[1;33m\u001b[0m\u001b[1;33m\u001b[0m\u001b[0m\n\u001b[0m",
      "\u001b[1;32m~\\Anaconda3\\lib\\timeit.py\u001b[0m in \u001b[0;36mtimeit\u001b[1;34m(stmt, setup, timer, number, globals)\u001b[0m\n\u001b[0;32m    230\u001b[0m            number=default_number, globals=None):\n\u001b[0;32m    231\u001b[0m     \u001b[1;34m\"\"\"Convenience function to create Timer object and call timeit method.\"\"\"\u001b[0m\u001b[1;33m\u001b[0m\u001b[1;33m\u001b[0m\u001b[0m\n\u001b[1;32m--> 232\u001b[1;33m     \u001b[1;32mreturn\u001b[0m \u001b[0mTimer\u001b[0m\u001b[1;33m(\u001b[0m\u001b[0mstmt\u001b[0m\u001b[1;33m,\u001b[0m \u001b[0msetup\u001b[0m\u001b[1;33m,\u001b[0m \u001b[0mtimer\u001b[0m\u001b[1;33m,\u001b[0m \u001b[0mglobals\u001b[0m\u001b[1;33m)\u001b[0m\u001b[1;33m.\u001b[0m\u001b[0mtimeit\u001b[0m\u001b[1;33m(\u001b[0m\u001b[0mnumber\u001b[0m\u001b[1;33m)\u001b[0m\u001b[1;33m\u001b[0m\u001b[1;33m\u001b[0m\u001b[0m\n\u001b[0m\u001b[0;32m    233\u001b[0m \u001b[1;33m\u001b[0m\u001b[0m\n\u001b[0;32m    234\u001b[0m def repeat(stmt=\"pass\", setup=\"pass\", timer=default_timer,\n",
      "\u001b[1;32m~\\Anaconda3\\lib\\timeit.py\u001b[0m in \u001b[0;36mtimeit\u001b[1;34m(self, number)\u001b[0m\n\u001b[0;32m    174\u001b[0m         \u001b[0mgc\u001b[0m\u001b[1;33m.\u001b[0m\u001b[0mdisable\u001b[0m\u001b[1;33m(\u001b[0m\u001b[1;33m)\u001b[0m\u001b[1;33m\u001b[0m\u001b[1;33m\u001b[0m\u001b[0m\n\u001b[0;32m    175\u001b[0m         \u001b[1;32mtry\u001b[0m\u001b[1;33m:\u001b[0m\u001b[1;33m\u001b[0m\u001b[1;33m\u001b[0m\u001b[0m\n\u001b[1;32m--> 176\u001b[1;33m             \u001b[0mtiming\u001b[0m \u001b[1;33m=\u001b[0m \u001b[0mself\u001b[0m\u001b[1;33m.\u001b[0m\u001b[0minner\u001b[0m\u001b[1;33m(\u001b[0m\u001b[0mit\u001b[0m\u001b[1;33m,\u001b[0m \u001b[0mself\u001b[0m\u001b[1;33m.\u001b[0m\u001b[0mtimer\u001b[0m\u001b[1;33m)\u001b[0m\u001b[1;33m\u001b[0m\u001b[1;33m\u001b[0m\u001b[0m\n\u001b[0m\u001b[0;32m    177\u001b[0m         \u001b[1;32mfinally\u001b[0m\u001b[1;33m:\u001b[0m\u001b[1;33m\u001b[0m\u001b[1;33m\u001b[0m\u001b[0m\n\u001b[0;32m    178\u001b[0m             \u001b[1;32mif\u001b[0m \u001b[0mgcold\u001b[0m\u001b[1;33m:\u001b[0m\u001b[1;33m\u001b[0m\u001b[1;33m\u001b[0m\u001b[0m\n",
      "\u001b[1;32m~\\Anaconda3\\lib\\timeit.py\u001b[0m in \u001b[0;36minner\u001b[1;34m(_it, _timer)\u001b[0m\n",
      "\u001b[1;31mNameError\u001b[0m: name 'x' is not defined"
     ]
    }
   ],
   "source": [
    "#Find the time taken to solve the system of linear equations using Guassian elimination\n",
    "Gaussian = '''\n",
    "import numpy as np\n",
    "A = np.array([[3, 5, 4, 3, -8, -8, -6, -6, -6, -7], [6, 9, 6, -3, 6, -8, -7, 5, -6, -3], [8, 3, -7, 1, -4, 3, -4, -2, -6, 4], [4, -4, 5, 7, -5, -8, 5, 0, 8, 8], [9, 8, 10, -6, -3, -3, 5, -8, -2, -7], [-5, 1, 8, -3, 4, -4, -1, 6, -9, 1], [-8, -6, 6, 0, 10, -8, 4, 2, -4, -1], [1, 2, 1, 8, -4, 5, -10, 7, 0, -2], [7, 4, -6, -7, -10, -10, -7, -8, 8, 3], [-2, -7, 0, -3, 5, -8, -6, -9, -5, -3]], dtype='float')\n",
    "b = np.array([-148, 29, 84, -88, -208, -64, -75, 124, -59, -62])\n",
    "Ab = np.hstack([A, b.reshape(-1, 1)])\n",
    "n = len(b)\n",
    "\n",
    "# Put your code from Task 3 here\n",
    "\n",
    "\n",
    "\n",
    "print(x)\n",
    "'''\n",
    "\n",
    "print(\"Time taken is \", timeit.timeit(stmt = Gaussian, number = 10000))"
   ]
  },
  {
   "cell_type": "code",
   "execution_count": null,
   "metadata": {},
   "outputs": [],
   "source": [
    "#Find the time taken to solve the system of linear equations using numpy.linalg.solve\n",
    "Auto = '''\n",
    "A = np.array([[3, 5, 4, 3, -8, -8, -6, -6, -6, -7], [6, 9, 6, -3, 6, -8, -7, 5, -6, -3], [8, 3, -7, 1, -4, 3, -4, -2, -6, 4], [4, -4, 5, 7, -5, -8, 5, 0, 8, 8], [9, 8, 10, -6, -3, -3, 5, -8, -2, -7], [-5, 1, 8, -3, 4, -4, -1, 6, -9, 1], [-8, -6, 6, 0, 10, -8, 4, 2, -4, -1], [1, 2, 1, 8, -4, 5, -10, 7, 0, -2], [7, 4, -6, -7, -10, -10, -7, -8, 8, 3], [-2, -7, 0, -3, 5, -8, -6, -9, -5, -3]], dtype='float')\n",
    "b = np.array([-148, 29, 84, -88, -208, -64, -75, 124, -59, -62])\n",
    "Ab = np.hstack([A, b.reshape(-1, 1)])\n",
    "n = len(b)\n",
    "print(np.linalg.solve(A,b))\n",
    "'''\n",
    "\n",
    "print(timeit.timeit(stmt = Auto, number = 10000))"
   ]
  },
  {
   "cell_type": "code",
   "execution_count": null,
   "metadata": {},
   "outputs": [],
   "source": []
  },
  {
   "cell_type": "markdown",
   "metadata": {
    "collapsed": true
   },
   "source": [
    "You will notice that numpy.linalg.solve takes a shorter time to solve the system of linear equations as it uses the LAPACK routine. However, numpy.linalg.solve can only solve a system of linear equations with a unique solution."
   ]
  },
  {
   "cell_type": "markdown",
   "metadata": {},
   "source": [
    "### Task 5\n",
    "If we do not know the number of solutions our system of linear equations has, we can use sympy.linsolve.\n",
    "\n",
    "For example, we can use sympy.linsolve to solve the following system of linear equations which has many solutions:\n",
    "\\begin{eqnarray}\n",
    "x_1 + x_2 - 5x_3 = 3 \\\\\n",
    "x_1 - 2x_3 = 1 \\\\\n",
    "2x_1 - x_2 - x_3 = 0\n",
    "\\end{eqnarray}"
   ]
  },
  {
   "cell_type": "code",
   "execution_count": null,
   "metadata": {},
   "outputs": [],
   "source": [
    "import sympy as sp"
   ]
  },
  {
   "cell_type": "code",
   "execution_count": null,
   "metadata": {},
   "outputs": [],
   "source": [
    "sp.init_printing()"
   ]
  },
  {
   "cell_type": "code",
   "execution_count": null,
   "metadata": {},
   "outputs": [],
   "source": [
    "x1, x2, x3 = sp.symbols('x1 x2 x3')"
   ]
  },
  {
   "cell_type": "code",
   "execution_count": null,
   "metadata": {},
   "outputs": [],
   "source": [
    "A5 = sp.Matrix([[1,1,-5], [1, 0, -2], [2,-1,-1]])"
   ]
  },
  {
   "cell_type": "code",
   "execution_count": null,
   "metadata": {},
   "outputs": [],
   "source": [
    "b5 = sp.Matrix([[3], [1], [0]])"
   ]
  },
  {
   "cell_type": "code",
   "execution_count": null,
   "metadata": {
    "scrolled": true
   },
   "outputs": [],
   "source": [
    "sp.linsolve((A5, b5), x1, x2, x3)"
   ]
  },
  {
   "cell_type": "code",
   "execution_count": null,
   "metadata": {},
   "outputs": [],
   "source": []
  }
 ],
 "metadata": {
  "kernelspec": {
   "display_name": "Python 3",
   "language": "python",
   "name": "python3"
  },
  "language_info": {
   "codemirror_mode": {
    "name": "ipython",
    "version": 3
   },
   "file_extension": ".py",
   "mimetype": "text/x-python",
   "name": "python",
   "nbconvert_exporter": "python",
   "pygments_lexer": "ipython3",
   "version": "3.7.3"
  },
  "toc": {
   "base_numbering": 1,
   "nav_menu": {},
   "number_sections": true,
   "sideBar": true,
   "skip_h1_title": false,
   "title_cell": "Table of Contents",
   "title_sidebar": "Contents",
   "toc_cell": false,
   "toc_position": {},
   "toc_section_display": true,
   "toc_window_display": false
  }
 },
 "nbformat": 4,
 "nbformat_minor": 2
}
