{
 "cells": [
  {
   "cell_type": "code",
   "execution_count": 1,
   "metadata": {},
   "outputs": [],
   "source": [
    "import numpy as np\n",
    "import pandas as pd"
   ]
  },
  {
   "cell_type": "markdown",
   "metadata": {},
   "source": [
    "# Chapter 1 "
   ]
  },
  {
   "cell_type": "code",
   "execution_count": 2,
   "metadata": {},
   "outputs": [],
   "source": [
    "# making an array (vector)\n",
    "v = np.array([[1],\n",
    "              [4]])\n",
    "vdimension = v.shape"
   ]
  },
  {
   "cell_type": "code",
   "execution_count": 3,
   "metadata": {},
   "outputs": [],
   "source": [
    "# matrix addition and subtraction\n",
    "A = np.array([[5,8],\n",
    "              [6,9]])\n",
    "B = np.array([[3,2],\n",
    "              [4,-1]])\n",
    "C = A + B\n",
    "D = A - B"
   ]
  },
  {
   "cell_type": "code",
   "execution_count": 4,
   "metadata": {},
   "outputs": [],
   "source": [
    "# multiplication\n",
    "# scalar\n",
    "E = A * 2\n",
    "\n",
    "# matrix-vector or matrix-matrix\n",
    "F = np.dot(A, v)\n",
    "G = np.dot(A, B)"
   ]
  },
  {
   "cell_type": "code",
   "execution_count": 5,
   "metadata": {},
   "outputs": [],
   "source": [
    "# transpose\n",
    "H = A.T\n",
    "\n",
    "# trace\n",
    "traceA = np.trace(A)\n",
    "\n",
    "# determinant\n",
    "detA = np.linalg.det(A)\n",
    "\n",
    "#inverse\n",
    "invA = np.linalg.inv(A)"
   ]
  },
  {
   "cell_type": "code",
   "execution_count": 6,
   "metadata": {},
   "outputs": [],
   "source": [
    "# Identity matrix\n",
    "I3 = np.eye(3)\n",
    "\n",
    "# Diagonal matrix\n",
    "J = np.diag((1, 5, 1))\n",
    "\n",
    "# Ones\n",
    "K = np.ones((1, 3))"
   ]
  },
  {
   "cell_type": "code",
   "execution_count": 48,
   "metadata": {},
   "outputs": [
    {
     "data": {
      "image/png": "[encoded data removed]",
      "text/latex": [
       "$\\displaystyle 4.242640687119285$"
      ],
      "text/plain": [
       "4.242640687119285"
      ]
     },
     "execution_count": 48,
     "metadata": {},
     "output_type": "execute_result"
    }
   ],
   "source": [
    "# Norm of vector\n",
    "v2 = np.array([[1], [0], [2], [2], [3]])\n",
    "norm_v2 = np.linalg.norm(v2)\n",
    "norm_v2"
   ]
  },
  {
   "cell_type": "markdown",
   "metadata": {},
   "source": [
    "# Chapter 2 "
   ]
  },
  {
   "cell_type": "code",
   "execution_count": 8,
   "metadata": {},
   "outputs": [],
   "source": [
    "A = np.array([[2, 4, 6], [3, 8, 5], [-1, 1, 2]], dtype='float')\n",
    "b = np.array([22, 27, 2])\n",
    "\n",
    "Ab = np.hstack([A, b.reshape(-1, 1)])\n",
    "\n",
    "n = len(b)"
   ]
  },
  {
   "cell_type": "code",
   "execution_count": 9,
   "metadata": {},
   "outputs": [],
   "source": [
    "# Converts augmented matrix to row echelon form\n",
    "for i in range(n):\n",
    "    a = Ab[i]\n",
    "\n",
    "    for j in range(i + 1, n):\n",
    "        b = Ab[j]\n",
    "        m = b[i] / a[i]\n",
    "        Ab[j] = b - m * a"
   ]
  },
  {
   "cell_type": "code",
   "execution_count": 10,
   "metadata": {},
   "outputs": [],
   "source": [
    "# Converts row echelon form to reduced row echelon form\n",
    "for i in range(n - 1, -1, -1):\n",
    "    Ab[i] = Ab[i] / Ab[i, i]\n",
    "    a = Ab[i]\n",
    "\n",
    "    for j in range(i - 1, -1, -1):\n",
    "        b = Ab[j]\n",
    "        m = a[i] / b[i]\n",
    "        Ab[j] = a - m * b"
   ]
  },
  {
   "cell_type": "code",
   "execution_count": 11,
   "metadata": {},
   "outputs": [],
   "source": [
    "x = Ab[:, n]"
   ]
  },
  {
   "cell_type": "code",
   "execution_count": 12,
   "metadata": {},
   "outputs": [
    {
     "data": {
      "text/plain": [
       "array([ 3.,  2., -8.,  4.,  9.,  6., -7.,  5.,  3.,  3.])"
      ]
     },
     "execution_count": 12,
     "metadata": {},
     "output_type": "execute_result"
    }
   ],
   "source": [
    "A = np.array([[3, 5, 4, 3, -8, -8, -6, -6, -6, -7],\n",
    "              [6, 9, 6, -3, 6, -8, -7, 5, -6, -3],\n",
    "              [8, 3, -7, 1, -4, 3, -4, -2, -6, 4],\n",
    "              [4, -4, 5, 7, -5, -8, 5, 0, 8, 8],\n",
    "              [9, 8, 10, -6, -3, -3, 5, -8, -2, -7],\n",
    "              [-5, 1, 8, -3, 4, -4, -1, 6, -9, 1],\n",
    "              [-8, -6, 6, 0, 10, -8, 4, 2, -4, -1],\n",
    "              [1, 2, 1, 8, -4, 5, -10, 7, 0, -2],\n",
    "              [7, 4, -6, -7, -10, -10, -7, -8, 8, 3],\n",
    "              [-2, -7, 0, -3, 5, -8, -6, -9, -5, -3]], dtype='float')\n",
    "b = np.array([-148, 29, 84, -88, -208, -64, -75, 124, -59, -62])\n",
    "# numpy.linalg.solve is faster but it can only solve a system of linear equations with a unique solution.\n",
    "np.linalg.solve(A,b)"
   ]
  },
  {
   "cell_type": "code",
   "execution_count": 13,
   "metadata": {},
   "outputs": [],
   "source": [
    "# If we do not know the number of solutions our system of linear equations has, we can use sympy.linsolve.\n",
    "import sympy as sp"
   ]
  },
  {
   "cell_type": "code",
   "execution_count": 14,
   "metadata": {},
   "outputs": [],
   "source": [
    "sp.init_printing()"
   ]
  },
  {
   "cell_type": "code",
   "execution_count": 15,
   "metadata": {},
   "outputs": [],
   "source": [
    "x1, x2, x3 = sp.symbols('x1 x2 x3')"
   ]
  },
  {
   "cell_type": "code",
   "execution_count": 16,
   "metadata": {},
   "outputs": [
    {
     "data": {
      "text/latex": [
       "$\\displaystyle \\left[\\begin{matrix}1 & 1 & -5\\\\1 & 0 & -2\\\\2 & -1 & -1\\end{matrix}\\right]$"
      ],
      "text/plain": [
       "⎡1  1   -5⎤\n",
       "⎢         ⎥\n",
       "⎢1  0   -2⎥\n",
       "⎢         ⎥\n",
       "⎣2  -1  -1⎦"
      ]
     },
     "execution_count": 16,
     "metadata": {},
     "output_type": "execute_result"
    }
   ],
   "source": [
    "A5 = sp.Matrix([[1,1,-5], [1, 0, -2], [2,-1,-1]])\n",
    "A5"
   ]
  },
  {
   "cell_type": "code",
   "execution_count": 17,
   "metadata": {},
   "outputs": [
    {
     "data": {
      "text/latex": [
       "$\\displaystyle \\left[\\begin{matrix}3\\\\1\\\\0\\end{matrix}\\right]$"
      ],
      "text/plain": [
       "⎡3⎤\n",
       "⎢ ⎥\n",
       "⎢1⎥\n",
       "⎢ ⎥\n",
       "⎣0⎦"
      ]
     },
     "execution_count": 17,
     "metadata": {},
     "output_type": "execute_result"
    }
   ],
   "source": [
    "b5 = sp.Matrix([[3], [1], [0]])\n",
    "b5"
   ]
  },
  {
   "cell_type": "code",
   "execution_count": 18,
   "metadata": {
    "scrolled": true
   },
   "outputs": [
    {
     "data": {
      "image/png": "[encoded data removed]",
      "text/latex": [
       "$\\displaystyle \\left\\{\\left( 2 x_{3} + 1, \\  3 x_{3} + 2, \\  x_{3}\\right)\\right\\}$"
      ],
      "text/plain": [
       "{(2⋅x₃ + 1, 3⋅x₃ + 2, x₃)}"
      ]
     },
     "execution_count": 18,
     "metadata": {},
     "output_type": "execute_result"
    }
   ],
   "source": [
    "sp.linsolve((A5, b5), x1, x2, x3)"
   ]
  },
  {
   "cell_type": "markdown",
   "metadata": {},
   "source": [
    "# Chapter 3 "
   ]
  },
  {
   "cell_type": "code",
   "execution_count": 19,
   "metadata": {},
   "outputs": [],
   "source": [
    "data = np.array([[16.44, 12.43, 11.23],\n",
    "                   [ 7.19,  2.7 ,  3.92],\n",
    "                   [ 9.92,  1.35,  9.75],\n",
    "                   [ 4.24,  5.78,  7.78],\n",
    "                   [11.2 ,  5.05, 10.67],\n",
    "                   [14.25,  5.78,  9.88],\n",
    "                   [13.5 , 10.98, 10.6 ],\n",
    "                   [13.32, 14.27,  9.45],\n",
    "                   [12.68,  7.61, 10.23],\n",
    "                   [ 7.51,  5.8 ,  8.13],\n",
    "                   [ 9.9 ,  3.63,  9.13],\n",
    "                   [10.25,  5.07, 10.17],\n",
    "                   [11.11,  6.15,  7.61],\n",
    "                   [12.17, 14.26, 14.39],\n",
    "                   [10.24,  2.59,  6.09],\n",
    "                   [10.18,  6.05, 12.14],\n",
    "                   [ 8.88,  2.7 , 12.23],\n",
    "                   [12.34,  7.73, 11.68],\n",
    "                   [ 8.51, 14.02, 12.01],\n",
    "                   [12.95,  8.24,  7.18],\n",
    "                   [16.93, 13.37, 17.59],\n",
    "                   [14.7 , 10.78, 14.58],\n",
    "                   [10.32,  5.16, 17.  ],\n",
    "                   [ 8.98,  4.49,  4.26],\n",
    "                   [ 9.7 , 11.59,  6.83],\n",
    "                   [12.72,  8.63,  5.59],\n",
    "                   [ 9.49,  2.16,  6.23],\n",
    "                   [ 8.22,  7.95,  6.72],\n",
    "                   [13.7 , 11.22,  4.91],\n",
    "                   [ 8.21,  9.85,  8.17],\n",
    "                   [15.86, 11.42, 13.06],\n",
    "                   [ 9.18,  9.18,  9.49],\n",
    "                   [12.49,  4.67, 11.94],\n",
    "                   [17.32,  6.86,  4.44]])"
   ]
  },
  {
   "cell_type": "code",
   "execution_count": 20,
   "metadata": {},
   "outputs": [],
   "source": [
    "# Find sample mean vector. axis=0 indicates each column in the data matrix is a variable.\n",
    "x_bar = np.mean(data, axis=0)"
   ]
  },
  {
   "cell_type": "code",
   "execution_count": 21,
   "metadata": {},
   "outputs": [
    {
     "data": {
      "image/png": "[encoded data removed]",
      "text/latex": [
       "$\\displaystyle 35.27105918003565$"
      ],
      "text/plain": [
       "35.27105918003565"
      ]
     },
     "execution_count": 21,
     "metadata": {},
     "output_type": "execute_result"
    }
   ],
   "source": [
    "# Find sample covariance matrix. rowvar=0 indicates each column in the data matrix is a variable. \n",
    "C = np.cov(data, rowvar=0)\n",
    "\n",
    "# Find generalised sample variance\n",
    "np.linalg.det(C)\n",
    "\n",
    "# Find total sample variance\n",
    "np.trace(C)"
   ]
  },
  {
   "cell_type": "code",
   "execution_count": 22,
   "metadata": {},
   "outputs": [],
   "source": [
    "# Find sample correlation matrix\n",
    "R = np.corrcoef(data, rowvar=0)"
   ]
  },
  {
   "cell_type": "code",
   "execution_count": 23,
   "metadata": {},
   "outputs": [],
   "source": [
    "# If y1 = x1 + x2\n",
    "y1 = data[:, 0] + data[:, 1]"
   ]
  },
  {
   "cell_type": "markdown",
   "metadata": {},
   "source": [
    "# Chapter 4 "
   ]
  },
  {
   "cell_type": "code",
   "execution_count": 24,
   "metadata": {},
   "outputs": [],
   "source": [
    "# Define square matrix A\n",
    "A = np.array([[2,0,1],[-1,4,-1],[-1,2,0]])\n",
    "\n",
    "# find the eigenvalues and the corresponding eigenvectors\n",
    "eigvals, eigvecs = np.linalg.eig(A)"
   ]
  },
  {
   "cell_type": "markdown",
   "metadata": {},
   "source": [
    "---"
   ]
  },
  {
   "cell_type": "markdown",
   "metadata": {},
   "source": [
    "# Q1"
   ]
  },
  {
   "cell_type": "code",
   "execution_count": 25,
   "metadata": {},
   "outputs": [],
   "source": [
    "q1 = np.array([[],\n",
    "               []\n",
    "              ])"
   ]
  },
  {
   "cell_type": "code",
   "execution_count": null,
   "metadata": {},
   "outputs": [],
   "source": []
  },
  {
   "cell_type": "markdown",
   "metadata": {},
   "source": [
    "# Q2"
   ]
  },
  {
   "cell_type": "code",
   "execution_count": null,
   "metadata": {},
   "outputs": [],
   "source": [
    "q2 = np.array([[],\n",
    "               []\n",
    "              ])"
   ]
  },
  {
   "cell_type": "code",
   "execution_count": null,
   "metadata": {},
   "outputs": [],
   "source": []
  },
  {
   "cell_type": "markdown",
   "metadata": {},
   "source": [
    "# Q3"
   ]
  },
  {
   "cell_type": "code",
   "execution_count": null,
   "metadata": {},
   "outputs": [],
   "source": [
    "q3 = np.array([[],\n",
    "               []\n",
    "              ])"
   ]
  },
  {
   "cell_type": "code",
   "execution_count": null,
   "metadata": {},
   "outputs": [],
   "source": []
  },
  {
   "cell_type": "markdown",
   "metadata": {},
   "source": [
    "# Q4 "
   ]
  },
  {
   "cell_type": "code",
   "execution_count": 29,
   "metadata": {},
   "outputs": [],
   "source": [
    "q4 = np.array([[31, 37],\n",
    "               [38, 29],\n",
    "               [42, 78]\n",
    "              ])"
   ]
  },
  {
   "cell_type": "code",
   "execution_count": 36,
   "metadata": {},
   "outputs": [],
   "source": [
    "xbar4 = np.mean(q4, axis=0)"
   ]
  },
  {
   "cell_type": "code",
   "execution_count": 37,
   "metadata": {},
   "outputs": [],
   "source": [
    "c4 = np.cov(q4, rowvar=0)"
   ]
  },
  {
   "cell_type": "code",
   "execution_count": 38,
   "metadata": {},
   "outputs": [],
   "source": [
    "r4 = np.corrcoef(q4, rowvar=0)\n"
   ]
  },
  {
   "cell_type": "code",
   "execution_count": 56,
   "metadata": {},
   "outputs": [
    {
     "data": {
      "text/plain": [
       "(array([ 16.61322615, 705.38677385]),\n",
       " array([[-0.98950112, -0.14452517],\n",
       "        [ 0.14452517, -0.98950112]]))"
      ]
     },
     "execution_count": 56,
     "metadata": {},
     "output_type": "execute_result"
    }
   ],
   "source": [
    "eigvals4, eigvecs4 = np.linalg.eig(c4)\n",
    "eigvals4, eigvecs4"
   ]
  },
  {
   "cell_type": "code",
   "execution_count": 54,
   "metadata": {},
   "outputs": [
    {
     "data": {
      "text/plain": [
       "array([-0.98950112,  0.14452517])"
      ]
     },
     "execution_count": 54,
     "metadata": {},
     "output_type": "execute_result"
    }
   ],
   "source": [
    "eigvecs4[:, 0]"
   ]
  },
  {
   "cell_type": "code",
   "execution_count": 55,
   "metadata": {},
   "outputs": [
    {
     "data": {
      "text/plain": [
       "array([-0.14452517, -0.98950112])"
      ]
     },
     "execution_count": 55,
     "metadata": {},
     "output_type": "execute_result"
    }
   ],
   "source": [
    "eigvecs4[:, 1]"
   ]
  }
 ],
 "metadata": {
  "kernelspec": {
   "display_name": "Python 3",
   "language": "python",
   "name": "python3"
  },
  "language_info": {
   "codemirror_mode": {
    "name": "ipython",
    "version": 3
   },
   "file_extension": ".py",
   "mimetype": "text/x-python",
   "name": "python",
   "nbconvert_exporter": "python",
   "pygments_lexer": "ipython3",
   "version": "3.7.3"
  },
  "toc": {
   "base_numbering": 1,
   "nav_menu": {},
   "number_sections": true,
   "sideBar": true,
   "skip_h1_title": false,
   "title_cell": "Table of Contents",
   "title_sidebar": "Contents",
   "toc_cell": false,
   "toc_position": {},
   "toc_section_display": true,
   "toc_window_display": false
  }
 },
 "nbformat": 4,
 "nbformat_minor": 4
}
