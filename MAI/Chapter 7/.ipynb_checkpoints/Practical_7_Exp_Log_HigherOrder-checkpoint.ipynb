{
 "cells": [
  {
   "cell_type": "markdown",
   "metadata": {},
   "source": [
    "# Practical 7"
   ]
  },
  {
   "cell_type": "markdown",
   "metadata": {},
   "source": [
    "We can also use SymPy to differentiate exponential and logarithmic functions, as well as carry out higher order differentiation."
   ]
  },
  {
   "cell_type": "code",
   "execution_count": 1,
   "metadata": {},
   "outputs": [],
   "source": [
    "import sympy as sp"
   ]
  },
  {
   "cell_type": "code",
   "execution_count": 2,
   "metadata": {},
   "outputs": [],
   "source": [
    "sp.init_printing()"
   ]
  },
  {
   "cell_type": "code",
   "execution_count": 3,
   "metadata": {},
   "outputs": [],
   "source": [
    "x = sp.Symbol('x')"
   ]
  },
  {
   "cell_type": "markdown",
   "metadata": {},
   "source": [
    "### Task 1\n",
    "Find the following:"
   ]
  },
  {
   "cell_type": "markdown",
   "metadata": {},
   "source": [
    "a) $\\frac{d}{dx}[2ln(2x+3)]$."
   ]
  },
  {
   "cell_type": "code",
   "execution_count": 4,
   "metadata": {},
   "outputs": [
    {
     "data": {
      "image/png": "[encoded data removed]",
      "text/latex": [
       "$\\displaystyle \\frac{4}{2 x + 3}$"
      ],
      "text/plain": [
       "   4   \n",
       "───────\n",
       "2⋅x + 3"
      ]
     },
     "execution_count": 4,
     "metadata": {},
     "output_type": "execute_result"
    }
   ],
   "source": [
    "sp.diff(2*sp.ln(2*x+3), x)"
   ]
  },
  {
   "cell_type": "code",
   "execution_count": 8,
   "metadata": {},
   "outputs": [
    {
     "data": {
      "image/png": "[encoded data removed]",
      "text/latex": [
       "$\\displaystyle \\frac{4}{2 x + 3}$"
      ],
      "text/plain": [
       "   4   \n",
       "───────\n",
       "2⋅x + 3"
      ]
     },
     "execution_count": 8,
     "metadata": {},
     "output_type": "execute_result"
    }
   ],
   "source": [
    "sp.diff(2*sp.log(2*x+3), x)"
   ]
  },
  {
   "cell_type": "markdown",
   "metadata": {},
   "source": [
    "b) $\\frac{d}{dx}[log_2(2x+1)]$.\n",
    "<br>\n",
    "<br> Note: An output of $log(x)$ from SymPy actually refers to $ln(x)$."
   ]
  },
  {
   "cell_type": "code",
   "execution_count": 7,
   "metadata": {
    "scrolled": true
   },
   "outputs": [
    {
     "data": {
      "image/png": "[encoded data removed]",
      "text/latex": [
       "$\\displaystyle \\frac{2}{\\left(2 x + 1\\right) \\log{\\left(2 \\right)}}$"
      ],
      "text/plain": [
       "       2        \n",
       "────────────────\n",
       "(2⋅x + 1)⋅log(2)"
      ]
     },
     "execution_count": 7,
     "metadata": {},
     "output_type": "execute_result"
    }
   ],
   "source": [
    "sp.diff(sp.log((2*x+1), 2), x)"
   ]
  },
  {
   "cell_type": "markdown",
   "metadata": {},
   "source": [
    "c) $\\frac{d}{dx}[4lg(x+2)]$."
   ]
  },
  {
   "cell_type": "code",
   "execution_count": 9,
   "metadata": {},
   "outputs": [
    {
     "data": {
      "image/png": "[encoded data removed]",
      "text/latex": [
       "$\\displaystyle \\frac{4}{\\left(x + 2\\right) \\log{\\left(10 \\right)}}$"
      ],
      "text/plain": [
       "       4       \n",
       "───────────────\n",
       "(x + 2)⋅log(10)"
      ]
     },
     "execution_count": 9,
     "metadata": {},
     "output_type": "execute_result"
    }
   ],
   "source": [
    "sp.diff(4 * sp.log((x + 2), 10), x)"
   ]
  },
  {
   "cell_type": "markdown",
   "metadata": {},
   "source": [
    "d) $\\frac{d}{dx}(2^x)$."
   ]
  },
  {
   "cell_type": "code",
   "execution_count": 10,
   "metadata": {},
   "outputs": [
    {
     "data": {
      "image/png": "[encoded data removed]",
      "text/latex": [
       "$\\displaystyle 2^{x} \\log{\\left(2 \\right)}$"
      ],
      "text/plain": [
       " x       \n",
       "2 ⋅log(2)"
      ]
     },
     "execution_count": 10,
     "metadata": {},
     "output_type": "execute_result"
    }
   ],
   "source": [
    "sp.diff(2**x, x)"
   ]
  },
  {
   "cell_type": "markdown",
   "metadata": {},
   "source": [
    "e) $\\frac{d}{dx}[5^{-2x}]$."
   ]
  },
  {
   "cell_type": "code",
   "execution_count": 11,
   "metadata": {},
   "outputs": [
    {
     "data": {
      "image/png": "[encoded data removed]",
      "text/latex": [
       "$\\displaystyle - 2 \\cdot 5^{- 2 x} \\log{\\left(5 \\right)}$"
      ],
      "text/plain": [
       "    -2⋅x       \n",
       "-2⋅5    ⋅log(5)"
      ]
     },
     "execution_count": 11,
     "metadata": {},
     "output_type": "execute_result"
    }
   ],
   "source": [
    "sp.diff(5**(-2*x), x)"
   ]
  },
  {
   "cell_type": "markdown",
   "metadata": {},
   "source": [
    "f) $\\frac{d}{dx}[e^{3x}]$"
   ]
  },
  {
   "cell_type": "code",
   "execution_count": 12,
   "metadata": {},
   "outputs": [
    {
     "data": {
      "image/png": "[encoded data removed]",
      "text/latex": [
       "$\\displaystyle 3 e^{3 x}$"
      ],
      "text/plain": [
       "   3⋅x\n",
       "3⋅ℯ   "
      ]
     },
     "execution_count": 12,
     "metadata": {},
     "output_type": "execute_result"
    }
   ],
   "source": [
    "sp.diff(sp.exp(3*x))"
   ]
  },
  {
   "cell_type": "markdown",
   "metadata": {},
   "source": [
    "g) $\\frac{d}{dx}[5x^2e^{-3x^2}]$"
   ]
  },
  {
   "cell_type": "code",
   "execution_count": 15,
   "metadata": {},
   "outputs": [
    {
     "data": {
      "image/png": "[encoded data removed]",
      "text/latex": [
       "$\\displaystyle - 30 x^{3} e^{- 3 x^{2}} + 10 x e^{- 3 x^{2}}$"
      ],
      "text/plain": [
       "             2             2\n",
       "      3  -3⋅x          -3⋅x \n",
       "- 30⋅x ⋅ℯ      + 10⋅x⋅ℯ     "
      ]
     },
     "metadata": {},
     "output_type": "display_data"
    },
    {
     "data": {
      "image/png": "[encoded data removed]",
      "text/latex": [
       "$\\displaystyle - 10 x \\left(3 x^{2} - 1\\right) e^{- 3 x^{2}}$"
      ],
      "text/plain": [
       "                      2\n",
       "      ⎛   2    ⎞  -3⋅x \n",
       "-10⋅x⋅⎝3⋅x  - 1⎠⋅ℯ     "
      ]
     },
     "execution_count": 15,
     "metadata": {},
     "output_type": "execute_result"
    }
   ],
   "source": [
    "display(sp.diff(5 * x**2 *  sp.exp(-3 * x**2)))\n",
    "sp.factor(sp.diff(5 * x**2 *  sp.exp(-3 * x**2)))"
   ]
  },
  {
   "cell_type": "markdown",
   "metadata": {},
   "source": [
    "### Task 2"
   ]
  },
  {
   "cell_type": "markdown",
   "metadata": {},
   "source": [
    "a) Given $ y = x^4 + 2x^3 - 3x^2 + x - 5$, obtain the first, second and third order derivatives of $y$ with respect to $x$. Also, find $y'(1.5)$."
   ]
  },
  {
   "cell_type": "code",
   "execution_count": 18,
   "metadata": {},
   "outputs": [],
   "source": [
    "x, y = sp.symbols('x y')"
   ]
  },
  {
   "cell_type": "code",
   "execution_count": 19,
   "metadata": {},
   "outputs": [],
   "source": [
    "y = x**4 + 2*x**3 - 3*x**2 + x - 5"
   ]
  },
  {
   "cell_type": "code",
   "execution_count": 20,
   "metadata": {},
   "outputs": [
    {
     "data": {
      "image/png": "[encoded data removed]",
      "text/latex": [
       "$\\displaystyle 4 x^{3} + 6 x^{2} - 6 x + 1$"
      ],
      "text/plain": [
       "   3      2          \n",
       "4⋅x  + 6⋅x  - 6⋅x + 1"
      ]
     },
     "execution_count": 20,
     "metadata": {},
     "output_type": "execute_result"
    }
   ],
   "source": [
    "dydx = sp.diff(y, x, 1)\n",
    "dydx"
   ]
  },
  {
   "cell_type": "code",
   "execution_count": 21,
   "metadata": {},
   "outputs": [
    {
     "data": {
      "image/png": "[encoded data removed]",
      "text/latex": [
       "$\\displaystyle 6 \\left(2 x^{2} + 2 x - 1\\right)$"
      ],
      "text/plain": [
       "  ⎛   2          ⎞\n",
       "6⋅⎝2⋅x  + 2⋅x - 1⎠"
      ]
     },
     "execution_count": 21,
     "metadata": {},
     "output_type": "execute_result"
    }
   ],
   "source": [
    "d2ydx2 = sp.diff(y, x, 2)\n",
    "d2ydx2"
   ]
  },
  {
   "cell_type": "code",
   "execution_count": 22,
   "metadata": {},
   "outputs": [
    {
     "data": {
      "image/png": "[encoded data removed]",
      "text/latex": [
       "$\\displaystyle 12 \\left(2 x + 1\\right)$"
      ],
      "text/plain": [
       "12⋅(2⋅x + 1)"
      ]
     },
     "execution_count": 22,
     "metadata": {},
     "output_type": "execute_result"
    }
   ],
   "source": [
    "d3ydx3 = sp.diff(y, x, 3)\n",
    "d3ydx3"
   ]
  },
  {
   "cell_type": "code",
   "execution_count": 24,
   "metadata": {},
   "outputs": [
    {
     "data": {
      "image/png": "[encoded data removed]",
      "text/latex": [
       "$\\displaystyle 19.0$"
      ],
      "text/plain": [
       "19.0000000000000"
      ]
     },
     "execution_count": 24,
     "metadata": {},
     "output_type": "execute_result"
    }
   ],
   "source": [
    "sp.limit(dydx, x, 1.5).evalf()"
   ]
  },
  {
   "cell_type": "markdown",
   "metadata": {},
   "source": [
    "b) Find the first, second and third order derivatives of $f(y) = sin(3y) + e^{-2y} + ln(7y)$. Also, find $f''(2)$."
   ]
  },
  {
   "cell_type": "code",
   "execution_count": 25,
   "metadata": {},
   "outputs": [],
   "source": [
    "y, f = sp.symbols('y f')"
   ]
  },
  {
   "cell_type": "code",
   "execution_count": 26,
   "metadata": {},
   "outputs": [],
   "source": [
    "f = sp.sin(3*y) + sp.exp(-2*y) + sp.ln(7*y)"
   ]
  },
  {
   "cell_type": "code",
   "execution_count": 28,
   "metadata": {},
   "outputs": [
    {
     "data": {
      "image/png": "[encoded data removed]",
      "text/latex": [
       "$\\displaystyle 3 \\cos{\\left(3 y \\right)} - 2 e^{- 2 y} + \\frac{1}{y}$"
      ],
      "text/plain": [
       "                -2⋅y   1\n",
       "3⋅cos(3⋅y) - 2⋅ℯ     + ─\n",
       "                       y"
      ]
     },
     "execution_count": 28,
     "metadata": {},
     "output_type": "execute_result"
    }
   ],
   "source": [
    "dfdy = sp.diff(f, y, 1)\n",
    "dfdy"
   ]
  },
  {
   "cell_type": "code",
   "execution_count": 29,
   "metadata": {},
   "outputs": [
    {
     "data": {
      "image/png": "[encoded data removed]",
      "text/latex": [
       "$\\displaystyle - 9 \\sin{\\left(3 y \\right)} + 4 e^{- 2 y} - \\frac{1}{y^{2}}$"
      ],
      "text/plain": [
       "                 -2⋅y   1 \n",
       "-9⋅sin(3⋅y) + 4⋅ℯ     - ──\n",
       "                         2\n",
       "                        y "
      ]
     },
     "execution_count": 29,
     "metadata": {},
     "output_type": "execute_result"
    }
   ],
   "source": [
    "d2fdy2 = sp.diff(f, y, 2)\n",
    "d2fdy2"
   ]
  },
  {
   "cell_type": "code",
   "execution_count": 30,
   "metadata": {},
   "outputs": [
    {
     "data": {
      "image/png": "[encoded data removed]",
      "text/latex": [
       "$\\displaystyle - 27 \\cos{\\left(3 y \\right)} - 8 e^{- 2 y} + \\frac{2}{y^{3}}$"
      ],
      "text/plain": [
       "                  -2⋅y   2 \n",
       "-27⋅cos(3⋅y) - 8⋅ℯ     + ──\n",
       "                          3\n",
       "                         y "
      ]
     },
     "execution_count": 30,
     "metadata": {},
     "output_type": "execute_result"
    }
   ],
   "source": [
    "d3fdy3 = sp.diff(f, y, 3)\n",
    "d3fdy3"
   ]
  },
  {
   "cell_type": "code",
   "execution_count": 32,
   "metadata": {},
   "outputs": [
    {
     "data": {
      "image/png": "[encoded data removed]",
      "text/latex": [
       "$\\displaystyle 2.33800203934527$"
      ],
      "text/plain": [
       "2.33800203934527"
      ]
     },
     "execution_count": 32,
     "metadata": {},
     "output_type": "execute_result"
    }
   ],
   "source": [
    "sp.limit(d2fdy2, y, 2).evalf()"
   ]
  }
 ],
 "metadata": {
  "kernelspec": {
   "display_name": "Python 3",
   "language": "python",
   "name": "python3"
  },
  "language_info": {
   "codemirror_mode": {
    "name": "ipython",
    "version": 3
   },
   "file_extension": ".py",
   "mimetype": "text/x-python",
   "name": "python",
   "nbconvert_exporter": "python",
   "pygments_lexer": "ipython3",
   "version": "3.7.3"
  }
 },
 "nbformat": 4,
 "nbformat_minor": 4
}
