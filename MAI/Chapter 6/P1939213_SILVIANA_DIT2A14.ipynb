{
 "cells": [
  {
   "cell_type": "markdown",
   "metadata": {},
   "source": [
    "# Mathematics for AI Practical\n",
    "Name: Silviana<br>\n",
    "StudentID: p1939213<br>\n",
    "Class: DIT/FT/2A/14<br>"
   ]
  },
  {
   "cell_type": "markdown",
   "metadata": {},
   "source": [
    "## Topic 6 - Differentiation"
   ]
  },
  {
   "cell_type": "code",
   "execution_count": 1,
   "metadata": {},
   "outputs": [
    {
     "name": "stdout",
     "output_type": "stream",
     "text": [
      "sympy version: 1.5.1\n"
     ]
    }
   ],
   "source": [
    "import sympy as sp\n",
    "print('sympy version: {}'.format(sp.__version__))"
   ]
  },
  {
   "cell_type": "markdown",
   "metadata": {},
   "source": [
    "### Tutorial 6 Q19\n",
    "### Differentiate the following with respect to their variables!"
   ]
  },
  {
   "cell_type": "markdown",
   "metadata": {},
   "source": [
    "#### (a) $y = \\sin^{2}(2x+3)^{3}$"
   ]
  },
  {
   "cell_type": "code",
   "execution_count": 11,
   "metadata": {},
   "outputs": [
    {
     "data": {
      "text/latex": [
       "$\\displaystyle 12 \\left(2 x + 3\\right)^{2} \\sin{\\left(\\left(2 x + 3\\right)^{3} \\right)} \\cos{\\left(\\left(2 x + 3\\right)^{3} \\right)}$"
      ],
      "text/plain": [
       "12*(2*x + 3)**2*sin((2*x + 3)**3)*cos((2*x + 3)**3)"
      ]
     },
     "execution_count": 11,
     "metadata": {},
     "output_type": "execute_result"
    }
   ],
   "source": [
    "x = sp.Symbol('x')\n",
    "\n",
    "y = sp.diff(sp.sin((2*x+3)**3)**2)\n",
    "y"
   ]
  },
  {
   "cell_type": "markdown",
   "metadata": {},
   "source": [
    "#### (b) $w = s^{4} (3s-2)^{5}$"
   ]
  },
  {
   "cell_type": "code",
   "execution_count": 12,
   "metadata": {},
   "outputs": [
    {
     "data": {
      "text/latex": [
       "$\\displaystyle 15 s^{4} \\left(3 s - 2\\right)^{4} + 4 s^{3} \\left(3 s - 2\\right)^{5}$"
      ],
      "text/plain": [
       "15*s**4*(3*s - 2)**4 + 4*s**3*(3*s - 2)**5"
      ]
     },
     "execution_count": 12,
     "metadata": {},
     "output_type": "execute_result"
    }
   ],
   "source": [
    "s = sp.Symbol('s')\n",
    "\n",
    "w = sp.diff( s**4 * (3*s-2)**5 )\n",
    "w"
   ]
  },
  {
   "cell_type": "markdown",
   "metadata": {},
   "source": [
    "#### (c) $x = \\frac {t\\cos t}{(1-t)^{2}}$"
   ]
  },
  {
   "cell_type": "code",
   "execution_count": 15,
   "metadata": {},
   "outputs": [
    {
     "data": {
      "text/latex": [
       "$\\displaystyle - \\frac{t \\sin{\\left(t \\right)}}{\\left(1 - t\\right)^{2}} + \\frac{2 t \\cos{\\left(t \\right)}}{\\left(1 - t\\right)^{3}} + \\frac{\\cos{\\left(t \\right)}}{\\left(1 - t\\right)^{2}}$"
      ],
      "text/plain": [
       "-t*sin(t)/(1 - t)**2 + 2*t*cos(t)/(1 - t)**3 + cos(t)/(1 - t)**2"
      ]
     },
     "execution_count": 15,
     "metadata": {},
     "output_type": "execute_result"
    }
   ],
   "source": [
    "t = sp.Symbol('t')\n",
    "\n",
    "x = sp.diff( (t * sp.cos(t)) / (1-t)**2 )\n",
    "x"
   ]
  },
  {
   "cell_type": "markdown",
   "metadata": {},
   "source": [
    "#### (d) $z = \\frac {(3t+2)^{4}}{t^{3}(4t-1)^{2}} $"
   ]
  },
  {
   "cell_type": "code",
   "execution_count": 16,
   "metadata": {},
   "outputs": [
    {
     "data": {
      "text/latex": [
       "$\\displaystyle - \\frac{8 \\left(3 t + 2\\right)^{4}}{t^{3} \\left(4 t - 1\\right)^{3}} + \\frac{12 \\left(3 t + 2\\right)^{3}}{t^{3} \\left(4 t - 1\\right)^{2}} - \\frac{3 \\left(3 t + 2\\right)^{4}}{t^{4} \\left(4 t - 1\\right)^{2}}$"
      ],
      "text/plain": [
       "-8*(3*t + 2)**4/(t**3*(4*t - 1)**3) + 12*(3*t + 2)**3/(t**3*(4*t - 1)**2) - 3*(3*t + 2)**4/(t**4*(4*t - 1)**2)"
      ]
     },
     "execution_count": 16,
     "metadata": {},
     "output_type": "execute_result"
    }
   ],
   "source": [
    "t = sp.Symbol('t')\n",
    "\n",
    "z = sp.diff( (3*t + 2)**4 / (t**3 * (4*t-1)**2) )\n",
    "z"
   ]
  }
 ],
 "metadata": {
  "kernelspec": {
   "display_name": "Python 3",
   "language": "python",
   "name": "python3"
  },
  "language_info": {
   "codemirror_mode": {
    "name": "ipython",
    "version": 3
   },
   "file_extension": ".py",
   "mimetype": "text/x-python",
   "name": "python",
   "nbconvert_exporter": "python",
   "pygments_lexer": "ipython3",
   "version": "3.7.3"
  }
 },
 "nbformat": 4,
 "nbformat_minor": 4
}
