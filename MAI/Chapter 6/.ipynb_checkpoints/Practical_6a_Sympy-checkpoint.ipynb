{
 "cells": [
  {
   "cell_type": "markdown",
   "metadata": {},
   "source": [
    "# Practical 6a: SymPy Library\n",
    "\n",
    "SymPy is a Python library that allows algebraic manipulation. In this assignment, we are going to make use of the library to obtain the derivatives of functions $y=f(x)$.\n",
    "\n",
    "Firstly, the symbols of the variables need to be declared."
   ]
  },
  {
   "cell_type": "code",
   "execution_count": 1,
   "metadata": {},
   "outputs": [],
   "source": [
    "import sympy as sp\n",
    "\n",
    "# Define the symbol x\n",
    "x=sp.Symbol('x') "
   ]
  },
  {
   "cell_type": "markdown",
   "metadata": {},
   "source": [
    "We can then perform differentiation using the syntax *sp.diff(func,var)*, where *func* is the expression of the function we are differentiating and *var* is the variable that we are differentiating with respect to. For example, we have learnt that \n",
    "\\begin{equation}\n",
    "    \\frac{d}{dx}(x^3-2x+1)=3x^2-2.\n",
    "\\end{equation}\n",
    "$x^3-2x+1$ is the function we are differentiating and $x$ is the variable we are differentiating with respect to. Using Python, we get"
   ]
  },
  {
   "cell_type": "code",
   "execution_count": 11,
   "metadata": {},
   "outputs": [
    {
     "data": {
      "text/latex": [
       "$\\displaystyle 3 x^{2} - 2$"
      ],
      "text/plain": [
       "3*x**2 - 2"
      ]
     },
     "execution_count": 11,
     "metadata": {},
     "output_type": "execute_result"
    }
   ],
   "source": [
    "sp.diff(x**3 - 2*x + 1 , x)\n"
   ]
  },
  {
   "cell_type": "markdown",
   "metadata": {},
   "source": [
    "We can now look at the examples in the lecture notes and obtain the derivatives using Python. Let us look at Example 12a,\n",
    "\\begin{equation}\n",
    "    y=(t-1)^2(5t+3).\n",
    "\\end{equation}\n",
    "By using Product Rule, we obtain\n",
    "\\begin{equation}\n",
    "    \\frac{dy}{dt}=(t-1)(15t+1).\n",
    "\\end{equation}\n",
    "We shall see what we get from Python,"
   ]
  },
  {
   "cell_type": "code",
   "execution_count": 12,
   "metadata": {},
   "outputs": [
    {
     "data": {
      "text/latex": [
       "$\\displaystyle 5 \\left(t - 1\\right)^{2} + \\left(2 t - 2\\right) \\left(5 t + 3\\right)$"
      ],
      "text/plain": [
       "5*(t - 1)**2 + (2*t - 2)*(5*t + 3)"
      ]
     },
     "execution_count": 12,
     "metadata": {},
     "output_type": "execute_result"
    }
   ],
   "source": [
    "import sympy as sp\n",
    "\n",
    "# Define the symbol\n",
    "t = sp.Symbol('t')\n",
    "\n",
    "# Find the derivative\n",
    "sp.diff( ((t-1)**2) * (5*t + 3) , t) "
   ]
  },
  {
   "cell_type": "markdown",
   "metadata": {},
   "source": [
    "Notice the difference in the expression provided? To get the final solution, we can use *simplify* in SymPy,"
   ]
  },
  {
   "cell_type": "code",
   "execution_count": 13,
   "metadata": {},
   "outputs": [
    {
     "data": {
      "text/latex": [
       "$\\displaystyle \\left(t - 1\\right) \\left(15 t + 1\\right)$"
      ],
      "text/plain": [
       "(t - 1)*(15*t + 1)"
      ]
     },
     "execution_count": 13,
     "metadata": {},
     "output_type": "execute_result"
    }
   ],
   "source": [
    "import sympy as sp\n",
    "\n",
    "# Define the symbol\n",
    "t = sp.Symbol('t')\n",
    "\n",
    "# Find the derivative\n",
    "derivative = sp.diff( ((t-1)**2) * (5*t + 3) , t) \n",
    "sp.simplify(derivative)"
   ]
  },
  {
   "cell_type": "code",
   "execution_count": null,
   "metadata": {},
   "outputs": [],
   "source": []
  }
 ],
 "metadata": {
  "kernelspec": {
   "display_name": "Python 3",
   "language": "python",
   "name": "python3"
  },
  "language_info": {
   "codemirror_mode": {
    "name": "ipython",
    "version": 3
   },
   "file_extension": ".py",
   "mimetype": "text/x-python",
   "name": "python",
   "nbconvert_exporter": "python",
   "pygments_lexer": "ipython3",
   "version": "3.7.3"
  }
 },
 "nbformat": 4,
 "nbformat_minor": 4
}
