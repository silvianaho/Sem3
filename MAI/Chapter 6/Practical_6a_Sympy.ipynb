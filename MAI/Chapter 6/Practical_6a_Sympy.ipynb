{
 "cells": [
  {
   "cell_type": "markdown",
   "metadata": {},
   "source": [
    "# Practical 6a: SymPy Library\n",
    "\n",
    "SymPy is a Python library that allows algebraic manipulation. In this assignment, we are going to make use of the library to obtain the derivatives of functions $y=f(x)$.\n",
    "\n",
    "Firstly, the symbols of the variables need to be declared."
   ]
  },
  {
   "cell_type": "code",
   "execution_count": 1,
   "metadata": {},
   "outputs": [],
   "source": [
    "import sympy as sp\n",
    "\n",
    "# Define the symbol x\n",
    "x=sp.Symbol('x') "
   ]
  },
  {
   "cell_type": "markdown",
   "metadata": {},
   "source": [
    "We can then perform differentiation using the syntax *sp.diff(func,var)*, where *func* is the expression of the function we are differentiating and *var* is the variable that we are differentiating with respect to. For example, we have learnt that \n",
    "\\begin{equation}\n",
    "    \\frac{d}{dx}(x^3-2x+1)=3x^2-2.\n",
    "\\end{equation}\n",
    "$x^3-2x+1$ is the function we are differentiating and $x$ is the variable we are differentiating with respect to. Using Python, we get"
   ]
  },
  {
   "cell_type": "code",
   "execution_count": 11,
   "metadata": {},
   "outputs": [
    {
     "data": {
      "text/latex": [
       "$\\displaystyle 3 x^{2} - 2$"
      ],
      "text/plain": [
       "3*x**2 - 2"
      ]
     },
     "execution_count": 11,
     "metadata": {},
     "output_type": "execute_result"
    }
   ],
   "source": [
    "sp.diff(x**3 - 2*x + 1 , x)\n"
   ]
  },
  {
   "cell_type": "markdown",
   "metadata": {},
   "source": [
    "We can now look at the examples in the lecture notes and obtain the derivatives using Python. Let us look at Example 12a,\n",
    "\\begin{equation}\n",
    "    y=(t-1)^2(5t+3).\n",
    "\\end{equation}\n",
    "By using Product Rule, we obtain\n",
    "\\begin{equation}\n",
    "    \\frac{dy}{dt}=(t-1)(15t+1).\n",
    "\\end{equation}\n",
    "We shall see what we get from Python,"
   ]
  },
  {
   "cell_type": "code",
   "execution_count": 12,
   "metadata": {},
   "outputs": [
    {
     "data": {
      "text/latex": [
       "$\\displaystyle 5 \\left(t - 1\\right)^{2} + \\left(2 t - 2\\right) \\left(5 t + 3\\right)$"
      ],
      "text/plain": [
       "5*(t - 1)**2 + (2*t - 2)*(5*t + 3)"
      ]
     },
     "execution_count": 12,
     "metadata": {},
     "output_type": "execute_result"
    }
   ],
   "source": [
    "import sympy as sp\n",
    "\n",
    "# Define the symbol\n",
    "t = sp.Symbol('t')\n",
    "\n",
    "# Find the derivative\n",
    "sp.diff( ((t-1)**2) * (5*t + 3) , t) "
   ]
  },
  {
   "cell_type": "markdown",
   "metadata": {},
   "source": [
    "Notice the difference in the expression provided? To get the final solution, we can use *simplify* in SymPy,"
   ]
  },
  {
   "cell_type": "code",
   "execution_count": 13,
   "metadata": {},
   "outputs": [
    {
     "data": {
      "text/latex": [
       "$\\displaystyle \\left(t - 1\\right) \\left(15 t + 1\\right)$"
      ],
      "text/plain": [
       "(t - 1)*(15*t + 1)"
      ]
     },
     "execution_count": 13,
     "metadata": {},
     "output_type": "execute_result"
    }
   ],
   "source": [
    "import sympy as sp\n",
    "\n",
    "# Define the symbol\n",
    "t = sp.Symbol('t')\n",
    "\n",
    "# Find the derivative\n",
    "derivative = sp.diff( ((t-1)**2) * (5*t + 3) , t) \n",
    "sp.simplify(derivative)"
   ]
  },
  {
   "cell_type": "code",
   "execution_count": 15,
   "metadata": {},
   "outputs": [
    {
     "data": {
      "text/latex": [
       "$\\displaystyle \\cot{\\left(x \\right)} \\csc{\\left(x \\right)} + \\frac{1}{2 \\sqrt{x}}$"
      ],
      "text/plain": [
       "cot(x)*csc(x) + 1/(2*sqrt(x))"
      ]
     },
     "execution_count": 15,
     "metadata": {},
     "output_type": "execute_result"
    }
   ],
   "source": [
    "x = sp.Symbol('x')\n",
    "\n",
    "sp.diff(sp.sqrt(x) - sp.csc(x), x)"
   ]
  },
  {
   "cell_type": "code",
   "execution_count": 16,
   "metadata": {},
   "outputs": [
    {
     "data": {
      "text/latex": [
       "$\\displaystyle 6 t - \\frac{8}{t^{3}}$"
      ],
      "text/plain": [
       "6*t - 8/t**3"
      ]
     },
     "execution_count": 16,
     "metadata": {},
     "output_type": "execute_result"
    }
   ],
   "source": [
    "t = sp.Symbol('t')\n",
    "\n",
    "sp.diff( (4/t**2) + (3*t**2) - 3 )"
   ]
  },
  {
   "cell_type": "code",
   "execution_count": 26,
   "metadata": {},
   "outputs": [
    {
     "data": {
      "text/latex": [
       "$\\displaystyle 6 s \\left(2 s + 1\\right)^{2} \\left(\\tan^{2}{\\left(\\left(2 s + 1\\right)^{3} \\right)} + 1\\right) + \\tan{\\left(\\left(2 s + 1\\right)^{3} \\right)}$"
      ],
      "text/plain": [
       "6*s*(2*s + 1)**2*(tan((2*s + 1)**3)**2 + 1) + tan((2*s + 1)**3)"
      ]
     },
     "metadata": {},
     "output_type": "display_data"
    },
    {
     "data": {
      "text/latex": [
       "$\\displaystyle s \\left(6 \\tan^{2}{\\left(2 s + 1 \\right)} + 6\\right) \\tan^{2}{\\left(2 s + 1 \\right)} + \\tan^{3}{\\left(2 s + 1 \\right)}$"
      ],
      "text/plain": [
       "s*(6*tan(2*s + 1)**2 + 6)*tan(2*s + 1)**2 + tan(2*s + 1)**3"
      ]
     },
     "execution_count": 26,
     "metadata": {},
     "output_type": "execute_result"
    }
   ],
   "source": [
    "s = sp.Symbol('s')\n",
    "\n",
    "x = sp.diff(s * sp.tan((2*s + 1)**3), s)\n",
    "meow = sp.diff(s * sp.tan(2*s + 1)**3, s)\n",
    "display(x)\n",
    "meow"
   ]
  },
  {
   "cell_type": "code",
   "execution_count": 28,
   "metadata": {},
   "outputs": [
    {
     "data": {
      "text/latex": [
       "$\\displaystyle \\frac{9 \\left(3 y + 1\\right)^{2}}{\\left(2 y + 5\\right)^{2}} - \\frac{4 \\left(3 y + 1\\right)^{3}}{\\left(2 y + 5\\right)^{3}}$"
      ],
      "text/plain": [
       "9*(3*y + 1)**2/(2*y + 5)**2 - 4*(3*y + 1)**3/(2*y + 5)**3"
      ]
     },
     "metadata": {},
     "output_type": "display_data"
    },
    {
     "data": {
      "text/latex": [
       "$\\displaystyle \\frac{\\left(3 y + 1\\right)^{2} \\left(6 y + 41\\right)}{\\left(2 y + 5\\right)^{3}}$"
      ],
      "text/plain": [
       "(3*y + 1)**2*(6*y + 41)/(2*y + 5)**3"
      ]
     },
     "execution_count": 28,
     "metadata": {},
     "output_type": "execute_result"
    }
   ],
   "source": [
    "y = sp.Symbol('y')\n",
    "\n",
    "w = sp.diff( ((3*y + 1)**3) / ((2*y + 5)**2), y)\n",
    "display(w)\n",
    "sp.simplify(w)"
   ]
  }
 ],
 "metadata": {
  "kernelspec": {
   "display_name": "Python 3",
   "language": "python",
   "name": "python3"
  },
  "language_info": {
   "codemirror_mode": {
    "name": "ipython",
    "version": 3
   },
   "file_extension": ".py",
   "mimetype": "text/x-python",
   "name": "python",
   "nbconvert_exporter": "python",
   "pygments_lexer": "ipython3",
   "version": "3.7.3"
  }
 },
 "nbformat": 4,
 "nbformat_minor": 4
}
