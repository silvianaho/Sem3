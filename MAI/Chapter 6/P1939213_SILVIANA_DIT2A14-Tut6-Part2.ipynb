{
 "cells": [
  {
   "cell_type": "markdown",
   "metadata": {},
   "source": [
    "# Mathematics for AI Practical\n",
    "Name: Silviana<br>\n",
    "StudentID: p1939213<br>\n",
    "Class: DIT/FT/2A/14<br>"
   ]
  },
  {
   "cell_type": "markdown",
   "metadata": {},
   "source": [
    "## Topic 6 - Differentiation"
   ]
  },
  {
   "cell_type": "code",
   "execution_count": 1,
   "metadata": {},
   "outputs": [
    {
     "name": "stdout",
     "output_type": "stream",
     "text": [
      "sympy version: 1.5.1\n",
      "numpy version: 1.18.1\n"
     ]
    }
   ],
   "source": [
    "import sympy as sp\n",
    "import numpy as np\n",
    "print('sympy version: {}'.format(sp.__version__))\n",
    "print('numpy version: {}'.format(np.__version__))\n",
    "\n",
    "epsilon = 0.001 # small constant"
   ]
  },
  {
   "cell_type": "code",
   "execution_count": 2,
   "metadata": {},
   "outputs": [],
   "source": [
    "def sym_dif(func, a):\n",
    "    return np.round((func(a+epsilon)-func(a-epsilon))/(2*epsilon), 4)"
   ]
  },
  {
   "cell_type": "markdown",
   "metadata": {},
   "source": [
    "### Tutorial 6 Q20\n",
    "### For the following, find the exact value of the derivative at the point stated with the help of SymPy library in Python and also estimate it using numerical differentiation in Python."
   ]
  },
  {
   "cell_type": "markdown",
   "metadata": {},
   "source": [
    "#### (a) $f(x) = x^{2} \\sin(x+\\pi); f'(\\pi)$"
   ]
  },
  {
   "cell_type": "code",
   "execution_count": 3,
   "metadata": {},
   "outputs": [
    {
     "data": {
      "text/plain": [
       "9.8696"
      ]
     },
     "execution_count": 3,
     "metadata": {},
     "output_type": "execute_result"
    }
   ],
   "source": [
    "func_a = lambda x: x**2 * np.sin(x + np.pi)\n",
    "\n",
    "a = np.pi\n",
    "\n",
    "ans_a = sym_dif(func_a, a)\n",
    "ans_a"
   ]
  },
  {
   "cell_type": "markdown",
   "metadata": {},
   "source": [
    "#### (b) $f(x) = 4x^{5} - 5x^{3} + 1; f'(1)$"
   ]
  },
  {
   "cell_type": "code",
   "execution_count": 4,
   "metadata": {},
   "outputs": [
    {
     "data": {
      "text/plain": [
       "5.0"
      ]
     },
     "execution_count": 4,
     "metadata": {},
     "output_type": "execute_result"
    }
   ],
   "source": [
    "func_b = lambda x: 4*x**5 - 5*x**3 + 1\n",
    "\n",
    "b = 1\n",
    "\n",
    "ans_b = sym_dif(func_b, b)\n",
    "ans_b"
   ]
  },
  {
   "cell_type": "markdown",
   "metadata": {},
   "source": [
    "#### (c) $g(x) = 2x(x-3)(2x+5); g'(0)$"
   ]
  },
  {
   "cell_type": "code",
   "execution_count": 5,
   "metadata": {},
   "outputs": [
    {
     "data": {
      "text/plain": [
       "-30.0"
      ]
     },
     "execution_count": 5,
     "metadata": {},
     "output_type": "execute_result"
    }
   ],
   "source": [
    "func_c = lambda x: 2*x * (x - 3) * (2*x + 5)\n",
    "\n",
    "c = 0\n",
    "\n",
    "ans_c = sym_dif(func_c, c)\n",
    "ans_c"
   ]
  },
  {
   "cell_type": "markdown",
   "metadata": {},
   "source": [
    "#### (d) $g(x) = \\frac {6x \\sin(x)}{(6x+1)^{2}}; g'(0) $"
   ]
  },
  {
   "cell_type": "code",
   "execution_count": 6,
   "metadata": {},
   "outputs": [
    {
     "data": {
      "text/plain": [
       "-0.0001"
      ]
     },
     "execution_count": 6,
     "metadata": {},
     "output_type": "execute_result"
    }
   ],
   "source": [
    "func_d = lambda x: (6*x * np.sin(x))/((6*x + 1)**2)\n",
    "\n",
    "d = 0\n",
    "\n",
    "ans_d = sym_dif(func_d, d)\n",
    "ans_d"
   ]
  }
 ],
 "metadata": {
  "kernelspec": {
   "display_name": "Python 3",
   "language": "python",
   "name": "python3"
  },
  "language_info": {
   "codemirror_mode": {
    "name": "ipython",
    "version": 3
   },
   "file_extension": ".py",
   "mimetype": "text/x-python",
   "name": "python",
   "nbconvert_exporter": "python",
   "pygments_lexer": "ipython3",
   "version": "3.7.3"
  }
 },
 "nbformat": 4,
 "nbformat_minor": 4
}
