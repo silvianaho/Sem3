{
 "cells": [
  {
   "cell_type": "code",
   "execution_count": 12,
   "metadata": {},
   "outputs": [
    {
     "data": {
      "text/latex": [
       "$\\displaystyle 1.0 a^{2} + 20.5142857142857 a b - 165.931428571429 a + 136.085714285714 b^{2} - 1835.8 b + 7057.30742857143$"
      ],
      "text/plain": [
       "1.0*a**2 + 20.5142857142857*a*b - 165.931428571429*a + 136.085714285714*b**2 - 1835.8*b + 7057.30742857143"
      ]
     },
     "metadata": {},
     "output_type": "display_data"
    },
    {
     "data": {
      "text/latex": [
       "$\\displaystyle 2.0 a + 20.5142857142857 b - 165.931428571429$"
      ],
      "text/plain": [
       "2.0*a + 20.5142857142857*b - 165.931428571429"
      ]
     },
     "metadata": {},
     "output_type": "display_data"
    },
    {
     "data": {
      "text/latex": [
       "$\\displaystyle 20.5142857142857 a + 272.171428571428 b - 1835.8$"
      ],
      "text/plain": [
       "20.5142857142857*a + 272.171428571428*b - 1835.8"
      ]
     },
     "metadata": {},
     "output_type": "display_data"
    },
    {
     "name": "stdout",
     "output_type": "stream",
     "text": [
      "Iteration 1 : a =  59.98644 , b =  2.7156457142857167 , E(a,b) =  62.074453333760175\n",
      "Iteration 2 : a =  59.9766890164898 , b =  2.5817455715918407 , E(a,b) =  46.51691771528385\n",
      "Iteration 3 : a =  59.969704400731025 , b =  2.4844892564825987 , E(a,b) =  38.310532433484696\n",
      "Iteration 4 : a =  59.96472889803943 , b =  2.413846615997512 , E(a,b) =  33.981749110957935\n",
      "Iteration 5 : a =  59.96121252966375 , b =  2.362532952775097 , E(a,b) =  31.698332357486834\n",
      "Iteration 6 : a =  59.95875585717321 , b =  2.325257538362695 , E(a,b) =  30.493810380961804\n",
      "Iteration 7 : a =  59.95706877652902 , b =  2.298177823622886 , E(a,b) =  29.8583863889271\n",
      "Iteration 8 : a =  59.95594059105136 , b =  2.278503042783475 , E(a,b) =  29.523151581605816\n",
      "Iteration 9 : a =  59.955218276020155 , b =  2.2642063190711843 , E(a,b) =  29.34626131879304\n",
      "Iteration 10 : a =  59.954790692694026 , b =  2.2538155728524845 , E(a,b) =  29.252895059176808\n",
      "Iteration 11 : a =  59.954577123271264 , b =  2.24626166244257 , E(a,b) =  29.203586289273517\n",
      "Iteration 12 : a =  59.95451894406376 , b =  2.240768091844381 , E(a,b) =  29.17751712055815\n",
      "Iteration 13 : a =  59.95457357789151 , b =  2.2367709077087445 , E(a,b) =  29.163706484650902\n",
      "Iteration 14 : a =  59.954710101829015 , b =  2.2338605221156156 , E(a,b) =  29.15636206196723\n",
      "Iteration 15 : a =  59.95490605720024 , b =  2.231739459636001 , E(a,b) =  29.152428506231445\n",
      "Iteration 16 : a =  59.95514513274245 , b =  2.2301916698770796 , E(a,b) =  29.150294176224634\n",
      "Iteration 17 : a =  59.95541548193492 , b =  2.229060239803992 , E(a,b) =  29.14910895963294\n",
      "Iteration 18 : a =  59.955708500908784 , b =  2.228231206649648 , E(a,b) =  29.148424437186804\n",
      "The minimum occurs at iteration 18 a=59.955708500908784, b=2.228231206649648, E(a,b)=29.148424437186804\n"
     ]
    }
   ],
   "source": [
    "import numpy as np\n",
    "import pandas as pd\n",
    "import sympy as sp  \n",
    "\n",
    "salary = pd.read_excel(\"./salary.xlsx\")\n",
    "n = salary[\"salary\"].count()\n",
    "y = salary[\"salary\"]\n",
    "x = salary[\"years\"]\n",
    "\n",
    "a, b = sp.symbols(\"a b\")\n",
    "E2 = (1/n)*sum( ((y[i] - (a + b * x[i]))**2) for i in range(n))\n",
    "display(sp.simplify(E2))\n",
    "display(sp.diff(E2, a))\n",
    "display(sp.diff(E2, b))\n",
    "\n",
    "a = 60\n",
    "b = 2.9 \n",
    "alpha = 0.001 \n",
    "epsilon = 0.001  \n",
    "max_iters = 1000 \n",
    "\n",
    "# Partial derivatives and function\n",
    "func = lambda a,b: 1.0 * a**2 +20.5142857142857*a*b - 165.931428571429 * a + 136.085714285714 * b**2 - 1835.8 * b + 7057.30742857143\n",
    "partialf_a = lambda a,b: 2.0 * a + 20.5142857142857 * b - 165.931428571429\n",
    "partialf_b = lambda a,b: 20.5142857142857 * a + 272.171428571428* b - 1835.8\n",
    "\n",
    "for n in range(max_iters):\n",
    "    a_n = a - alpha * partialf_a(a, b)\n",
    "    b_n = b - alpha * partialf_b(a, b)\n",
    "    print(\"Iteration\", n+1, \": a = \", a_n, \", b = \", b_n, \", E(a,b) = \", func(a_n, b_n))\n",
    "    diff = abs(func(a_n, b_n)-func(a, b))\n",
    "    a = a_n\n",
    "    b = b_n\n",
    "    if diff < epsilon:\n",
    "        print(\"The minimum occurs at iteration {} a={}, b={}, E(a,b)={}\".format(n+1, a, b, func(a,b)))\n",
    "        break\n",
    "    if n+1 == max_iters:\n",
    "        print(\"Did not converge after {} iterations\".format(max_iters))"
   ]
  },
  {
   "cell_type": "code",
   "execution_count": 15,
   "metadata": {},
   "outputs": [
    {
     "data": {
      "image/png": "[encoded data removed]",
      "text/plain": [
       "<Figure size 432x288 with 1 Axes>"
      ]
     },
     "metadata": {
      "needs_background": "light"
     },
     "output_type": "display_data"
    }
   ],
   "source": [
    "import matplotlib.pyplot as plt\n",
    "\n",
    "plt.scatter(x, y)\n",
    "y_pred = a + b * x\n",
    "plt.plot(x, y_pred, 'r')\n",
    "plt.title('y = a + bx')\n",
    "plt.show()"
   ]
  }
 ],
 "metadata": {
  "kernelspec": {
   "display_name": "Python 3",
   "language": "python",
   "name": "python3"
  },
  "language_info": {
   "codemirror_mode": {
    "name": "ipython",
    "version": 3
   },
   "file_extension": ".py",
   "mimetype": "text/x-python",
   "name": "python",
   "nbconvert_exporter": "python",
   "pygments_lexer": "ipython3",
   "version": "3.7.3"
  }
 },
 "nbformat": 4,
 "nbformat_minor": 4
}
