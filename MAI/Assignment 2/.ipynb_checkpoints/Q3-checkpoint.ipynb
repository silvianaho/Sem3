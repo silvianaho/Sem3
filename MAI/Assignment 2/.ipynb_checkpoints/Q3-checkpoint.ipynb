{
 "cells": [
  {
   "cell_type": "code",
   "execution_count": 7,
   "metadata": {},
   "outputs": [
    {
     "data": {
      "text/latex": [
       "$\\displaystyle 1.0 a^{2} + 20.5142857142857 a b + 0.971428571428571 a c - 165.931428571429 a + 136.085714285714 b^{2} + 10.1142857142857 b c - 1835.8 b + 0.485714285714286 c^{2} - 84.1657142857143 c + 7057.30742857143$"
      ],
      "text/plain": [
       "1.0*a**2 + 20.5142857142857*a*b + 0.971428571428571*a*c - 165.931428571429*a + 136.085714285714*b**2 + 10.1142857142857*b*c - 1835.8*b + 0.485714285714286*c**2 - 84.1657142857143*c + 7057.30742857143"
      ]
     },
     "metadata": {},
     "output_type": "display_data"
    },
    {
     "data": {
      "text/latex": [
       "$\\displaystyle 2.0 a + 20.5142857142857 b + 0.971428571428572 c - 165.931428571429$"
      ],
      "text/plain": [
       "2.0*a + 20.5142857142857*b + 0.971428571428572*c - 165.931428571429"
      ]
     },
     "metadata": {},
     "output_type": "display_data"
    },
    {
     "data": {
      "text/latex": [
       "$\\displaystyle 20.5142857142857 a + 272.171428571428 b + 10.1142857142857 c - 1835.8$"
      ],
      "text/plain": [
       "20.5142857142857*a + 272.171428571428*b + 10.1142857142857*c - 1835.8"
      ]
     },
     "metadata": {},
     "output_type": "display_data"
    },
    {
     "data": {
      "text/latex": [
       "$\\displaystyle 0.971428571428572 a + 10.1142857142857 b + 0.971428571428572 c - 84.1657142857143$"
      ],
      "text/plain": [
       "0.971428571428572*a + 10.1142857142857*b + 0.971428571428572*c - 84.1657142857143"
      ]
     },
     "metadata": {},
     "output_type": "display_data"
    },
    {
     "name": "stdout",
     "output_type": "stream",
     "text": [
      "Iteration 1 : a =  59.98061142857143 , b =  2.6549600000000027 , c =  5.99072 , E(a,b,c) =  77.54820221921273\n",
      "Iteration 2 : a =  59.966297469714284 , b =  2.4771044901224535 , c =  5.9839462540408155 , E(a,b,c) =  50.034321479254686\n",
      "Iteration 3 : a =  59.955667297730706 , b =  2.3480183206912617 , c =  5.9789918747233575 , E(a,b,c) =  35.53595917415896\n",
      "Iteration 4 : a =  59.94771130947819 , b =  2.254333898796187 , c =  5.975358249083696 , E(a,b,c) =  27.895911628495924\n",
      "Iteration 5 : a =  59.94169663200768 , b =  2.186347662787234 , c =  5.972683432936126 , E(a,b,c) =  23.869741159376645\n",
      "Iteration 6 : a =  59.93709127135506 , b =  2.137015778422891 , c =  5.970704690226561 , E(a,b,c) =  21.747844441278176\n",
      "Iteration 7 : a =  59.933509052001625 , b =  2.1012251127534762 , c =  5.969231300276404 , E(a,b,c) =  20.62937398780923\n",
      "Iteration 8 : a =  59.93066964832144 , b =  2.0752640326470604 , c =  5.968124818508056 , E(a,b,c) =  20.039642962553444\n",
      "Iteration 9 : a =  59.92836957133137 , b =  2.0564382564115613 , c =  5.96728474766722 , E(a,b,c) =  19.728522907293154\n",
      "Iteration 10 : a =  59.926461107916595 , b =  2.042791999741088 , c =  5.9666381365353445 , E(a,b,c) =  19.564212725138532\n",
      "Iteration 11 : a =  59.92483703277344 , b =  2.032905555016769 , c =  5.966132029614782 , E(a,b,c) =  19.477261985226505\n",
      "Iteration 12 : a =  59.92341951077906 , b =  2.025748353728065 , c =  5.965727986340577 , E(a,b,c) =  19.43107491945466\n",
      "Iteration 13 : a =  59.92215204120001 , b =  2.0205723041989962 , c =  5.965398102565668 , E(a,b,c) =  19.406367986436635\n",
      "Iteration 14 : a =  59.92099360997755 , b =  2.0168343652364413 , c =  5.965122122549254 , E(a,b,c) =  19.39298003924432\n",
      "Iteration 15 : a =  59.91991444486027 , b =  2.014140342191053 , c =  5.9648853425435515 , E(a,b,c) =  19.385556827389337\n",
      "Iteration 16 : a =  59.91889293404656 , b =  2.0122040884087102 , c =  5.964677089003342 , E(a,b,c) =  19.381277015751948\n",
      "Iteration 17 : a =  59.91791338942122 , b =  2.010817889484884 , c =  5.9644896139153305 , E(a,b,c) =  19.378653947515886\n",
      "Iteration 18 : a =  59.916964422884575 , b =  2.0098309651373585 , c =  5.964317292915585 , E(a,b,c) =  19.37690425274741\n",
      "Iteration 19 : a =  59.916037767726586 , b =  2.009133863673883 , c =  5.9641560432014185 , E(a,b,c) =  19.375615147019744\n",
      "Iteration 20 : a =  59.915127423060085 , b =  2.0086471339059306 , c =  5.964002900992501 , E(a,b,c) =  19.37456911987738\n",
      "Iteration 21 : a =  59.91422903276316 , b =  2.0083131020688936 , c =  5.963855714809059 , E(a,b,c) =  19.373651557283665\n",
      "The minimum occurs at iteration 21 a=59.91422903276316, b=2.0083131020688936, c=5.963855714809059, E(a,b,c)=19.373651557283665\n"
     ]
    }
   ],
   "source": [
    "import numpy as np\n",
    "import pandas as pd\n",
    "import sympy as sp  \n",
    "\n",
    "salary = pd.read_excel(\"./salary.xlsx\")\n",
    "n = salary[\"salary\"].count()\n",
    "y = salary[\"salary\"]\n",
    "x = salary[\"years\"]\n",
    "g = salary[\"gender\"]\n",
    "\n",
    "a, b, c = sp.symbols(\"a b c\")\n",
    "E3 = (1/n)*sum( ((y[i] - (a + b * x[i] + c * g[i]))**2) for i in range(n))\n",
    "display(sp.simplify(E3))\n",
    "display(sp.diff(E3, a))\n",
    "display(sp.diff(E3, b))\n",
    "display(sp.diff(E3, c))\n",
    "\n",
    "a = 60\n",
    "b = 2.9\n",
    "c = 6\n",
    "alpha = 0.001 \n",
    "epsilon = 0.001  \n",
    "max_iters = 1000 \n",
    "\n",
    "# Partial derivatives and function\n",
    "func = lambda a,b,c: 1.0*a**2 + 20.5142857142857*a*b + 0.971428571428571*a*c - 165.931428571429*a + 136.085714285714*b**2 +10.1142857142857*b*c - 1835.8*b + 0.485714285714286*c**2 - 84.1657142857143*c + 7057.30742857143\n",
    "partialf_a = lambda a,b,c: 2.0*a + 20.5142857142857*b +0.971428571428572*c - 165.931428571429\n",
    "partialf_b = lambda a,b,c: 20.5142857142857*a + 272.171428571428*b + 10.1142857142857*c - 1835.8\n",
    "partialf_c = lambda a,b,c: 0.971428571428572*a + 10.1142857142857*b + 0.971428571428572*c - 84.1657142857143\n",
    "\n",
    "              \n",
    "for n in range(max_iters):\n",
    "    a_n = a - alpha * partialf_a(a, b, c)\n",
    "    b_n = b - alpha * partialf_b(a, b, c)\n",
    "    c_n = c - alpha * partialf_c(a, b, c)\n",
    "\n",
    "    print(\"Iteration\", n+1, \": a = \", a_n, \", b = \", b_n, \", c = \", c_n, \", E(a,b,c) = \", func(a_n, b_n, c_n))\n",
    "    diff = abs(func(a_n, b_n, c_n)-func(a, b, c))\n",
    "    a = a_n\n",
    "    b = b_n\n",
    "    c = c_n\n",
    "\n",
    "    if diff < epsilon:\n",
    "        print(\"The minimum occurs at iteration {} a={}, b={}, c={}, E(a,b,c)={}\".format(n+1, a, b, c, func(a,b,c)))\n",
    "        break\n",
    "    if n+1 == max_iters:\n",
    "        print(\"Did not converge after {} iterations\".format(max_iters))"
   ]
  }
 ],
 "metadata": {
  "kernelspec": {
   "display_name": "Python 3",
   "language": "python",
   "name": "python3"
  },
  "language_info": {
   "codemirror_mode": {
    "name": "ipython",
    "version": 3
   },
   "file_extension": ".py",
   "mimetype": "text/x-python",
   "name": "python",
   "nbconvert_exporter": "python",
   "pygments_lexer": "ipython3",
   "version": "3.7.3"
  }
 },
 "nbformat": 4,
 "nbformat_minor": 4
}
