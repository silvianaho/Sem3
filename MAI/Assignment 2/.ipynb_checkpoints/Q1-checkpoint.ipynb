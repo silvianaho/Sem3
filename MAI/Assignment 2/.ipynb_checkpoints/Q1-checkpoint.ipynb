{
 "cells": [
  {
   "cell_type": "code",
   "execution_count": 1,
   "metadata": {},
   "outputs": [
    {
     "data": {
      "text/latex": [
       "$\\displaystyle 136.085714285714 b^{2} - 810.085714285715 b + 1260.736$"
      ],
      "text/plain": [
       "136.085714285714*b**2 - 810.085714285715*b + 1260.736"
      ]
     },
     "metadata": {},
     "output_type": "display_data"
    },
    {
     "data": {
      "text/latex": [
       "$\\displaystyle 272.171428571428 b - 810.085714285715$"
      ],
      "text/plain": [
       "272.171428571428*b - 810.085714285715"
      ]
     },
     "metadata": {},
     "output_type": "display_data"
    },
    {
     "name": "stdout",
     "output_type": "stream",
     "text": [
      "Iteration  1 : b-value is:  0.810085714285715 E(b) is:  693.8018701263429\n",
      "Iteration  2 : b-value is:  1.3996892424489813 E(b) is:  393.47734233727715\n",
      "Iteration  3 : b-value is:  1.8288195360612973 E(b) is:  234.3850999777892\n",
      "Iteration  4 : b-value is:  2.1411528246178726 E(b) is:  150.10846175146776\n",
      "Iteration  5 : b-value is:  2.368477915837593 E(b) is:  105.46422488992835\n",
      "Iteration  6 : b-value is:  2.5339316122299116 E(b) is:  81.81463555062919\n",
      "Iteration  7 : b-value is:  2.6543535397127096 E(b) is:  69.28663383672097\n",
      "Iteration  8 : b-value is:  2.7420000591611897 E(b) is:  62.650119997434786\n",
      "Iteration  9 : b-value is:  2.8057917002020636 E(b) is:  59.13453012565651\n",
      "Iteration  10 : b-value is:  2.852221079169927 E(b) is:  57.27220113096905\n",
      "Iteration  11 : b-value is:  2.886013707736423 E(b) is:  56.28566134363564\n",
      "Iteration  12 : b-value is:  2.910608948310792 E(b) is:  55.76305725232464\n",
      "Iteration  13 : b-value is:  2.928510067121977 E(b) is:  55.486215872218054\n",
      "Iteration  14 : b-value is:  2.941539012853295 E(b) is:  55.33956346169634\n",
      "Iteration  15 : b-value is:  2.9510218518121403 E(b) is:  55.26187663069027\n",
      "Iteration  16 : b-value is:  2.957923732944644 E(b) is:  55.22072324159626\n",
      "Iteration  17 : b-value is:  2.9629471192294843 E(b) is:  55.19892287450739\n",
      "Iteration  18 : b-value is:  2.9666032832929132 E(b) is:  55.18737446948717\n",
      "Iteration  19 : b-value is:  2.9692643439601074 E(b) is:  55.18125688174314\n",
      "Iteration  20 : b-value is:  2.971201139943996 E(b) is:  55.178016184890566\n",
      "Iteration  21 : b-value is:  2.9726107953980985 E(b) is:  55.17629947619207\n",
      "Iteration  22 : b-value is:  2.9736367829134642 E(b) is:  55.17539007648952\n",
      "Iteration  23 : b-value is:  2.9743835259410765 E(b) is:  55.17490833615716\n",
      "The minimum occurs at:  2.9743835259410765\n"
     ]
    }
   ],
   "source": [
    "import numpy as np\n",
    "import pandas as pd\n",
    "import sympy as sp  \n",
    "\n",
    "salary = pd.read_excel(\"./salary.xlsx\")\n",
    "n = salary[\"salary\"].count()\n",
    "y = salary[\"salary\"]\n",
    "x = salary[\"years\"]\n",
    "\n",
    "b = sp.symbols(\"b\")\n",
    "E1 = (1/n)*sum( ((y[i] - (50 + b * x[i]))**2) for i in range(n))\n",
    "display(sp.simplify(E1))\n",
    "display(sp.diff(E1))\n",
    "\n",
    "b = 0\n",
    "rate = 0.001\n",
    "epsilon = 0.001\n",
    "diff = 1\n",
    "max_iter = 1000\n",
    "iter = 1\n",
    "Eb = lambda b: 136.085714285714 * (b**2) - 810.085714285715 * b + 1260.736\n",
    "Eb_deriv = lambda b: 272.171428571428 * 𝑏 - 810.085714285715\n",
    "\n",
    "while diff > epsilon and iter < max_iter:\n",
    "    b_new = b - rate * Eb_deriv(b)\n",
    "    print(\"Iteration \", iter, \": b-value is: \", b_new,\"E(b) is: \", Eb(b_new) )\n",
    "    diff = abs(b_new - b)\n",
    "    iter = iter + 1\n",
    "    b = b_new\n",
    "    \n",
    "print(\"The minimum occurs at: \", b)"
   ]
  },
  {
   "cell_type": "code",
   "execution_count": 21,
   "metadata": {},
   "outputs": [
    {
     "data": {
      "image/png": "[encoded data removed]",
      "text/plain": [
       "<Figure size 432x288 with 1 Axes>"
      ]
     },
     "metadata": {
      "needs_background": "light"
     },
     "output_type": "display_data"
    }
   ],
   "source": [
    "import matplotlib.pyplot as plt\n",
    "\n",
    "plt.scatter(x, y)\n",
    "y_pred = 50 + b * x\n",
    "plt.plot(x, y_pred, 'r')\n",
    "plt.title('y = 50 + bx')\n",
    "plt.show()"
   ]
  }
 ],
 "metadata": {
  "kernelspec": {
   "display_name": "Python 3",
   "language": "python",
   "name": "python3"
  },
  "language_info": {
   "codemirror_mode": {
    "name": "ipython",
    "version": 3
   },
   "file_extension": ".py",
   "mimetype": "text/x-python",
   "name": "python",
   "nbconvert_exporter": "python",
   "pygments_lexer": "ipython3",
   "version": "3.7.3"
  }
 },
 "nbformat": 4,
 "nbformat_minor": 4
}
