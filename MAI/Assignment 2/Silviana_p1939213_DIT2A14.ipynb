{
 "cells": [
  {
   "cell_type": "code",
   "execution_count": 6,
   "metadata": {},
   "outputs": [
    {
     "name": "stdout",
     "output_type": "stream",
     "text": [
      "numpy version: 1.18.1\n",
      "pandas version: 1.0.3\n"
     ]
    }
   ],
   "source": [
    "import numpy as np\n",
    "import pandas as pd\n",
    "import matplotlib.pyplot as plt\n",
    "import sympy as sp  \n",
    "\n",
    "print(\"numpy version: {}\".format(np.__version__))\n",
    "print(\"pandas version: {}\".format(pd.__version__))"
   ]
  },
  {
   "cell_type": "code",
   "execution_count": 7,
   "metadata": {},
   "outputs": [
    {
     "data": {
      "text/html": [
       "<div>\n",
       "<style scoped>\n",
       "    .dataframe tbody tr th:only-of-type {\n",
       "        vertical-align: middle;\n",
       "    }\n",
       "\n",
       "    .dataframe tbody tr th {\n",
       "        vertical-align: top;\n",
       "    }\n",
       "\n",
       "    .dataframe thead th {\n",
       "        text-align: right;\n",
       "    }\n",
       "</style>\n",
       "<table border=\"1\" class=\"dataframe\">\n",
       "  <thead>\n",
       "    <tr style=\"text-align: right;\">\n",
       "      <th></th>\n",
       "      <th>salary</th>\n",
       "      <th>years</th>\n",
       "      <th>gender</th>\n",
       "    </tr>\n",
       "  </thead>\n",
       "  <tbody>\n",
       "    <tr>\n",
       "      <th>0</th>\n",
       "      <td>88.0</td>\n",
       "      <td>11</td>\n",
       "      <td>1</td>\n",
       "    </tr>\n",
       "    <tr>\n",
       "      <th>1</th>\n",
       "      <td>77.3</td>\n",
       "      <td>6</td>\n",
       "      <td>1</td>\n",
       "    </tr>\n",
       "    <tr>\n",
       "      <th>2</th>\n",
       "      <td>75.3</td>\n",
       "      <td>7</td>\n",
       "      <td>0</td>\n",
       "    </tr>\n",
       "    <tr>\n",
       "      <th>3</th>\n",
       "      <td>96.4</td>\n",
       "      <td>20</td>\n",
       "      <td>0</td>\n",
       "    </tr>\n",
       "    <tr>\n",
       "      <th>4</th>\n",
       "      <td>87.7</td>\n",
       "      <td>8</td>\n",
       "      <td>1</td>\n",
       "    </tr>\n",
       "  </tbody>\n",
       "</table>\n",
       "</div>"
      ],
      "text/plain": [
       "   salary  years  gender\n",
       "0    88.0     11       1\n",
       "1    77.3      6       1\n",
       "2    75.3      7       0\n",
       "3    96.4     20       0\n",
       "4    87.7      8       1"
      ]
     },
     "execution_count": 7,
     "metadata": {},
     "output_type": "execute_result"
    }
   ],
   "source": [
    "salary = pd.read_excel(\"./salary.xlsx\")\n",
    "salary.head()"
   ]
  },
  {
   "cell_type": "code",
   "execution_count": 8,
   "metadata": {},
   "outputs": [
    {
     "data": {
      "text/html": [
       "<div>\n",
       "<style scoped>\n",
       "    .dataframe tbody tr th:only-of-type {\n",
       "        vertical-align: middle;\n",
       "    }\n",
       "\n",
       "    .dataframe tbody tr th {\n",
       "        vertical-align: top;\n",
       "    }\n",
       "\n",
       "    .dataframe thead th {\n",
       "        text-align: right;\n",
       "    }\n",
       "</style>\n",
       "<table border=\"1\" class=\"dataframe\">\n",
       "  <thead>\n",
       "    <tr style=\"text-align: right;\">\n",
       "      <th></th>\n",
       "      <th>salary</th>\n",
       "      <th>years</th>\n",
       "      <th>gender</th>\n",
       "    </tr>\n",
       "  </thead>\n",
       "  <tbody>\n",
       "    <tr>\n",
       "      <th>count</th>\n",
       "      <td>35.000000</td>\n",
       "      <td>35.000000</td>\n",
       "      <td>35.000000</td>\n",
       "    </tr>\n",
       "    <tr>\n",
       "      <th>mean</th>\n",
       "      <td>82.965714</td>\n",
       "      <td>10.257143</td>\n",
       "      <td>0.485714</td>\n",
       "    </tr>\n",
       "    <tr>\n",
       "      <th>std</th>\n",
       "      <td>13.383395</td>\n",
       "      <td>5.637808</td>\n",
       "      <td>0.507093</td>\n",
       "    </tr>\n",
       "    <tr>\n",
       "      <th>min</th>\n",
       "      <td>58.100000</td>\n",
       "      <td>2.000000</td>\n",
       "      <td>0.000000</td>\n",
       "    </tr>\n",
       "    <tr>\n",
       "      <th>25%</th>\n",
       "      <td>75.050000</td>\n",
       "      <td>6.000000</td>\n",
       "      <td>0.000000</td>\n",
       "    </tr>\n",
       "    <tr>\n",
       "      <th>50%</th>\n",
       "      <td>83.800000</td>\n",
       "      <td>8.000000</td>\n",
       "      <td>0.000000</td>\n",
       "    </tr>\n",
       "    <tr>\n",
       "      <th>75%</th>\n",
       "      <td>94.150000</td>\n",
       "      <td>14.000000</td>\n",
       "      <td>1.000000</td>\n",
       "    </tr>\n",
       "    <tr>\n",
       "      <th>max</th>\n",
       "      <td>104.500000</td>\n",
       "      <td>21.000000</td>\n",
       "      <td>1.000000</td>\n",
       "    </tr>\n",
       "  </tbody>\n",
       "</table>\n",
       "</div>"
      ],
      "text/plain": [
       "           salary      years     gender\n",
       "count   35.000000  35.000000  35.000000\n",
       "mean    82.965714  10.257143   0.485714\n",
       "std     13.383395   5.637808   0.507093\n",
       "min     58.100000   2.000000   0.000000\n",
       "25%     75.050000   6.000000   0.000000\n",
       "50%     83.800000   8.000000   0.000000\n",
       "75%     94.150000  14.000000   1.000000\n",
       "max    104.500000  21.000000   1.000000"
      ]
     },
     "execution_count": 8,
     "metadata": {},
     "output_type": "execute_result"
    }
   ],
   "source": [
    "salary.describe()"
   ]
  },
  {
   "cell_type": "code",
   "execution_count": 9,
   "metadata": {},
   "outputs": [
    {
     "data": {
      "text/plain": [
       "<matplotlib.collections.PathCollection at 0x1c65b16e240>"
      ]
     },
     "execution_count": 9,
     "metadata": {},
     "output_type": "execute_result"
    },
    {
     "data": {
      "image/png": "[encoded data removed]",
      "text/plain": [
       "<Figure size 432x288 with 1 Axes>"
      ]
     },
     "metadata": {
      "needs_background": "light"
     },
     "output_type": "display_data"
    }
   ],
   "source": [
    "x = salary[\"years\"]\n",
    "y = salary[\"salary\"]\n",
    "\n",
    "plt.scatter(x, y)"
   ]
  },
  {
   "cell_type": "markdown",
   "metadata": {},
   "source": [
    "## Model 1:  SLR with intercept $a$ fixed $\\Rightarrow \\hat{y_i} = 50 + bx_i$ "
   ]
  },
  {
   "cell_type": "markdown",
   "metadata": {},
   "source": [
    "(a) Express Error function $E(b)$ in terms of b only. Hence, derive $E'(b)$."
   ]
  },
  {
   "cell_type": "code",
   "execution_count": 10,
   "metadata": {},
   "outputs": [],
   "source": [
    "n = salary[\"salary\"].count()\n",
    "y = salary[\"salary\"]\n",
    "x = salary[\"years\"]"
   ]
  },
  {
   "cell_type": "code",
   "execution_count": 11,
   "metadata": {},
   "outputs": [
    {
     "data": {
      "text/latex": [
       "$\\displaystyle 136.085714285714 b^{2} - 810.085714285715 b + 1260.736$"
      ],
      "text/plain": [
       "136.085714285714*b**2 - 810.085714285715*b + 1260.736"
      ]
     },
     "execution_count": 11,
     "metadata": {},
     "output_type": "execute_result"
    }
   ],
   "source": [
    "b = sp.symbols(\"b\")\n",
    "E1 = (1/n)*sum( ((y[i] - (50 + b * x[i]))**2) for i in range(n))\n",
    "sp.simplify(E1)"
   ]
  },
  {
   "cell_type": "code",
   "execution_count": 12,
   "metadata": {},
   "outputs": [
    {
     "data": {
      "text/latex": [
       "$\\displaystyle 272.171428571428 b - 810.085714285715$"
      ],
      "text/plain": [
       "272.171428571428*b - 810.085714285715"
      ]
     },
     "execution_count": 12,
     "metadata": {},
     "output_type": "execute_result"
    }
   ],
   "source": [
    "sp.diff(E1)"
   ]
  },
  {
   "cell_type": "markdown",
   "metadata": {},
   "source": [
    "(b) Use univariate gradient descent algorithm to find the value of b for which 𝐸(𝑏) is at its minimum. Write your Python code in a single cell and copy-paste your code below."
   ]
  },
  {
   "cell_type": "code",
   "execution_count": 109,
   "metadata": {},
   "outputs": [
    {
     "name": "stdout",
     "output_type": "stream",
     "text": [
      "Iteration  1 : b-value is:  0.810085714285715 E(b) is:  693.8018701263429\n",
      "Iteration  2 : b-value is:  1.3996892424489813 E(b) is:  393.47734233727715\n",
      "Iteration  3 : b-value is:  1.8288195360612973 E(b) is:  234.3850999777892\n",
      "Iteration  4 : b-value is:  2.1411528246178726 E(b) is:  150.10846175146776\n",
      "Iteration  5 : b-value is:  2.368477915837593 E(b) is:  105.46422488992835\n",
      "Iteration  6 : b-value is:  2.5339316122299116 E(b) is:  81.81463555062919\n",
      "Iteration  7 : b-value is:  2.6543535397127096 E(b) is:  69.28663383672097\n",
      "Iteration  8 : b-value is:  2.7420000591611897 E(b) is:  62.650119997434786\n",
      "Iteration  9 : b-value is:  2.8057917002020636 E(b) is:  59.13453012565651\n",
      "Iteration  10 : b-value is:  2.852221079169927 E(b) is:  57.27220113096905\n",
      "Iteration  11 : b-value is:  2.886013707736423 E(b) is:  56.28566134363564\n",
      "Iteration  12 : b-value is:  2.910608948310792 E(b) is:  55.76305725232464\n",
      "Iteration  13 : b-value is:  2.928510067121977 E(b) is:  55.486215872218054\n",
      "Iteration  14 : b-value is:  2.941539012853295 E(b) is:  55.33956346169634\n",
      "Iteration  15 : b-value is:  2.9510218518121403 E(b) is:  55.26187663069027\n",
      "Iteration  16 : b-value is:  2.957923732944644 E(b) is:  55.22072324159626\n",
      "Iteration  17 : b-value is:  2.9629471192294843 E(b) is:  55.19892287450739\n",
      "Iteration  18 : b-value is:  2.9666032832929132 E(b) is:  55.18737446948717\n",
      "Iteration  19 : b-value is:  2.9692643439601074 E(b) is:  55.18125688174314\n",
      "Iteration  20 : b-value is:  2.971201139943996 E(b) is:  55.178016184890566\n",
      "Iteration  21 : b-value is:  2.9726107953980985 E(b) is:  55.17629947619207\n",
      "Iteration  22 : b-value is:  2.9736367829134642 E(b) is:  55.17539007648952\n",
      "Iteration  23 : b-value is:  2.9743835259410765 E(b) is:  55.17490833615716\n",
      "The local minimum occurs at:  2.9743835259410765\n"
     ]
    }
   ],
   "source": [
    "b_1 = 0\n",
    "rate = 0.001\n",
    "epsilon = 0.001\n",
    "diff = 1\n",
    "max_iter = 1000\n",
    "iter = 1\n",
    "E1 = lambda b: 136.085714285714 * (b**2) - 810.085714285715 * b + 1260.736\n",
    "E1_deriv = lambda b: 272.171428571428 * 𝑏 - 810.085714285715\n",
    "\n",
    "while diff > epsilon and iter < max_iter:\n",
    "    b_new = b_1 - rate * E1_deriv(b_1)\n",
    "    print(\"Iteration \", iter, \": b-value is: \", b_new,\"E(b) is: \", E1(b_new) )\n",
    "    diff = abs(b_new - b_1)\n",
    "    iter = iter + 1\n",
    "    b_1 = b_new\n",
    "    \n",
    "print(\"The local minimum occurs at: \", b_1)"
   ]
  },
  {
   "cell_type": "markdown",
   "metadata": {},
   "source": [
    "## Model 2:  SLR $\\Rightarrow \\hat{ y_i } = a + b x_i$ "
   ]
  },
  {
   "cell_type": "code",
   "execution_count": 14,
   "metadata": {},
   "outputs": [
    {
     "data": {
      "text/latex": [
       "$\\displaystyle 1.0 a^{2} + 20.5142857142857 a b - 165.931428571429 a + 136.085714285714 b^{2} - 1835.8 b + 7057.30742857143$"
      ],
      "text/plain": [
       "1.0*a**2 + 20.5142857142857*a*b - 165.931428571429*a + 136.085714285714*b**2 - 1835.8*b + 7057.30742857143"
      ]
     },
     "execution_count": 14,
     "metadata": {},
     "output_type": "execute_result"
    }
   ],
   "source": [
    "a, b = sp.symbols(\"a b\")\n",
    "E2 = (1/n)*sum( ((y[i] - (a + b * x[i]))**2) for i in range(n))\n",
    "sp.simplify(E2)"
   ]
  },
  {
   "cell_type": "code",
   "execution_count": 15,
   "metadata": {},
   "outputs": [
    {
     "data": {
      "text/latex": [
       "$\\displaystyle 2.0 a + 20.5142857142857 b - 165.931428571429$"
      ],
      "text/plain": [
       "2.0*a + 20.5142857142857*b - 165.931428571429"
      ]
     },
     "execution_count": 15,
     "metadata": {},
     "output_type": "execute_result"
    }
   ],
   "source": [
    "partial_a = sp.diff(E2, a)\n",
    "partial_a"
   ]
  },
  {
   "cell_type": "code",
   "execution_count": 16,
   "metadata": {},
   "outputs": [
    {
     "data": {
      "text/latex": [
       "$\\displaystyle 20.5142857142857 a + 272.171428571428 b - 1835.8$"
      ],
      "text/plain": [
       "20.5142857142857*a + 272.171428571428*b - 1835.8"
      ]
     },
     "execution_count": 16,
     "metadata": {},
     "output_type": "execute_result"
    }
   ],
   "source": [
    "partial_b = sp.diff(E2, b)\n",
    "partial_b"
   ]
  },
  {
   "cell_type": "code",
   "execution_count": 106,
   "metadata": {
    "scrolled": true
   },
   "outputs": [
    {
     "name": "stdout",
     "output_type": "stream",
     "text": [
      "Iteration 1 : a =  59.98644 , b =  2.7156457142857167 , E(a,b) =  62.074453333760175\n",
      "Iteration 2 : a =  59.9766890164898 , b =  2.5817455715918407 , E(a,b) =  46.51691771528385\n",
      "Iteration 3 : a =  59.969704400731025 , b =  2.4844892564825987 , E(a,b) =  38.310532433484696\n",
      "Iteration 4 : a =  59.96472889803943 , b =  2.413846615997512 , E(a,b) =  33.981749110957935\n",
      "Iteration 5 : a =  59.96121252966375 , b =  2.362532952775097 , E(a,b) =  31.698332357486834\n",
      "Iteration 6 : a =  59.95875585717321 , b =  2.325257538362695 , E(a,b) =  30.493810380961804\n",
      "Iteration 7 : a =  59.95706877652902 , b =  2.298177823622886 , E(a,b) =  29.8583863889271\n",
      "Iteration 8 : a =  59.95594059105136 , b =  2.278503042783475 , E(a,b) =  29.523151581605816\n",
      "Iteration 9 : a =  59.955218276020155 , b =  2.2642063190711843 , E(a,b) =  29.34626131879304\n",
      "Iteration 10 : a =  59.954790692694026 , b =  2.2538155728524845 , E(a,b) =  29.252895059176808\n",
      "Iteration 11 : a =  59.954577123271264 , b =  2.24626166244257 , E(a,b) =  29.203586289273517\n",
      "Iteration 12 : a =  59.95451894406376 , b =  2.240768091844381 , E(a,b) =  29.17751712055815\n",
      "Iteration 13 : a =  59.95457357789151 , b =  2.2367709077087445 , E(a,b) =  29.163706484650902\n",
      "Iteration 14 : a =  59.954710101829015 , b =  2.2338605221156156 , E(a,b) =  29.15636206196723\n",
      "Iteration 15 : a =  59.95490605720024 , b =  2.231739459636001 , E(a,b) =  29.152428506231445\n",
      "Iteration 16 : a =  59.95514513274245 , b =  2.2301916698770796 , E(a,b) =  29.150294176224634\n",
      "Iteration 17 : a =  59.95541548193492 , b =  2.229060239803992 , E(a,b) =  29.14910895963294\n",
      "Iteration 18 : a =  59.955708500908784 , b =  2.228231206649648 , E(a,b) =  29.148424437186804\n",
      "The local minimum occurs at iteration 18 a=59.955708500908784, b=2.228231206649648, E(a,b)=29.148424437186804\n"
     ]
    }
   ],
   "source": [
    "a_2 = 60 # Initial point\n",
    "b_2 = 2.9 # Initial point\n",
    "alpha = 0.001 # Learning rate\n",
    "epsilon = 0.001 # Stopping criterion constant\n",
    "max_iters = 1000 # Maximum number of iterations\n",
    "\n",
    "# Partial derivatives and function\n",
    "E2 = lambda a,b: 1.0 * a**2 +20.5142857142857*a*b - 165.931428571429 * a + 136.085714285714 * b**2 - 1835.8 * b + 7057.30742857143\n",
    "partialf_a = lambda a,b: 2.0 * a + 20.5142857142857 * b - 165.931428571429\n",
    "partialf_b = lambda a,b: 20.5142857142857 * a + 272.171428571428* b - 1835.8\n",
    "              \n",
    "for n in range(max_iters):\n",
    "    a_n = a_2 - alpha * partialf_a(a_2, b_2)\n",
    "    b_n = b_2 - alpha * partialf_b(a_2, b_2)\n",
    "    print(\"Iteration\", n+1, \": a = \", a_n, \", b = \", b_n, \", E(a,b) = \", E2(a_n, b_n))\n",
    "    diff = abs(E2(a_n, b_n)-E2(a_2, b_2))\n",
    "    a_2 = a_n\n",
    "    b_2 = b_n\n",
    "    if diff < epsilon:\n",
    "        print(\"The local minimum occurs at iteration {} a={}, b={}, E(a,b)={}\".format(n+1, a_2, b_2, E2(a_2,b_2)))\n",
    "        break\n",
    "    if n+1 == max_iters:\n",
    "        print(\"Did not converge after {} iterations\".format(max_iters))"
   ]
  },
  {
   "cell_type": "markdown",
   "metadata": {},
   "source": [
    "## Model 3:  MLR $\\Rightarrow \\hat{ y_i } = a + bx_i +c g_i$ "
   ]
  },
  {
   "cell_type": "code",
   "execution_count": 18,
   "metadata": {},
   "outputs": [],
   "source": [
    "n = salary[\"salary\"].count()\n",
    "y = salary[\"salary\"]\n",
    "x = salary[\"years\"]\n",
    "g = salary[\"gender\"]"
   ]
  },
  {
   "cell_type": "code",
   "execution_count": 19,
   "metadata": {},
   "outputs": [
    {
     "data": {
      "text/latex": [
       "$\\displaystyle 1.0 a^{2} + 20.5142857142857 a b + 0.971428571428571 a c - 165.931428571429 a + 136.085714285714 b^{2} + 10.1142857142857 b c - 1835.8 b + 0.485714285714286 c^{2} - 84.1657142857143 c + 7057.30742857143$"
      ],
      "text/plain": [
       "1.0*a**2 + 20.5142857142857*a*b + 0.971428571428571*a*c - 165.931428571429*a + 136.085714285714*b**2 + 10.1142857142857*b*c - 1835.8*b + 0.485714285714286*c**2 - 84.1657142857143*c + 7057.30742857143"
      ]
     },
     "execution_count": 19,
     "metadata": {},
     "output_type": "execute_result"
    }
   ],
   "source": [
    "a, b, c = sp.symbols(\"a b c\")\n",
    "E3 = (1/n)*sum( ((y[i] - (a + b * x[i] + c * g[i]))**2) for i in range(n))\n",
    "sp.simplify(E3)"
   ]
  },
  {
   "cell_type": "code",
   "execution_count": 20,
   "metadata": {},
   "outputs": [
    {
     "data": {
      "text/latex": [
       "$\\displaystyle 2.0 a + 20.5142857142857 b + 0.971428571428572 c - 165.931428571429$"
      ],
      "text/plain": [
       "2.0*a + 20.5142857142857*b + 0.971428571428572*c - 165.931428571429"
      ]
     },
     "execution_count": 20,
     "metadata": {},
     "output_type": "execute_result"
    }
   ],
   "source": [
    "partial_a = sp.diff(E3, a)\n",
    "partial_a"
   ]
  },
  {
   "cell_type": "code",
   "execution_count": 21,
   "metadata": {},
   "outputs": [
    {
     "data": {
      "text/latex": [
       "$\\displaystyle 20.5142857142857 a + 272.171428571428 b + 10.1142857142857 c - 1835.8$"
      ],
      "text/plain": [
       "20.5142857142857*a + 272.171428571428*b + 10.1142857142857*c - 1835.8"
      ]
     },
     "execution_count": 21,
     "metadata": {},
     "output_type": "execute_result"
    }
   ],
   "source": [
    "partial_b = sp.diff(E3, b)\n",
    "partial_b"
   ]
  },
  {
   "cell_type": "code",
   "execution_count": 22,
   "metadata": {},
   "outputs": [
    {
     "data": {
      "text/latex": [
       "$\\displaystyle 0.971428571428572 a + 10.1142857142857 b + 0.971428571428572 c - 84.1657142857143$"
      ],
      "text/plain": [
       "0.971428571428572*a + 10.1142857142857*b + 0.971428571428572*c - 84.1657142857143"
      ]
     },
     "execution_count": 22,
     "metadata": {},
     "output_type": "execute_result"
    }
   ],
   "source": [
    "partial_c = sp.diff(E3, c)\n",
    "partial_c"
   ]
  },
  {
   "cell_type": "code",
   "execution_count": 107,
   "metadata": {},
   "outputs": [
    {
     "name": "stdout",
     "output_type": "stream",
     "text": [
      "Iteration 1 : a =  59.98061142857143 , b =  2.6549600000000027 , c =  5.99072 , E(a,b,c) =  77.54820221921273\n",
      "Iteration 2 : a =  59.966297469714284 , b =  2.4771044901224535 , c =  5.9839462540408155 , E(a,b,c) =  50.034321479254686\n",
      "Iteration 3 : a =  59.955667297730706 , b =  2.3480183206912617 , c =  5.9789918747233575 , E(a,b,c) =  35.53595917415896\n",
      "Iteration 4 : a =  59.94771130947819 , b =  2.254333898796187 , c =  5.975358249083696 , E(a,b,c) =  27.895911628495924\n",
      "Iteration 5 : a =  59.94169663200768 , b =  2.186347662787234 , c =  5.972683432936126 , E(a,b,c) =  23.869741159376645\n",
      "Iteration 6 : a =  59.93709127135506 , b =  2.137015778422891 , c =  5.970704690226561 , E(a,b,c) =  21.747844441278176\n",
      "Iteration 7 : a =  59.933509052001625 , b =  2.1012251127534762 , c =  5.969231300276404 , E(a,b,c) =  20.62937398780923\n",
      "Iteration 8 : a =  59.93066964832144 , b =  2.0752640326470604 , c =  5.968124818508056 , E(a,b,c) =  20.039642962553444\n",
      "Iteration 9 : a =  59.92836957133137 , b =  2.0564382564115613 , c =  5.96728474766722 , E(a,b,c) =  19.728522907293154\n",
      "Iteration 10 : a =  59.926461107916595 , b =  2.042791999741088 , c =  5.9666381365353445 , E(a,b,c) =  19.564212725138532\n",
      "Iteration 11 : a =  59.92483703277344 , b =  2.032905555016769 , c =  5.966132029614782 , E(a,b,c) =  19.477261985226505\n",
      "Iteration 12 : a =  59.92341951077906 , b =  2.025748353728065 , c =  5.965727986340577 , E(a,b,c) =  19.43107491945466\n",
      "Iteration 13 : a =  59.92215204120001 , b =  2.0205723041989962 , c =  5.965398102565668 , E(a,b,c) =  19.406367986436635\n",
      "Iteration 14 : a =  59.92099360997755 , b =  2.0168343652364413 , c =  5.965122122549254 , E(a,b,c) =  19.39298003924432\n",
      "Iteration 15 : a =  59.91991444486027 , b =  2.014140342191053 , c =  5.9648853425435515 , E(a,b,c) =  19.385556827389337\n",
      "Iteration 16 : a =  59.91889293404656 , b =  2.0122040884087102 , c =  5.964677089003342 , E(a,b,c) =  19.381277015751948\n",
      "Iteration 17 : a =  59.91791338942122 , b =  2.010817889484884 , c =  5.9644896139153305 , E(a,b,c) =  19.378653947515886\n",
      "Iteration 18 : a =  59.916964422884575 , b =  2.0098309651373585 , c =  5.964317292915585 , E(a,b,c) =  19.37690425274741\n",
      "Iteration 19 : a =  59.916037767726586 , b =  2.009133863673883 , c =  5.9641560432014185 , E(a,b,c) =  19.375615147019744\n",
      "Iteration 20 : a =  59.915127423060085 , b =  2.0086471339059306 , c =  5.964002900992501 , E(a,b,c) =  19.37456911987738\n",
      "Iteration 21 : a =  59.91422903276316 , b =  2.0083131020688936 , c =  5.963855714809059 , E(a,b,c) =  19.373651557283665\n",
      "The minimum occurs at iteration 21 a=59.91422903276316, b=2.0083131020688936, c=5.963855714809059, E(a,b,c)=19.373651557283665\n"
     ]
    }
   ],
   "source": [
    "a_3 =60 # Initial point\n",
    "b_3 = 2.9 # Initial point\n",
    "c_3 = 6 # Initial point\n",
    "alpha = 0.001 # Learning rate\n",
    "epsilon = 0.001 # Stopping criterion constant\n",
    "max_iters = 1000 # Maximum number of iterations\n",
    "\n",
    "# Partial derivatives and function\n",
    "E3 = lambda a,b,c: 1.0*a**2 + 20.5142857142857*a*b + 0.971428571428571*a*c - 165.931428571429*a + 136.085714285714*b**2 +10.1142857142857*b*c - 1835.8*b + 0.485714285714286*c**2 - 84.1657142857143*c + 7057.30742857143\n",
    "partialf_a = lambda a,b,c: 2.0*a + 20.5142857142857*b +0.971428571428572*c - 165.931428571429\n",
    "partialf_b = lambda a,b,c: 20.5142857142857*a + 272.171428571428*b + 10.1142857142857*c - 1835.8\n",
    "partialf_c = lambda a,b,c: 0.971428571428572*a + 10.1142857142857*b + 0.971428571428572*c - 84.1657142857143\n",
    "\n",
    "for n in range(max_iters):\n",
    "    a_n = a_3 - alpha * partialf_a(a_3, b_3, c_3)\n",
    "    b_n = b_3 - alpha * partialf_b(a_3, b_3, c_3)\n",
    "    c_n = c_3 - alpha * partialf_c(a_3, b_3, c_3)\n",
    "\n",
    "    print(\"Iteration\", n+1, \": a = \", a_n, \", b = \", b_n, \", c = \", c_n, \", E(a,b,c) = \", E3(a_n, b_n, c_n))\n",
    "    diff = abs(E3(a_n, b_n, c_n)-E3(a_3, b_3, c_3))\n",
    "    a_3 = a_n\n",
    "    b_3 = b_n\n",
    "    c_3 = c_n\n",
    "\n",
    "    if diff < epsilon:\n",
    "        print(\"The minimum occurs at iteration {} a={}, b={}, c={}, E(a,b,c)={}\".format(n+1, a_3, b_3, c_3, E3(a_3,b_3,c_3)))\n",
    "        break\n",
    "    if n+1 == max_iters:\n",
    "        print(\"Did not converge after {} iterations\".format(max_iters))"
   ]
  },
  {
   "cell_type": "code",
   "execution_count": 110,
   "metadata": {},
   "outputs": [
    {
     "data": {
      "image/png": "[encoded data removed]",
      "text/plain": [
       "<Figure size 1440x360 with 3 Axes>"
      ]
     },
     "metadata": {
      "needs_background": "light"
     },
     "output_type": "display_data"
    }
   ],
   "source": [
    "import matplotlib.pyplot as plt\n",
    "\n",
    "fig, ax = plt.subplots(1, 3, figsize=(20, 5))\n",
    "plt.suptitle(\"Linear Regression For salary.xlsx\")\n",
    "\n",
    "ax1 = ax[0]\n",
    "ax1.scatter(x, y)\n",
    "y_pred_1 = 50 + b_1 * x\n",
    "ax1.plot(x, y_pred_1, 'r')\n",
    "ax1.set_title(\"y = 50 + {:.3f}x, E(b) = {:.3f}\".format(b_1, E1(b_1)))\n",
    "ax1.set_xlabel(\"Year(s)\")\n",
    "ax1.set_ylabel(\"Salary\")\n",
    "\n",
    "ax2 = ax[1]\n",
    "ax2.scatter(x, y)\n",
    "y_pred_2 = a_2 + b_2 * x\n",
    "ax2.plot(x, y_pred_2, 'r')\n",
    "ax2.set_title(\"y = {:.3f} + {:.3f}x, E(a, b) = {:.3f}\".format(a_2, b_2, E2(a_2, b_2)))\n",
    "ax2.set_xlabel(\"Year(s)\")\n",
    "ax2.set_ylabel(\"Salary\")\n",
    "\n",
    "ax3 = ax[2]\n",
    "for gender in np.unique(g):\n",
    "    ix = np.where(gender == g)\n",
    "    y_pred_3 = a_3 + b_3 * np.array(x)[ix] + c_3 * np.array(g)[ix]\n",
    "    ax3.scatter(np.array(x)[ix], np.array(y)[ix], label = gender)\n",
    "    ax3.plot(np.array(x)[ix], y_pred_3)\n",
    "ax3.set_title('y = {:.3f} + {:.3f}x + {:.3f}g, E(a, b, c) = {:.3f}'.format(a_3, b_3, c_3, E3(a_3, b_3, c_3)))\n",
    "ax3.set_xlabel(\"Year(s)\")\n",
    "ax3.set_ylabel(\"Salary\")\n",
    "ax3.legend()\n",
    "\n",
    "plt.show()"
   ]
  },
  {
   "cell_type": "code",
   "execution_count": null,
   "metadata": {},
   "outputs": [],
   "source": []
  }
 ],
 "metadata": {
  "kernelspec": {
   "display_name": "Python 3",
   "language": "python",
   "name": "python3"
  },
  "language_info": {
   "codemirror_mode": {
    "name": "ipython",
    "version": 3
   },
   "file_extension": ".py",
   "mimetype": "text/x-python",
   "name": "python",
   "nbconvert_exporter": "python",
   "pygments_lexer": "ipython3",
   "version": "3.7.3"
  },
  "toc": {
   "base_numbering": 1,
   "nav_menu": {},
   "number_sections": true,
   "sideBar": true,
   "skip_h1_title": false,
   "title_cell": "Table of Contents",
   "title_sidebar": "Contents",
   "toc_cell": false,
   "toc_position": {},
   "toc_section_display": true,
   "toc_window_display": false
  }
 },
 "nbformat": 4,
 "nbformat_minor": 4
}
